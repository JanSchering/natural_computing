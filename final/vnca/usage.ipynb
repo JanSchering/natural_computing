{
 "cells": [
  {
   "cell_type": "code",
   "execution_count": 1,
   "metadata": {},
   "outputs": [
    {
     "name": "stderr",
     "output_type": "stream",
     "text": [
      "c:\\Users\\jsche\\anaconda3\\envs\\torch\\lib\\site-packages\\tqdm\\auto.py:22: TqdmWarning: IProgress not found. Please update jupyter and ipywidgets. See https://ipywidgets.readthedocs.io/en/stable/user_install.html\n",
      "  from .autonotebook import tqdm as notebook_tqdm\n"
     ]
    }
   ],
   "source": [
    "from os import getcwd\n",
    "from os.path import join\n",
    "import matplotlib.pyplot as plt\n",
    "\n",
    "import torch as t\n",
    "import math\n",
    "\n",
    "from data import PokemonIMG\n",
    "from loss import elbo\n",
    "from init import init_vnca"
   ]
  },
  {
   "cell_type": "markdown",
   "metadata": {},
   "source": [
    "## Instantiate the VNCA"
   ]
  },
  {
   "cell_type": "code",
   "execution_count": 2,
   "metadata": {},
   "outputs": [
    {
     "name": "stdout",
     "output_type": "stream",
     "text": [
      "VNCA(\n",
      "  (encoder): Sequential(\n",
      "    (0): Conv2d(3, 32, kernel_size=(5, 5), stride=(1, 1), padding=(2, 2))\n",
      "    (1): ELU(alpha=1.0)\n",
      "    (2): Conv2d(32, 64, kernel_size=(5, 5), stride=(2, 2), padding=(2, 2))\n",
      "    (3): ELU(alpha=1.0)\n",
      "    (4): Conv2d(64, 128, kernel_size=(5, 5), stride=(2, 2), padding=(2, 2))\n",
      "    (5): ELU(alpha=1.0)\n",
      "    (6): Conv2d(128, 256, kernel_size=(5, 5), stride=(2, 2), padding=(2, 2))\n",
      "    (7): ELU(alpha=1.0)\n",
      "    (8): Conv2d(256, 512, kernel_size=(5, 5), stride=(2, 2), padding=(2, 2))\n",
      "    (9): ELU(alpha=1.0)\n",
      "    (10): Flatten(start_dim=1, end_dim=-1)\n",
      "    (11): Linear(in_features=2048, out_features=512, bias=True)\n",
      "  )\n",
      "  (nca): NCA(\n",
      "    (update_net): Sequential(\n",
      "      (0): Conv2d(256, 128, kernel_size=(3, 3), stride=(1, 1), padding=(1, 1))\n",
      "      (1): Residual(\n",
      "        (delegate): Sequential(\n",
      "          (0): Conv2d(128, 128, kernel_size=(1, 1), stride=(1, 1))\n",
      "          (1): ELU(alpha=1.0)\n",
      "          (2): Conv2d(128, 128, kernel_size=(1, 1), stride=(1, 1))\n",
      "        )\n",
      "      )\n",
      "      (2): Residual(\n",
      "        (delegate): Sequential(\n",
      "          (0): Conv2d(128, 128, kernel_size=(1, 1), stride=(1, 1))\n",
      "          (1): ELU(alpha=1.0)\n",
      "          (2): Conv2d(128, 128, kernel_size=(1, 1), stride=(1, 1))\n",
      "        )\n",
      "      )\n",
      "      (3): Residual(\n",
      "        (delegate): Sequential(\n",
      "          (0): Conv2d(128, 128, kernel_size=(1, 1), stride=(1, 1))\n",
      "          (1): ELU(alpha=1.0)\n",
      "          (2): Conv2d(128, 128, kernel_size=(1, 1), stride=(1, 1))\n",
      "        )\n",
      "      )\n",
      "      (4): Residual(\n",
      "        (delegate): Sequential(\n",
      "          (0): Conv2d(128, 128, kernel_size=(1, 1), stride=(1, 1))\n",
      "          (1): ELU(alpha=1.0)\n",
      "          (2): Conv2d(128, 128, kernel_size=(1, 1), stride=(1, 1))\n",
      "        )\n",
      "      )\n",
      "      (5): Conv2d(128, 256, kernel_size=(1, 1), stride=(1, 1))\n",
      "    )\n",
      "  )\n",
      ")\n",
      "encoder.0.weight torch.Size([32, 3, 5, 5]) 2400 0.0\n",
      "encoder.0.bias torch.Size([32]) 32 0.0\n",
      "encoder.2.weight torch.Size([64, 32, 5, 5]) 51200 0.9\n",
      "encoder.2.bias torch.Size([64]) 64 0.0\n",
      "encoder.4.weight torch.Size([128, 64, 5, 5]) 204800 3.5\n",
      "encoder.4.bias torch.Size([128]) 128 0.0\n",
      "encoder.6.weight torch.Size([256, 128, 5, 5]) 819200 14.0\n",
      "encoder.6.bias torch.Size([256]) 256 0.0\n",
      "encoder.8.weight torch.Size([512, 256, 5, 5]) 3276800 55.9\n",
      "encoder.8.bias torch.Size([512]) 512 0.0\n",
      "encoder.11.weight torch.Size([512, 2048]) 1048576 17.9\n",
      "encoder.11.bias torch.Size([512]) 512 0.0\n",
      "nca.update_net.0.weight torch.Size([128, 256, 3, 3]) 294912 5.0\n",
      "nca.update_net.0.bias torch.Size([128]) 128 0.0\n",
      "nca.update_net.1.delegate.0.weight torch.Size([128, 128, 1, 1]) 16384 0.3\n",
      "nca.update_net.1.delegate.0.bias torch.Size([128]) 128 0.0\n",
      "nca.update_net.1.delegate.2.weight torch.Size([128, 128, 1, 1]) 16384 0.3\n",
      "nca.update_net.1.delegate.2.bias torch.Size([128]) 128 0.0\n",
      "nca.update_net.2.delegate.0.weight torch.Size([128, 128, 1, 1]) 16384 0.3\n",
      "nca.update_net.2.delegate.0.bias torch.Size([128]) 128 0.0\n",
      "nca.update_net.2.delegate.2.weight torch.Size([128, 128, 1, 1]) 16384 0.3\n",
      "nca.update_net.2.delegate.2.bias torch.Size([128]) 128 0.0\n",
      "nca.update_net.3.delegate.0.weight torch.Size([128, 128, 1, 1]) 16384 0.3\n",
      "nca.update_net.3.delegate.0.bias torch.Size([128]) 128 0.0\n",
      "nca.update_net.3.delegate.2.weight torch.Size([128, 128, 1, 1]) 16384 0.3\n",
      "nca.update_net.3.delegate.2.bias torch.Size([128]) 128 0.0\n",
      "nca.update_net.4.delegate.0.weight torch.Size([128, 128, 1, 1]) 16384 0.3\n",
      "nca.update_net.4.delegate.0.bias torch.Size([128]) 128 0.0\n",
      "nca.update_net.4.delegate.2.weight torch.Size([128, 128, 1, 1]) 16384 0.3\n",
      "nca.update_net.4.delegate.2.bias torch.Size([128]) 128 0.0\n",
      "nca.update_net.5.weight torch.Size([256, 128, 1, 1]) 32768 0.6\n",
      "nca.update_net.5.bias torch.Size([256]) 256 0.0\n",
      "Total: 5864640\n"
     ]
    }
   ],
   "source": [
    "vnca = init_vnca()"
   ]
  },
  {
   "cell_type": "markdown",
   "metadata": {},
   "source": [
    "## Load in the parameters from the trained VNCA"
   ]
  },
  {
   "cell_type": "code",
   "execution_count": 3,
   "metadata": {},
   "outputs": [],
   "source": [
    "param_path = join(getcwd(), \"latest\")\n",
    "\n",
    "vnca.load(param_path)"
   ]
  },
  {
   "cell_type": "markdown",
   "metadata": {},
   "source": [
    "## Pre-process the data"
   ]
  },
  {
   "cell_type": "code",
   "execution_count": 4,
   "metadata": {},
   "outputs": [],
   "source": [
    "dset = PokemonIMG()\n",
    "\n",
    "num_samples = len(dset)\n",
    "train_split = 0.7\n",
    "val_split = 0.2\n",
    "test_split = 0.1\n",
    "\n",
    "num_train = math.floor(num_samples*train_split)\n",
    "num_val = math.floor(num_samples*val_split)\n",
    "num_test = math.floor(num_samples*test_split)\n",
    "num_test = num_test + (num_samples - num_train - num_val - num_test)\n",
    "\n",
    "train_set, val_set, test_set = t.utils.data.random_split(dset, [num_train, num_val, num_test])"
   ]
  },
  {
   "cell_type": "markdown",
   "metadata": {},
   "source": [
    "# Plotting novel samples"
   ]
  },
  {
   "cell_type": "markdown",
   "metadata": {},
   "source": [
    "sample a batch of latent codes and decode them"
   ]
  },
  {
   "cell_type": "code",
   "execution_count": 8,
   "metadata": {},
   "outputs": [
    {
     "name": "stderr",
     "output_type": "stream",
     "text": [
      "c:\\Users\\jsche\\anaconda3\\envs\\torch\\lib\\site-packages\\torch\\utils\\checkpoint.py:25: UserWarning: None of the inputs have requires_grad=True. Gradients will be None\n",
      "  warnings.warn(\"None of the inputs have requires_grad=True. Gradients will be None\")\n"
     ]
    },
    {
     "name": "stdout",
     "output_type": "stream",
     "text": [
      "91\n"
     ]
    }
   ],
   "source": [
    "samples = vnca.p_z.sample((8,)).view(8, -1, 1, 1).expand(8, -1, vnca.h, vnca.w).to(vnca.device)\n",
    "states = vnca.decode(samples, test=False)\n",
    "print(len(states))"
   ]
  },
  {
   "cell_type": "code",
   "execution_count": 17,
   "metadata": {},
   "outputs": [
    {
     "data": {
      "text/plain": [
       "torch.Size([8, 256, 32, 32])"
      ]
     },
     "execution_count": 17,
     "metadata": {},
     "output_type": "execute_result"
    }
   ],
   "source": [
    "states[0].shape"
   ]
  },
  {
   "cell_type": "markdown",
   "metadata": {},
   "source": [
    "turn the first state of the NCA into an image"
   ]
  },
  {
   "cell_type": "code",
   "execution_count": 18,
   "metadata": {},
   "outputs": [
    {
     "name": "stderr",
     "output_type": "stream",
     "text": [
      "c:\\Users\\jsche\\anaconda3\\envs\\torch\\lib\\site-packages\\torch\\distributions\\distribution.py:44: UserWarning: <class 'dml.DiscretizedMixtureLogitsDistribution'> does not define `arg_constraints`. Please set `arg_constraints = {}` or initialize the distribution with `validate_args=False` to turn off validation.\n",
      "  warnings.warn(f'{self.__class__} does not define `arg_constraints`. ' +\n"
     ]
    },
    {
     "name": "stdout",
     "output_type": "stream",
     "text": [
      "torch.Size([1, 3, 32, 32])\n"
     ]
    }
   ],
   "source": [
    "image, mean = vnca.to_rgb(states[0][0:1])\n",
    "print(image.shape)"
   ]
  },
  {
   "cell_type": "code",
   "execution_count": 19,
   "metadata": {},
   "outputs": [
    {
     "data": {
      "text/plain": [
       "<matplotlib.image.AxesImage at 0x201e7d274c0>"
      ]
     },
     "execution_count": 19,
     "metadata": {},
     "output_type": "execute_result"
    },
    {
     "data": {
      "image/png": "[encoded data removed]",
      "text/plain": [
       "<Figure size 432x288 with 1 Axes>"
      ]
     },
     "metadata": {
      "needs_background": "light"
     },
     "output_type": "display_data"
    }
   ],
   "source": [
    "plt.imshow(image.squeeze(0).permute(1,2,0).cpu().detach().numpy())"
   ]
  },
  {
   "cell_type": "markdown",
   "metadata": {},
   "source": [
    "Turn the last state of the NCA into an image. We see that the cells have self organized into a pokemon-like shape"
   ]
  },
  {
   "cell_type": "code",
   "execution_count": 20,
   "metadata": {},
   "outputs": [
    {
     "data": {
      "text/plain": [
       "<matplotlib.image.AxesImage at 0x201e7d8a2c0>"
      ]
     },
     "execution_count": 20,
     "metadata": {},
     "output_type": "execute_result"
    },
    {
     "data": {
      "image/png": "[encoded data removed]",
      "text/plain": [
       "<Figure size 432x288 with 1 Axes>"
      ]
     },
     "metadata": {
      "needs_background": "light"
     },
     "output_type": "display_data"
    }
   ],
   "source": [
    "image, mean = vnca.to_rgb(states[-1][0:1])\n",
    "plt.imshow(image.squeeze(0).permute(1,2,0).cpu().detach().numpy())"
   ]
  },
  {
   "cell_type": "markdown",
   "metadata": {},
   "source": [
    "# Plotting reconstructions"
   ]
  },
  {
   "cell_type": "code",
   "execution_count": 21,
   "metadata": {},
   "outputs": [
    {
     "data": {
      "text/plain": [
       "<matplotlib.image.AxesImage at 0x201f901faf0>"
      ]
     },
     "execution_count": 21,
     "metadata": {},
     "output_type": "execute_result"
    },
    {
     "data": {
      "image/png": "[encoded data removed]",
      "text/plain": [
       "<Figure size 432x288 with 1 Axes>"
      ]
     },
     "metadata": {
      "needs_background": "light"
     },
     "output_type": "display_data"
    }
   ],
   "source": [
    "dset = PokemonIMG()\n",
    "\n",
    "img, label = dset.find(\"39.png\")\n",
    "\n",
    "plt.imshow(img.permute(1, 2, 0).cpu().detach().numpy())"
   ]
  },
  {
   "cell_type": "markdown",
   "metadata": {},
   "source": [
    "Forward the image through the network"
   ]
  },
  {
   "cell_type": "code",
   "execution_count": 25,
   "metadata": {},
   "outputs": [],
   "source": [
    "img, label = dset.find(\"39.png\")\n",
    "\n",
    "loss, z, p_x_given_z, recon_loss, kl_loss, states = vnca.forward(img.unsqueeze(0), 1, elbo)"
   ]
  },
  {
   "cell_type": "markdown",
   "metadata": {},
   "source": [
    "Turn the decoded state into an image"
   ]
  },
  {
   "cell_type": "code",
   "execution_count": 26,
   "metadata": {},
   "outputs": [],
   "source": [
    "img, mean = vnca.to_rgb(states[-1][0:1])"
   ]
  },
  {
   "cell_type": "markdown",
   "metadata": {},
   "source": [
    "Plot the image"
   ]
  },
  {
   "cell_type": "code",
   "execution_count": 27,
   "metadata": {},
   "outputs": [
    {
     "data": {
      "text/plain": [
       "<matplotlib.image.AxesImage at 0x202144d2f20>"
      ]
     },
     "execution_count": 27,
     "metadata": {},
     "output_type": "execute_result"
    },
    {
     "data": {
      "image/png": "[encoded data removed]",
      "text/plain": [
       "<Figure size 432x288 with 1 Axes>"
      ]
     },
     "metadata": {
      "needs_background": "light"
     },
     "output_type": "display_data"
    }
   ],
   "source": [
    "plt.imshow(img.squeeze(0).permute(1, 2, 0).cpu().detach().numpy())"
   ]
  },
  {
   "cell_type": "markdown",
   "metadata": {},
   "source": []
  }
 ],
 "metadata": {
  "kernelspec": {
   "display_name": "Python 3.10.4 ('torch')",
   "language": "python",
   "name": "python3"
  },
  "language_info": {
   "codemirror_mode": {
    "name": "ipython",
    "version": 3
   },
   "file_extension": ".py",
   "mimetype": "text/x-python",
   "name": "python",
   "nbconvert_exporter": "python",
   "pygments_lexer": "ipython3",
   "version": "3.10.4"
  },
  "orig_nbformat": 4,
  "vscode": {
   "interpreter": {
    "hash": "d457bbfc426ef2d36a37fd2ab82784599b6e7b389a7b568386df2942100916c1"
   }
  }
 },
 "nbformat": 4,
 "nbformat_minor": 2
}

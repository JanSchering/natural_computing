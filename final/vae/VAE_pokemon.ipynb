{
  "cells": [
    {
      "cell_type": "code",
      "execution_count": null,
      "metadata": {
        "colab": {
          "base_uri": "https://localhost:8080/"
        },
        "id": "mSLKmAKplhbx",
        "outputId": "5833cfaa-0f5d-4828-d9fc-fcab57e818c5"
      },
      "outputs": [],
      "source": [
        "!pip install torch==1.11.0 torchvision torchaudio --extra-index-url https://download.pytorch.org/whl/cu113"
      ]
    },
    {
      "cell_type": "code",
      "execution_count": 1,
      "metadata": {
        "id": "7zVTji-Flt85"
      },
      "outputs": [
        {
          "name": "stderr",
          "output_type": "stream",
          "text": [
            "c:\\Users\\jsche\\anaconda3\\envs\\torch\\lib\\site-packages\\tqdm\\auto.py:22: TqdmWarning: IProgress not found. Please update jupyter and ipywidgets. See https://ipywidgets.readthedocs.io/en/stable/user_install.html\n",
            "  from .autonotebook import tqdm as notebook_tqdm\n"
          ]
        }
      ],
      "source": [
        "import os\n",
        "from typing import Tuple\n",
        "\n",
        "import tqdm\n",
        "import math\n",
        "from datetime import datetime\n",
        "\n",
        "import torch as t\n",
        "\n",
        "from data import PokemonIMG\n",
        "from distributions import DiscretizedMixtureLogitsDistribution\n",
        "from model import Model\n",
        "from vae import VAE\n"
      ]
    },
    {
      "cell_type": "code",
      "execution_count": 7,
      "metadata": {
        "id": "DYZON3GnrQtn"
      },
      "outputs": [],
      "source": [
        "def train(model: Model, n_updates=int(1e6), eval_interval=1000):\n",
        "    best = float(\"inf\")\n",
        "    for i in tqdm.tqdm(range(n_updates)):\n",
        "        model.train_batch()\n",
        "        if (i + 1) % eval_interval == 0:\n",
        "            loss = model.eval_batch()\n",
        "            model.save(\"latest\")\n",
        "            if loss < best:\n",
        "                best = loss\n",
        "                model.save(\"best\")"
      ]
    },
    {
      "cell_type": "code",
      "execution_count": 8,
      "metadata": {
        "id": "zYqP_7m_zT3I"
      },
      "outputs": [],
      "source": [
        "n_mixtures = 1\n",
        "\n",
        "# input 'state' should have as shape (batch_size, z_space, height, width)\n",
        "def state_to_dist(state):\n",
        "    return DiscretizedMixtureLogitsDistribution(n_mixtures, state[:, :n_mixtures * 10, :, :])"
      ]
    },
    {
      "cell_type": "code",
      "execution_count": 9,
      "metadata": {
        "id": "TZXvC93TJd4G"
      },
      "outputs": [],
      "source": [
        "z_size = 256\n",
        "vae_hid = 128\n",
        "n_mixtures = 1\n",
        "batch_size = 32\n",
        "dmg_size = 16\n",
        "p_update = 1.0\n",
        "min_steps, max_steps = 64, 128\n",
        "\n",
        "encoder_hid = 32\n",
        "h = w = 32\n",
        "n_channels = 3"
      ]
    },
    {
      "cell_type": "code",
      "execution_count": 13,
      "metadata": {},
      "outputs": [],
      "source": [
        "dset = PokemonIMG()\n",
        "\n",
        "num_samples = len(dset)\n",
        "train_split = 0.7\n",
        "val_split = 0.2\n",
        "test_split = 0.1\n",
        "\n",
        "num_train = math.floor(num_samples*train_split)\n",
        "num_val = math.floor(num_samples*val_split)\n",
        "num_test = math.floor(num_samples*test_split)\n",
        "num_test = num_test + (num_samples - num_train - num_val - num_test)\n",
        "\n",
        "train_set, val_set, test_set = t.utils.data.random_split(dset, [num_train, num_val, num_test])"
      ]
    },
    {
      "cell_type": "code",
      "execution_count": null,
      "metadata": {},
      "outputs": [],
      "source": [
        "vae = VAE(h, w, n_channels, z_size, train_set, val_set, test_set, state_to_dist, batch_size, p_update, min_steps, max_steps, encoder_hid)\n",
        "vae.eval_batch()\n",
        "train(vae, n_updates=100_000, eval_interval=100)"
      ]
    }
  ],
  "metadata": {
    "accelerator": "GPU",
    "colab": {
      "collapsed_sections": [],
      "name": "VAE_pokemon.ipynb",
      "provenance": []
    },
    "interpreter": {
      "hash": "d457bbfc426ef2d36a37fd2ab82784599b6e7b389a7b568386df2942100916c1"
    },
    "kernelspec": {
      "display_name": "Python 3.10.4 ('torch')",
      "language": "python",
      "name": "python3"
    },
    "language_info": {
      "codemirror_mode": {
        "name": "ipython",
        "version": 3
      },
      "file_extension": ".py",
      "mimetype": "text/x-python",
      "name": "python",
      "nbconvert_exporter": "python",
      "pygments_lexer": "ipython3",
      "version": "3.10.4"
    }
  },
  "nbformat": 4,
  "nbformat_minor": 0
}

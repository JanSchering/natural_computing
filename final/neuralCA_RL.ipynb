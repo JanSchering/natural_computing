{
  "nbformat": 4,
  "nbformat_minor": 0,
  "metadata": {
    "colab": {
      "name": "neuralCA_RL.ipynb",
      "provenance": [],
      "collapsed_sections": [],
      "authorship_tag": "ABX9TyM3SBWi3DRxatvMz1MXUXbI"
    },
    "kernelspec": {
      "name": "python3",
      "display_name": "Python 3"
    },
    "language_info": {
      "name": "python"
    },
    "accelerator": "GPU"
  },
  "cells": [
    {
      "cell_type": "code",
      "execution_count": 2,
      "metadata": {
        "colab": {
          "base_uri": "https://localhost:8080/"
        },
        "id": "O4mv9sC2KTEI",
        "outputId": "50a6d81d-6c9f-44ed-e2e6-6e2249acdb76"
      },
      "outputs": [
        {
          "output_type": "stream",
          "name": "stdout",
          "text": [
            "Collecting git+https://github.com/aVariengien/self-organized-control.git#subdirectory=code\n",
            "  Cloning https://github.com/aVariengien/self-organized-control.git to /tmp/pip-req-build-3xvbqui2\n",
            "  Running command git clone -q https://github.com/aVariengien/self-organized-control.git /tmp/pip-req-build-3xvbqui2\n"
          ]
        }
      ],
      "source": [
        "!pip install git+https://github.com/aVariengien/self-organized-control.git#subdirectory=code\n",
        "!apt-get install -y xvfb python-opengl > /dev/null 2>&1\n",
        "!pip install gym pyvirtualdisplay > /dev/null 2>&1"
      ]
    },
    {
      "cell_type": "code",
      "source": [
        "import tensorflow as tf\n",
        "import numpy as np\n",
        "import time\n",
        "import SelfOrgControl.NeuralCA as NCA\n",
        "from SelfOrgControl.NCA_DQN import DQNAgent\n",
        "from SelfOrgControl.NeuralCAVisu import visualize_agent, show_influence_field"
      ],
      "metadata": {
        "id": "YYukz7MdKYRm"
      },
      "execution_count": 3,
      "outputs": []
    },
    {
      "cell_type": "markdown",
      "source": [
        "# 1. Defining Grid parameters\n",
        "\n",
        "Similar to [TODO] we use a 32x32 Cellular Automata grid. The state $x_t$ of the environment at timestep $t$ is an 8-dimensional real-valued vector containing:\n",
        "- X distance from target site (Cont.)\n",
        "- Y distance from target site (Cont.)\n",
        "- X velocity (Cont.)\n",
        "- Y velocity (Cont.)\n",
        "- Angle of ship (Cont.)\n",
        "- Angular velocity of ship (Cont.)\n",
        "- Left leg is grounded (Bin.)\n",
        "- Right leg is grounded (Bin.)\n",
        "\n",
        "Each dimension of the state space is encoded through two separate input cells."
      ],
      "metadata": {
        "id": "n9wVoN4xLR-l"
      }
    },
    {
      "cell_type": "code",
      "source": [
        ""
      ],
      "metadata": {
        "id": "14ZXakmSLJH9"
      },
      "execution_count": null,
      "outputs": []
    }
  ]
}
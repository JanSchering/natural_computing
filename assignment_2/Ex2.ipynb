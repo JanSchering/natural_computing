{
 "cells": [
  {
   "cell_type": "code",
   "execution_count": 8,
   "metadata": {},
   "outputs": [],
   "source": [
    "import numpy as np\n",
    "import matplotlib.pyplot as plt"
   ]
  },
  {
   "cell_type": "markdown",
   "metadata": {},
   "source": [
    "(a) Implement a simulation experiment of the minimization of f(x) = $x^2$\n",
    ". Suppose\n",
    "the particle starts with initial velocity, v = 10, pointing away from the optimum,\n",
    "and with initial position x = 20. As in the previous exercsie, for the sake of\n",
    "simplicity, we keep r1 and r2 constant during the optimization process. Consider\n",
    "the following two settings: (1) ω = 0.5, α1 = α2 = 1.5, r1 = r2 = 0.5; (2)\n",
    "ω = 0.7, α1 = α2 = 1.5, r1 = r2 = 1.\n"
   ]
  },
  {
   "cell_type": "code",
   "execution_count": 9,
   "metadata": {},
   "outputs": [],
   "source": [
    "def calc_fitness(candidate):\n",
    "    return np.square(candidate)"
   ]
  },
  {
   "cell_type": "code",
   "execution_count": 10,
   "metadata": {},
   "outputs": [],
   "source": [
    "def update_velocity(vel, local_best, global_best, current, omega, alpha1, alpha2, r1, r2):\n",
    "    return omega*vel + alpha1*r1*(local_best - current) + alpha2*r2*(global_best - current)\n",
    "\n",
    "def update_position(current, velocity):\n",
    "    new_pos = current + velocity\n",
    "    return new_pos\n"
   ]
  },
  {
   "cell_type": "code",
   "execution_count": 18,
   "metadata": {},
   "outputs": [],
   "source": [
    "def run_PSO(p, v, omega, alpha1, alpha2, r1, r2):\n",
    "    gen = 0\n",
    "    local_best = global_best =  p\n",
    "    # Keep track for statistics\n",
    "    positions = [p]\n",
    "    while not calc_fitness(p) == 0 and gen <= 100:\n",
    "        if gen % 20 == 0:\n",
    "            print(f\"current generation: {gen} -- current fitness: {calc_fitness(p)} -- current position: {p}\")\n",
    "        v = update_velocity(v, local_best, global_best, p, omega, alpha1, alpha2, r1, r2)\n",
    "        p = update_position(p, v)\n",
    "        local_best = p if calc_fitness(p) < calc_fitness(local_best) else local_best\n",
    "        global_best = local_best\n",
    "        positions.append(p)\n",
    "        gen += 1\n",
    "    return positions"
   ]
  },
  {
   "cell_type": "code",
   "execution_count": 19,
   "metadata": {},
   "outputs": [
    {
     "name": "stdout",
     "output_type": "stream",
     "text": [
      "current generation: 0 -- current fitness: 400 -- current position: 20\n",
      "current generation: 20 -- current fitness: 225.00057220495364 -- current position: 15.000019073486328\n",
      "current generation: 40 -- current fitness: 225.0000000005457 -- current position: 15.00000000001819\n",
      "current generation: 60 -- current fitness: 225.0 -- current position: 15.0\n",
      "current generation: 80 -- current fitness: 225.0 -- current position: 15.0\n",
      "current generation: 100 -- current fitness: 225.0 -- current position: 15.0\n"
     ]
    },
    {
     "data": {
      "text/plain": [
       "[<matplotlib.lines.Line2D at 0x1e920933ac0>]"
      ]
     },
     "execution_count": 19,
     "metadata": {},
     "output_type": "execute_result"
    },
    {
     "data": {
      "image/png": "[encoded data removed]",
      "text/plain": [
       "<Figure size 432x288 with 2 Axes>"
      ]
     },
     "metadata": {
      "needs_background": "light"
     },
     "output_type": "display_data"
    }
   ],
   "source": [
    "# Define initial values\n",
    "p = 20\n",
    "v = 10\n",
    "# Define Hyperparameters\n",
    "omega = 0.5\n",
    "r1 = r2 = 0.5\n",
    "alpha1 = alpha2 = 1.5\n",
    "\n",
    "positions = run_PSO(p, v , omega, alpha1, alpha2, r1, r2)\n",
    "fig, axs = plt.subplots(2)\n",
    "axs[0].plot(np.arange(len(positions)), positions)\n",
    "axs[1].plot(np.arange(len(positions)), [calc_fitness(p) for p in positions])\n"
   ]
  },
  {
   "cell_type": "code",
   "execution_count": 20,
   "metadata": {},
   "outputs": [
    {
     "name": "stdout",
     "output_type": "stream",
     "text": [
      "current generation: 0 -- current fitness: 400 -- current position: 20\n",
      "current generation: 20 -- current fitness: 0.687000618302583 -- current position: 0.8288550043901424\n",
      "current generation: 40 -- current fitness: 0.000846766629541989 -- current position: -0.02909925479358516\n",
      "current generation: 60 -- current fitness: 5.468678739084855e-06 -- current position: -0.0023385206304595337\n",
      "current generation: 80 -- current fitness: 1.3936985756976321e-08 -- current position: 0.00011805501157077713\n",
      "current generation: 100 -- current fitness: 9.536151238251582e-11 -- current position: 9.765321929281995e-06\n"
     ]
    },
    {
     "data": {
      "text/plain": [
       "[<matplotlib.lines.Line2D at 0x1e9209d43a0>]"
      ]
     },
     "execution_count": 20,
     "metadata": {},
     "output_type": "execute_result"
    },
    {
     "data": {
      "image/png": "[encoded data removed]",
      "text/plain": [
       "<Figure size 432x288 with 2 Axes>"
      ]
     },
     "metadata": {
      "needs_background": "light"
     },
     "output_type": "display_data"
    }
   ],
   "source": [
    "# Define initial values\n",
    "p = 20\n",
    "v = 10\n",
    "# Define Hyperparameters\n",
    "omega = 0.7\n",
    "r1 = r2 = 1\n",
    "alpha1 = alpha2 = 1.5\n",
    "\n",
    "positions = run_PSO(p, v , omega, alpha1, alpha2, r1, r2)\n",
    "fig, axs = plt.subplots(2)\n",
    "axs[0].plot(np.arange(len(positions)), positions)\n",
    "axs[1].plot(np.arange(len(positions)), [calc_fitness(p) for p in positions])"
   ]
  },
  {
   "cell_type": "markdown",
   "metadata": {},
   "source": [
    "(c) Discuss how would a particle ”swarm” consisting of a single member perform\n",
    "in such a minimization task when ω < 1, assuming the particle starts with the\n",
    "velocity pointing away from the optimum."
   ]
  },
  {
   "cell_type": "markdown",
   "metadata": {},
   "source": [
    "[TODO]"
   ]
  },
  {
   "cell_type": "markdown",
   "metadata": {},
   "source": []
  }
 ],
 "metadata": {
  "interpreter": {
   "hash": "2741cac713f42d9b83073bbc7ba0c967fcf3d886dedc3c40b64d8f3c8efd59a9"
  },
  "kernelspec": {
   "display_name": "Python 3.8.8 ('base')",
   "language": "python",
   "name": "python3"
  },
  "language_info": {
   "codemirror_mode": {
    "name": "ipython",
    "version": 3
   },
   "file_extension": ".py",
   "mimetype": "text/x-python",
   "name": "python",
   "nbconvert_exporter": "python",
   "pygments_lexer": "ipython3",
   "version": "3.8.8"
  },
  "orig_nbformat": 4
 },
 "nbformat": 4,
 "nbformat_minor": 2
}

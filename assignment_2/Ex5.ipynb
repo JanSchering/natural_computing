{
 "cells": [
  {
   "cell_type": "markdown",
   "metadata": {},
   "source": [
    "(ACO) [2 point] The figure below shows an example of an instance of a sourcedestination problem from the ACO book by Dorigo and Stuetzle. The goal is to\n",
    "reach the destination node from the source one using a shortest path through the\n",
    "given graph. What results do you expect for an ant colony algorithm that does not\n",
    "use tabu lists (except for inhibition of immediate return to the previous node)?"
   ]
  },
  {
   "cell_type": "markdown",
   "metadata": {},
   "source": [
    "Citing from the book: \"The difficulty of the graph is given by the\n",
    "fact that, in order to find the minimum cost path, an ant has to make a number of\n",
    "‘‘correct’’ choices and if some of these choices are wrong, the ant generates suboptimal paths. [..]\n",
    "ants exiting the\n",
    "source node have to choose between the loop-free, but worse than optimal, upper\n",
    "path of the graph, and the set of paths in the lower part of the same graph that contains two optimal paths of length 5, as well as many longer loop-free paths and infinitely many, much longer ‘‘loopy’’ paths. There is a trade-off between converging\n",
    "toward the use of an ‘‘easy’’ but suboptimal path, and searching for the optimal path\n",
    "in a region of the search space where suboptimal paths can easily be generated\"\n",
    "\n",
    "The reason that the ants have troubles with looping paths is that we are not using a tabu list. If we were to employ a tabu list, loops would not be possible by construction, since they would involve visiting already visited nodes. Without the list, however, the ants can only rely on the distances to the next nodes and the amount of pheromones on each edge. Because of that, there is a chance that they choose \"wrong\" and use a sub-optimal path. \n",
    "\n",
    "Firstly, the results of the algorithm depend on the number of ants that are used. As shown in the book, when using a small number of ants there is a higher possibility of the ants converging to the sub-optimal loop-free top path. If we use enough ants, however, we would expect that they can find their way through the more complex bottom paths and converge towards (locally) optimal solutions."
   ]
  },
  {
   "cell_type": "code",
   "execution_count": null,
   "metadata": {},
   "outputs": [],
   "source": []
  }
 ],
 "metadata": {
  "language_info": {
   "name": "python"
  },
  "orig_nbformat": 4
 },
 "nbformat": 4,
 "nbformat_minor": 2
}

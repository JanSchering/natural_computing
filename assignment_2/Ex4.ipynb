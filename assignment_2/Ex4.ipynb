{
 "cells": [
  {
   "cell_type": "markdown",
   "metadata": {},
   "source": [
    "(ACO) [2 points] Read the paper: Blum, Christian, and Marco Dorigo. ”Search bias\n",
    "in ant colony optimization: On the role of competition-balanced systems.” IEEE\n",
    "Transactions on Evolutionary Computation 9.2 (2005): 159-174.\n",
    "Figure 1 below shows a (toy) problem instance for the 2-cardinality tree problem.\n",
    "The 2-cardinality tree problem amounts to finding a subtree T of a given undirected\n",
    "graph G with exactly 2 edges and the minimum possible weight."
   ]
  },
  {
   "cell_type": "markdown",
   "metadata": {},
   "source": [
    "(a) Is ACO for this problem a Competition-Balanced System (CBS)? Justify your\n",
    "answer. (A definition of CBS is also given in the lecture’s slides on swarm\n",
    "intelligence.)"
   ]
  },
  {
   "cell_type": "markdown",
   "metadata": {},
   "source": [
    "We think, that the given combination of ACO and problem instance is not a CBS. \n",
    "\n",
    "The problem is to find a subtree with exactly 2 edges. The given instance allows for exactly 3 possible solutions to be constructed. \n",
    "\n",
    "1) [$e_1$, $e_2$]\n",
    "2) [$e_3$, $e_4$]\n",
    "3) [$e_2$, $e_3$]\n",
    "\n",
    "According to the definition of CBS, each partial solution (solution component) has to be in the same number of feasible solutions. This is not given for the problem instance, as $e_2$ and $e_3$ appear in more feasible solutions than $e_1$ and $e_4$. "
   ]
  },
  {
   "cell_type": "markdown",
   "metadata": {},
   "source": [
    "(b) If a combination of an ACO algorithm and a problem instance is not a CBS, is\n",
    "the induced bias always harmful? Justify your answer"
   ]
  },
  {
   "cell_type": "markdown",
   "metadata": {},
   "source": [
    "The induced bias is not always harmful. One instance in which it is not is if we combine ACO with local search.\n",
    "\n",
    "Citing from the paper: \" The use of local search strongly reduces the above described effects. [..] Our observations concerning the sequencing factors indicate an important fact. The bias introduced by the combination of an ACO algorithm with a problem instance that is not competitionbalanced is not necessarily harmful. If, for example, the good solutions of a problem instance were characterized by a high\n",
    "sequencing factor [..] we should not observe noticeable second-order deception effects.\"\n",
    "\n",
    "In the case that you also make use of local search, the algorithm is first being lead by the so-called sequencing factors towards a certain area (with solutions that have a high sequencing factor). Once this area has been reached, the bias decreases and the leading factor for the algorithm becomes the selection pressure. This results in the algorithm finding good solutions in this area. "
   ]
  },
  {
   "cell_type": "markdown",
   "metadata": {},
   "source": []
  }
 ],
 "metadata": {
  "language_info": {
   "name": "python"
  },
  "orig_nbformat": 4
 },
 "nbformat": 4,
 "nbformat_minor": 2
}

{
 "cells": [
  {
   "cell_type": "code",
   "execution_count": null,
   "metadata": {},
   "outputs": [],
   "source": [
    "from typing import List\n",
    "from numpy import np"
   ]
  },
  {
   "cell_type": "markdown",
   "metadata": {},
   "source": [
    "(a) Implement the PSO algorithm for clustering described in “Van der Merwe, D.\n",
    "W., and Andries Petrus Engelbrecht. ”Data clustering using particle swarm\n",
    "optimization.” Evolutionary Computation, 2003. CEC’03. The 2003 Congress\n",
    "on. Vol. 1. IEEE, 2003.” (see also the lecture’s slides on swarm intelligence)."
   ]
  },
  {
   "cell_type": "code",
   "execution_count": null,
   "metadata": {},
   "outputs": [],
   "source": [
    "def init_population(size:int, K:int):\n",
    "    population = np.zeros([size, K])\n",
    "    for i in range(len(population)):\n",
    "        population[i] = np.random.uniform(-1,1,K)\n",
    "    return population\n",
    "\n",
    "def calc_fitness(assignments, dataset, particle):\n",
    "    num_clusters = len(particle)\n",
    "    fitness = 0\n",
    "    for cluster in range(num_clusters):\n",
    "        boolean_mask = assignments==cluster\n",
    "        fitness += np.sum(np.abs(assignments[boolean_mask] - dataset[boolean_mask])) / len(assignments[boolean_mask])\n",
    "    fitness /= num_clusters\n",
    "    return fitness\n",
    "\n",
    "def update_velocity(vel, local_best, global_best, current, omega, alpha1, alpha2, r1, r2):\n",
    "    return omega*vel + alpha1*r1*(local_best - current) + alpha2*r2*(global_best - current)\n",
    "\n",
    "def update_position(current, velocity):\n",
    "    new_pos = current + velocity\n",
    "    return new_pos\n",
    "\n",
    "\n",
    "\n",
    "def k_means_PSO(K:int, dataset:np.ndarray, pop_size:int, max_iter:int, omega:float, alpha1:float, alpha2:float, r1:float, r2:float):\n",
    "    \"\"\"\n",
    "    Clusters the dataset into K clusters using a PSO algorithm.\n",
    "    \"\"\"\n",
    "    population = init_population(pop_size, K)\n",
    "    local_best = population.copy()\n",
    "    velocities = np.zeros([pop_size, K])\n",
    "    for i in range(max_iter):\n",
    "        for idx, particle in enumerate(population):\n",
    "            assignments = []\n",
    "            for z in dataset:\n",
    "                distances = np.array([abs(z - c) for c in particle])\n",
    "                assignments.append(np.argmin(distances))\n",
    "            fitness = calc_fitness(assignments, dataset, particle)\n",
    "            local_best[idx] = particle if fitness < calc_fitness(local_best[idx]) else local_best[idx] \n",
    "        global_best = local_best[np.argmin([calc_fitness(p) for p in local_best])]\n",
    "        for i in range(pop_size):\n",
    "            velocities[i] = update_velocity(velocities[i], local_best[i], global_best, population[i], omega, alpha1, alpha2, r1, r2)\n",
    "            population[i] = update_position(population[i], velocities[i])\n",
    "    return global_best\n",
    "            \n",
    "\n",
    "\n"
   ]
  },
  {
   "cell_type": "markdown",
   "metadata": {},
   "source": [
    "(b) Implement the k-means clustering method."
   ]
  },
  {
   "cell_type": "markdown",
   "metadata": {},
   "source": [
    "(c) Generate Artificial dataset 1 using the description given in the above mentioned\n",
    "paper.\n"
   ]
  },
  {
   "cell_type": "markdown",
   "metadata": {},
   "source": []
  }
 ],
 "metadata": {
  "language_info": {
   "name": "python"
  },
  "orig_nbformat": 4
 },
 "nbformat": 4,
 "nbformat_minor": 2
}

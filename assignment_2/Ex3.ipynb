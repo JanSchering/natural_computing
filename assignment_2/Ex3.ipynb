{
 "cells": [
  {
   "cell_type": "code",
   "execution_count": 53,
   "metadata": {},
   "outputs": [],
   "source": [
    "from typing import List\n",
    "import numpy as np\n",
    "import matplotlib.pyplot as plt\n",
    "import pandas as pd"
   ]
  },
  {
   "cell_type": "markdown",
   "metadata": {},
   "source": [
    "(a) Implement the PSO algorithm for clustering described in “Van der Merwe, D.\n",
    "W., and Andries Petrus Engelbrecht. ”Data clustering using particle swarm\n",
    "optimization.” Evolutionary Computation, 2003. CEC’03. The 2003 Congress\n",
    "on. Vol. 1. IEEE, 2003.” (see also the lecture’s slides on swarm intelligence)."
   ]
  },
  {
   "cell_type": "code",
   "execution_count": 115,
   "metadata": {},
   "outputs": [],
   "source": [
    "# Define Function to initialize population\n",
    "def init_population(size:int, K:int, dataset:np.ndarray) -> np.ndarray:\n",
    "    \"\"\"Generates a population of particles as a Matrix of shape (num_particles, K, data_dim). \n",
    "    A particle is a Matrix of length <K> where each column represents a centroid. The amount of rows\n",
    "    is equal to the dimensionality of the data that we want to cluster\n",
    "\n",
    "    Args:\n",
    "        size (int): The amount of particles \n",
    "        K (int): The dimensionality of each particle\n",
    "        dataset (np.ndarray): The dataset that we want to apply clustering on\n",
    "\n",
    "    Returns:\n",
    "        (np.ndarray): The population in Matrix form\n",
    "    \"\"\"\n",
    "    num_datapoints, num_dimensions = dataset.shape\n",
    "    # Zero-Init the population\n",
    "    population = np.zeros([size, K, num_dimensions])\n",
    "    # Loop over range of population to fill it with random individuals\n",
    "    for i in range(size):\n",
    "        # Get random indices to pick datapoints from the dataset\n",
    "        # Each datapoint will be one cluster centroid for this particle\n",
    "        indices = np.random.randint(num_datapoints, size=K)\n",
    "        # Populate using the collected datapoints\n",
    "        population[i] = dataset[indices, :]\n",
    "\n",
    "    return population"
   ]
  },
  {
   "cell_type": "code",
   "execution_count": 118,
   "metadata": {},
   "outputs": [],
   "source": [
    "# Testing the Population Initialization\n",
    "\n",
    "# Create test datasets\n",
    "test_data = np.array([[1,2,3]])\n",
    "# Creating a single individual population for a single cluster from a dataset with a single entry should give us that datapoint as the individual\n",
    "assert init_population(size=1,K=1,dataset=test_data).shape == (1,1,3)\n",
    "assert np.all(init_population(size=1,K=1,dataset=test_data) == [[[1,2,3]]])\n",
    "\n",
    "# If we have two clusters, the 2 centroids should both be equal to the datapoint\n",
    "assert init_population(size=1,K=2,dataset=test_data).shape == (1,2,3)\n",
    "assert np.all(init_population(size=1,K=2,dataset=test_data) == [[[1,2,3], [1,2,3]]])\n",
    "\n",
    "# If we have two individuals with one cluster each, they both contain the randomly selected datapoint as the centroid\n",
    "assert init_population(size=2,K=1,dataset=test_data).shape == (2,1,3)\n",
    "assert np.all(init_population(size=2,K=1,dataset=test_data) == [[[1,2,3]], [[1,2,3]]])\n",
    "\n",
    "test_data = np.array([\n",
    "    [1,2,3],\n",
    "    [4,5,6],\n",
    "    [7,8,9]\n",
    "])\n",
    "\n",
    "assert init_population(4,4,test_data).shape == (4,4,3)\n",
    "assert init_population(size=10, K=4, dataset=test_data).shape == (10,4,3)"
   ]
  },
  {
   "cell_type": "markdown",
   "metadata": {},
   "source": [
    "$d(x,y) = \\sqrt{\\sum_{k=1}^{N_d} (x_k - y_k)^2}$"
   ]
  },
  {
   "cell_type": "code",
   "execution_count": 30,
   "metadata": {},
   "outputs": [
    {
     "data": {
      "text/plain": [
       "2.121320343559643"
      ]
     },
     "execution_count": 30,
     "metadata": {},
     "output_type": "execute_result"
    }
   ],
   "source": [
    "def calc_distance(x:np.ndarray, y:np.ndarray) -> float:\n",
    "    \"\"\"Calculates the euclidean distance between point <x> and point <y>.\n",
    "\n",
    "    Args:\n",
    "        p1 (np.ndarray): point1\n",
    "        p2 (np.ndarray): point2\n",
    "\n",
    "    Returns:\n",
    "        float: The distance between the points\n",
    "    \"\"\"\n",
    "    return np.linalg.norm(x-y)\n",
    "\n",
    "# Sanity check\n",
    "assert calc_distance(np.array([5,5]), np.array([6,6])) == 1.4142135623730951"
   ]
  },
  {
   "cell_type": "code",
   "execution_count": 45,
   "metadata": {},
   "outputs": [],
   "source": [
    "# Define Fitness Function\n",
    "def calc_fitness(assignments: np.ndarray, dataset: np.ndarray, particle:np.ndarray) -> float:\n",
    "    \"\"\"Calculates the fitness of a particle given a K-cluster problem setup. Each entry in the particle is\n",
    "    treated as a centroid for a cluster. Calculates the normalized\n",
    "    sum of euclidean distances between centroids and assigned datapoints. \n",
    "\n",
    "    Args:\n",
    "        assignments (np.ndarray): Stores the cluster index for each datapoint\n",
    "        dataset (np.ndarray): The datapoints \n",
    "        particle (np.ndarray): The centroid Matrix\n",
    "\n",
    "    Returns:\n",
    "        float: Fitness of the particle\n",
    "    \"\"\"\n",
    "    num_clusters, _ = particle.shape\n",
    "    fitness = 0\n",
    "    for cluster_idx, centroid in enumerate(particle):\n",
    "        # Get all datapoints that were assigned to this cluster\n",
    "        boolean_mask = assignments==cluster_idx\n",
    "        datapoints = dataset[boolean_mask]\n",
    "        # Calculate the sum of distances between the datapoints and the centroid\n",
    "        total_distance = 0\n",
    "        for datapoint in datapoints:\n",
    "            total_distance += calc_distance(centroid, datapoint)\n",
    "        #normalize by the amount of assigned datapoints and add to the fitness\n",
    "        fitness +=  total_distance / len(assignments[boolean_mask])\n",
    "    # Normalize by the amount of clusters\n",
    "    fitness /= num_clusters\n",
    "    return fitness"
   ]
  },
  {
   "cell_type": "code",
   "execution_count": 46,
   "metadata": {},
   "outputs": [],
   "source": [
    "# Testing the fitness function\n",
    "\n",
    "# single datapoint\n",
    "test_ass = np.array([0])\n",
    "test_data = np.zeros([1,2])+5\n",
    "# one cluster\n",
    "test_part = np.zeros([1,2])+6\n",
    "\n",
    "assert calc_fitness(test_ass, test_data, test_part) == 1.4142135623730951\n",
    "\n",
    "# two datapoints with single cluster\n",
    "test_ass = np.array([0, 0])\n",
    "test_data = np.zeros([2,2])\n",
    "test_data[0] += 4\n",
    "test_data[1] += 5\n",
    "\n",
    "correct = (calc_distance(np.array([4,4]), np.array([6,6])) + calc_distance(np.array([5,5]), np.array([6,6]))) / 2\n",
    "assert calc_fitness(test_ass, test_data, test_part) == correct\n"
   ]
  },
  {
   "cell_type": "markdown",
   "metadata": {},
   "source": [
    "$v_i := \\omega\\times v_i + \\alpha_1\\times r_1\\circ (\\hat{x} - x_i) + \\alpha_2\\times r_2\\circ (\\hat{g} - x_i)$"
   ]
  },
  {
   "cell_type": "code",
   "execution_count": null,
   "metadata": {},
   "outputs": [],
   "source": [
    "# Define Function to update the velocity of a particle\n",
    "def update_velocity(vel, local_best, global_best, current, omega, alpha1, alpha2, r1, r2) -> np.ndarray:\n",
    "    \"\"\"Updates the velocity <vel> of the <current> particle according to the PSO velocity update\n",
    "\n",
    "    Args:\n",
    "        vel (np.ndarray): Defines the velocity of the particle\n",
    "        local_best (np.ndarray): Stores the fittest version of this particle found so far\n",
    "        global_best (np.ndarray): Stores the fittest particle of the population found so far\n",
    "        current (np.ndarray): The current particle\n",
    "        omega (float): Inertia weight\n",
    "        alpha1 (float): weight param for the local influence\n",
    "        alpha2 (float): weight param for the social influence\n",
    "        r1 (float): additional weight param for local influence\n",
    "        r2 (float): additional weight param for social influence\n",
    "\n",
    "    Returns:\n",
    "        np.ndarray: The updated velocity\n",
    "    \"\"\"\n",
    "    return omega*vel + alpha1*r1*(local_best - current) + alpha2*r2*(global_best - current)"
   ]
  },
  {
   "cell_type": "markdown",
   "metadata": {},
   "source": [
    "$x_i := x_i + v_i$"
   ]
  },
  {
   "cell_type": "code",
   "execution_count": null,
   "metadata": {},
   "outputs": [],
   "source": [
    "# Define Function for the position update\n",
    "def update_position(current, velocity) -> np.ndarray:\n",
    "    \"\"\"Updates the position <current>, using the <velocity> according to the PSO position update rule\n",
    "    Args:\n",
    "        current (np.ndarray): The current particle\n",
    "        velocity (_type_): The velocity of the particle\n",
    "\n",
    "    Returns:\n",
    "        np.ndarray: The updated particle position\n",
    "    \"\"\"\n",
    "    new_pos = current + velocity\n",
    "    return new_pos"
   ]
  },
  {
   "cell_type": "markdown",
   "metadata": {},
   "source": [
    "<ol>\n",
    "  <li>Initialize each particle to contain N randomly selected centroids</li>\n",
    "  <li>\n",
    "    For iter=1 to maxiter:\n",
    "    <ul>\n",
    "      <li> \n",
    "        For each particle x:\n",
    "        <ul>\n",
    "          <li> For each data point z:</li>\n",
    "          <ul>\n",
    "            <li> Calculate the distance of z to each cluster centroid </li>\n",
    "            <li> Assign z to the cluster (centroid) with minimal distance; </li>\n",
    "          </ul>\n",
    "          <li> Compute the fitness (e.g. average weighted distance of data points \n",
    "            from their centroid); </li>\n",
    "          <li> Update the local best; </li>\n",
    "        </ul>\n",
    "        <li> Update the global best; </li>\n",
    "        <li> Update each particle !\"using PSO update rules </li>\n",
    "      </li>\n",
    "    </ul>\n",
    "  </li>\n",
    "</ol> "
   ]
  },
  {
   "cell_type": "code",
   "execution_count": 32,
   "metadata": {},
   "outputs": [],
   "source": [
    "# Define a function that runs the K-Means PSO algorithm\n",
    "def k_means_PSO(K:int, data_dim: int, dataset:np.ndarray, pop_size:int, max_iter:int, omega:float, alpha1:float, alpha2:float, r1:float, r2:float) -> np.ndarray:\n",
    "    \"\"\"Runs a K-Means PSO algorithm for <max_iter> iterations to find a set of <K> clusters for a dataset.\n",
    "\n",
    "    Args:\n",
    "        K (int): The amount of clusters to separate the data into\n",
    "        data_dim (int): The dimensionality of the data\n",
    "        dataset (np.ndarray): The datapoints that should be clustered\n",
    "        pop_size (int): The amount of particles to run the PSO algorithm with\n",
    "        max_iter (int): The maximum amount of iterations to run PSO for\n",
    "        omega (float): Inertia weight\n",
    "        alpha1 (float): local influence param\n",
    "        alpha2 (float): social influence param\n",
    "        r1 (float): additional local influence param\n",
    "        r2 (float): additional social influence param\n",
    "\n",
    "    Returns:\n",
    "        np.ndarray: The best clustering found through the algorithm\n",
    "    \"\"\"\n",
    "    # Define initial population (1.)\n",
    "    population = init_population(pop_size, K, dataset)\n",
    "    # Create a copy of the population to store the best versions found so far for each particle\n",
    "    local_best = population.copy()\n",
    "    # Store the local best fitnesses to avoid recomputing\n",
    "    local_best_f = np.zeros([pop_size])\n",
    "    # Zero-initialize the velocities of each particle\n",
    "    velocities = np.zeros([pop_size, K, data_dim])\n",
    "    # Run the iterations (2.)\n",
    "    for i in range(max_iter):\n",
    "        # Loop over each particle \n",
    "        for idx, particle in enumerate(population):\n",
    "            # Collect the assignments of each datapoint for the particle\n",
    "            assignments = []\n",
    "            # Loop over each datapoint\n",
    "            for z in dataset:\n",
    "                # Collect the distance to each centroid\n",
    "                distances = []\n",
    "                # Calculate the distance for every cluster centroid\n",
    "                for centroid in particle:\n",
    "                    # Get the distance between the centroid and the datapoint\n",
    "                    distance = calc_distance(centroid, z)\n",
    "                    # Add the distance to the collector\n",
    "                    distances.append(distance)\n",
    "                # The datapoint is assigned to the cluster that minimizes the distance between centroid and datapoint\n",
    "                assignments.append(np.argmin(distances))\n",
    "            # Calculate the fitness of the particle given the new assignments\n",
    "            fitness = calc_fitness(np.array(assignments), dataset, particle)\n",
    "            # Update the local best if the new fitness is higher than that of the previous local best\n",
    "            if fitness < local_best_f[idx]:\n",
    "                local_best[idx] = particle.copy()\n",
    "                local_best_f = fitness\n",
    "        # Update the global best to be the best of the local_best\n",
    "        best_idx = np.argmin(local_best_f)\n",
    "        global_best = local_best[best_idx].copy()\n",
    "        # Update the position and velocity of each particle\n",
    "        for i in range(pop_size):\n",
    "            velocities[i] = update_velocity(velocities[i], local_best[i], global_best, population[i], omega, alpha1, alpha2, r1, r2)\n",
    "            population[i] = update_position(population[i], velocities[i])\n",
    "    return global_best   "
   ]
  },
  {
   "cell_type": "markdown",
   "metadata": {},
   "source": [
    "(b) Implement the k-means clustering method."
   ]
  },
  {
   "cell_type": "code",
   "execution_count": null,
   "metadata": {},
   "outputs": [],
   "source": [
    "# Define a K-Means Clustering function\n",
    "def K_Means(K:int, dataset:np.ndarray, iters:int) -> np.ndarray:\n",
    "    \"\"\"Performs <iters> iterations of K-Means Clustering on a given <dataset> into <K> classes\n",
    "\n",
    "    Args:\n",
    "        K (int): amount of clusters\n",
    "        dataset (np.ndarray): The set of datapoints to cluster\n",
    "        iters (int): The amount of iterations\n",
    "\n",
    "    Returns:\n",
    "        np.ndarray: The centroids of each cluster\n",
    "    \"\"\"\n",
    "    # Get the dimensionality of the dataset\n",
    "    num_datapoints, num_dimensions = dataset.shape\n",
    "    # Randomly initialize a set of cluster centroids\n",
    "    indices = np.random.randint(num_datapoints, size=K)\n",
    "    clusters = dataset[indices, :]\n",
    "    assert clusters.shape == (K, num_dimensions)\n",
    "    # Run <iters> iterations of clustering updates\n",
    "    for i in range(iters):\n",
    "        # Assignment Step: Assign each datapoint to the closest cluster\n",
    "        assignments = []\n",
    "        # Iterate over each datapoint in the dataset\n",
    "        for z in dataset:\n",
    "            # Collect the distance to each cluster centroid\n",
    "            distances = []\n",
    "            for cluster in clusters:\n",
    "                distances.append(calc_distance(cluster, z))\n",
    "            # The datapoint is assigned to the cluster that minimizes the distance between centroid and datapoint\n",
    "            assignments.append(np.argmin(distances))\n",
    "        # Update Step: Update each centroid to be the average of the assigned datapoints\n",
    "        for cluster_idx in range(K):\n",
    "            # Calculate a boolean mask that is true at each index where the datapoint is assigned to the current cluster\n",
    "            boolean_mask = np.array(assignments) == cluster_idx\n",
    "            # Use the boolean mask to filter out all assigned datapoints\n",
    "            cluster_points = dataset[boolean_mask]\n",
    "            # Update the cluster centroid using the average of all assigned datapoints\n",
    "            clusters[cluster_idx] = np.average(cluster_points, axis=0)"
   ]
  },
  {
   "cell_type": "markdown",
   "metadata": {},
   "source": [
    "(c) Generate Artificial dataset 1 using the description given in the above mentioned\n",
    "paper.\n"
   ]
  },
  {
   "cell_type": "markdown",
   "metadata": {},
   "source": [
    "Citing from the Paper: \"A total of 400 data vectors were randomly created,\n",
    "with z1, z2 ∼ U(−1, 1).\"\n",
    "\n",
    "class := 1, if (z1 ≥ 0.7) or ((z1 ≤ 0.3) and (z2 ≥ −0.2 − z1)) \n",
    "\n",
    "class := 0 otherwise"
   ]
  },
  {
   "cell_type": "code",
   "execution_count": 109,
   "metadata": {},
   "outputs": [
    {
     "data": {
      "text/plain": [
       "<matplotlib.collections.PathCollection at 0x198faea2ca0>"
      ]
     },
     "execution_count": 109,
     "metadata": {},
     "output_type": "execute_result"
    },
    {
     "data": {
      "image/png": "[encoded data removed]",
      "text/plain": [
       "<Figure size 432x288 with 1 Axes>"
      ]
     },
     "metadata": {
      "needs_background": "light"
     },
     "output_type": "display_data"
    }
   ],
   "source": [
    "dataset = np.random.uniform(-1,1,[400,2])\n",
    "\n",
    "z1 = dataset[:, 0]\n",
    "z2 = dataset[:, 1]\n",
    "\n",
    "cond1 = z1 >= 0.7\n",
    "\n",
    "subcond1 = z1 <= 0.3\n",
    "subcond2 = z2 >= -0.2 - z1\n",
    "subcond_stack = np.stack([subcond1,subcond2], axis=1)\n",
    "cond2 = subcond_stack.all(axis=1)\n",
    "\n",
    "full_cond_stack = np.stack([cond1, cond2], axis=1)\n",
    "full_cond = full_cond_stack.any(axis=1)\n",
    "\n",
    "ones = dataset[full_cond]\n",
    "zeros = dataset[np.logical_not(full_cond)]\n",
    "\n",
    "# The plot in the paper is flipped vertically with the bottom limit being 1 and the top limit -1\n",
    "plt.ylim(top=-1, bottom=1)\n",
    "\n",
    "plt.scatter(ones[:, 1], ones[:, 0], marker=\"x\", color=\"r\")\n",
    "plt.scatter(zeros[:, 1], zeros[:, 0], marker=\"o\", color=\"b\")"
   ]
  },
  {
   "cell_type": "markdown",
   "metadata": {},
   "source": [
    "(d) Apply and compare the performance of the two algorithms in terms of quantization error on Artificial dataset 1 and on the Iris dataset (the latter available at\n",
    "UCI ML repository, see https://archive.ics.uci.edu/ml/datasets/iris).\n",
    "In both algorithms, use the true number of clusters as value of the parameter for\n",
    "setting the number of clusters. Set the initial speed of the PSO particles to 0. In\n",
    "both algorithms, use some randomly picked datapoints from the dataset as initial\n",
    "centroids. In order to compute quantization errors, run each algorithm on each\n",
    "dataset for 30 trials, using 100 iterations in both algorithms, 10 particles for the\n",
    "PSO algorithm and 10 random initializations for the K-means algorithm."
   ]
  },
  {
   "cell_type": "markdown",
   "metadata": {},
   "source": [
    "Part 1) Applying the Algorithms to the Artificial Dataset 1 "
   ]
  },
  {
   "cell_type": "code",
   "execution_count": null,
   "metadata": {},
   "outputs": [],
   "source": [
    "# Use the true number of clusters\n",
    "K = 2"
   ]
  },
  {
   "cell_type": "code",
   "execution_count": 92,
   "metadata": {},
   "outputs": [
    {
     "name": "stdout",
     "output_type": "stream",
     "text": [
      "(150, 5)\n"
     ]
    },
    {
     "data": {
      "text/html": [
       "<div>\n",
       "<style scoped>\n",
       "    .dataframe tbody tr th:only-of-type {\n",
       "        vertical-align: middle;\n",
       "    }\n",
       "\n",
       "    .dataframe tbody tr th {\n",
       "        vertical-align: top;\n",
       "    }\n",
       "\n",
       "    .dataframe thead th {\n",
       "        text-align: right;\n",
       "    }\n",
       "</style>\n",
       "<table border=\"1\" class=\"dataframe\">\n",
       "  <thead>\n",
       "    <tr style=\"text-align: right;\">\n",
       "      <th></th>\n",
       "      <th>sepal length</th>\n",
       "      <th>sepal width</th>\n",
       "      <th>petal length</th>\n",
       "      <th>petal width</th>\n",
       "      <th>label</th>\n",
       "    </tr>\n",
       "  </thead>\n",
       "  <tbody>\n",
       "    <tr>\n",
       "      <th>0</th>\n",
       "      <td>5.1</td>\n",
       "      <td>3.5</td>\n",
       "      <td>1.4</td>\n",
       "      <td>0.2</td>\n",
       "      <td>Iris-setosa</td>\n",
       "    </tr>\n",
       "    <tr>\n",
       "      <th>1</th>\n",
       "      <td>4.9</td>\n",
       "      <td>3.0</td>\n",
       "      <td>1.4</td>\n",
       "      <td>0.2</td>\n",
       "      <td>Iris-setosa</td>\n",
       "    </tr>\n",
       "    <tr>\n",
       "      <th>2</th>\n",
       "      <td>4.7</td>\n",
       "      <td>3.2</td>\n",
       "      <td>1.3</td>\n",
       "      <td>0.2</td>\n",
       "      <td>Iris-setosa</td>\n",
       "    </tr>\n",
       "    <tr>\n",
       "      <th>3</th>\n",
       "      <td>4.6</td>\n",
       "      <td>3.1</td>\n",
       "      <td>1.5</td>\n",
       "      <td>0.2</td>\n",
       "      <td>Iris-setosa</td>\n",
       "    </tr>\n",
       "    <tr>\n",
       "      <th>4</th>\n",
       "      <td>5.0</td>\n",
       "      <td>3.6</td>\n",
       "      <td>1.4</td>\n",
       "      <td>0.2</td>\n",
       "      <td>Iris-setosa</td>\n",
       "    </tr>\n",
       "  </tbody>\n",
       "</table>\n",
       "</div>"
      ],
      "text/plain": [
       "   sepal length  sepal width  petal length  petal width        label\n",
       "0           5.1          3.5           1.4          0.2  Iris-setosa\n",
       "1           4.9          3.0           1.4          0.2  Iris-setosa\n",
       "2           4.7          3.2           1.3          0.2  Iris-setosa\n",
       "3           4.6          3.1           1.5          0.2  Iris-setosa\n",
       "4           5.0          3.6           1.4          0.2  Iris-setosa"
      ]
     },
     "execution_count": 92,
     "metadata": {},
     "output_type": "execute_result"
    }
   ],
   "source": [
    "# Load in the iris dataset\n",
    "df = pd.read_csv(\"iris.data\", names=[\"sepal length\", \"sepal width\", \"petal length\", \"petal width\", \"label\"])\n",
    "# Get an overview of the data\n",
    "print(df.shape)\n",
    "df.head(n=5)"
   ]
  },
  {
   "cell_type": "code",
   "execution_count": 95,
   "metadata": {},
   "outputs": [
    {
     "data": {
      "image/png": "[encoded data removed]",
      "text/plain": [
       "<Figure size 432x288 with 2 Axes>"
      ]
     },
     "metadata": {},
     "output_type": "display_data"
    }
   ],
   "source": [
    "# Plot the \"True\" clustering\n",
    "\n",
    "# get the class labels from the dataframe\n",
    "labels = set(df[\"label\"])\n",
    "\n",
    "# Create different markers for each class\n",
    "markers = [\"o\", \"^\", \"s\"]\n",
    "colors = [\"r\", \"b\", \"y\"]\n",
    "\n",
    "fig, axs = plt.subplots(2, facecolor=\"w\")\n",
    "axs[0].title.set_text(\"Sepal width/length comparison between 3 types of Iris\")\n",
    "axs[1].title.set_text(\"Petal width/length comparison between 3 types of Iris\")\n",
    "\n",
    "# loop over the labels to plot the datapoints for each class\n",
    "for idx, label in enumerate(labels):\n",
    "    mask = df[\"label\"]==label\n",
    "    data = df[mask]\n",
    "    #print(data.head())\n",
    "    axs[0].scatter(data[\"sepal width\"], data[\"sepal length\"], marker=markers[idx], color=colors[idx], label=label)\n",
    "    axs[1].scatter(data[\"petal width\"], data[\"petal length\"], marker=markers[idx], color=colors[idx], label=label)\n",
    "\n",
    "axs[0].legend(loc=\"best\")\n",
    "axs[1].legend(loc=\"best\")\n",
    "fig.tight_layout()\n"
   ]
  },
  {
   "cell_type": "markdown",
   "metadata": {},
   "source": []
  },
  {
   "cell_type": "code",
   "execution_count": null,
   "metadata": {},
   "outputs": [],
   "source": [
    "# Use the true number of clusters"
   ]
  },
  {
   "cell_type": "markdown",
   "metadata": {},
   "source": []
  }
 ],
 "metadata": {
  "interpreter": {
   "hash": "2741cac713f42d9b83073bbc7ba0c967fcf3d886dedc3c40b64d8f3c8efd59a9"
  },
  "kernelspec": {
   "display_name": "Python 3.8.8 ('base')",
   "language": "python",
   "name": "python3"
  },
  "language_info": {
   "codemirror_mode": {
    "name": "ipython",
    "version": 3
   },
   "file_extension": ".py",
   "mimetype": "text/x-python",
   "name": "python",
   "nbconvert_exporter": "python",
   "pygments_lexer": "ipython3",
   "version": "3.8.8"
  },
  "orig_nbformat": 4
 },
 "nbformat": 4,
 "nbformat_minor": 2
}

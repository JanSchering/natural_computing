{
 "cells": [
  {
   "cell_type": "code",
   "execution_count": 2,
   "metadata": {},
   "outputs": [],
   "source": [
    "import numpy as np"
   ]
  },
  {
   "cell_type": "code",
   "execution_count": 3,
   "metadata": {},
   "outputs": [],
   "source": [
    "# define Fitness Function\n",
    "def calc_fitness(candidate):\n",
    "    return np.sum(np.multiply(-candidate, np.sin(np.sqrt(np.abs(candidate)))))\n",
    "\n",
    "# test Fitness Function\n",
    "assert calc_fitness(np.array([-420.9687, -420.9687])) == 837.965774544325"
   ]
  },
  {
   "cell_type": "code",
   "execution_count": 14,
   "metadata": {},
   "outputs": [],
   "source": [
    "# define initial positions\n",
    "def init_pos():\n",
    "    c1 = np.array([-400, -400])\n",
    "    c2 = np.array([-410, -410])\n",
    "    c3 = np.array([-415, -415])\n",
    "    return c1, c2, c3\n",
    "\n",
    "# define velocities\n",
    "def init_vel():\n",
    "    v1 = np.array([-50, -50])\n",
    "    v2 = np.array([-50, -50])\n",
    "    v3 = np.array([-50, -50])\n",
    "    return v1, v2, v3\n",
    "\n",
    "# define particles\n",
    "def init_particles():\n",
    "    p1 = np.array([c1.copy(), v1.copy()])\n",
    "    p2 = np.array([c2.copy(), v2.copy()])\n",
    "    p3 = np.array([c3.copy(), v3.copy()])\n",
    "    return p1, p2, p3\n",
    "\n",
    "# define local best\n",
    "def init_best():\n",
    "    cb1 = c1.copy()\n",
    "    cb2 = c2.copy()\n",
    "    cb3 = c3.copy()\n",
    "\n",
    "    gb = c3.copy()\n",
    "    return cb1, cb2, cb3, gb\n",
    "\n",
    "c1, c2, c3 = init_pos()\n",
    "\n",
    "v1, v2, v3 = init_vel()\n",
    "\n",
    "cb1, cb2, cb3, gb = init_best()"
   ]
  },
  {
   "cell_type": "code",
   "execution_count": 15,
   "metadata": {},
   "outputs": [],
   "source": [
    "# define hyperparameters\n",
    "alpha1 = alpha2 = 1\n",
    "r1 = r2 = 0.5\n",
    "omegas = [2, 0.5, 0.1]"
   ]
  },
  {
   "cell_type": "markdown",
   "metadata": {},
   "source": [
    "(a) Compute the fitness of each particle"
   ]
  },
  {
   "cell_type": "code",
   "execution_count": 16,
   "metadata": {},
   "outputs": [
    {
     "name": "stdout",
     "output_type": "stream",
     "text": [
      "Fitness for Particle 1: 730.3562005821021\n",
      "Fitness for Particle 2: 807.9150929576671\n",
      "Fitness for Particle 3: 829.0117583869608\n"
     ]
    }
   ],
   "source": [
    "print(f\"Fitness for Particle 1: {calc_fitness(c1)}\")\n",
    "print(f\"Fitness for Particle 2: {calc_fitness(c2)}\")\n",
    "print(f\"Fitness for Particle 3: {calc_fitness(c3)}\")"
   ]
  },
  {
   "cell_type": "markdown",
   "metadata": {},
   "source": [
    "(b) What would be the next position and fitness of each particle after one iteration\n",
    "of the PSO algorithm, when using ω = 2, ω = 0.5, and ω = 0.1, respectively? (In\n",
    "case a component of a new position falls outside the range −500 ≤ x(i) ≤ 500,\n",
    "it is mapped to its closest value in the range. For instance, if the computation\n",
    "of a new position gives (550, 500), it is set to (500, 500).)"
   ]
  },
  {
   "cell_type": "code",
   "execution_count": 19,
   "metadata": {},
   "outputs": [],
   "source": [
    "def update_velocity(vel, local_best, global_best, current, omega, alpha1, alpha2, r1, r2):\n",
    "    \"\"\" Computes the velocity of a particle according to the corresponding update rule \"\"\"\n",
    "    return omega*vel + alpha1*r1*(local_best - current) + alpha2*r2*(global_best - current)\n",
    "\n",
    "def update_position(current, velocity):\n",
    "    \"\"\" Updates the position of a particle at a given iteration \"\"\"\n",
    "    new_pos = current + velocity\n",
    "    new_pos[new_pos > 500] = 500\n",
    "    new_pos[new_pos < -500] = -500\n",
    "    return new_pos\n",
    "\n",
    "# test update_position function \n",
    "assert np.all(update_position(np.array([600, -600]), np.array([0,0])) == [500, -500])\n",
    "    "
   ]
  },
  {
   "cell_type": "code",
   "execution_count": 20,
   "metadata": {},
   "outputs": [
    {
     "name": "stdout",
     "output_type": "stream",
     "text": [
      "using omega:= 2\n",
      "Particle: 1 -- New Position: [-500. -500.] -- New Fitness: -361.1783170627835\n",
      "Particle: 2 -- New Position: [-500. -500.] -- New Fitness: -361.1783170627835\n",
      "Particle: 3 -- New Position: [-500. -500.] -- New Fitness: -361.1783170627835\n",
      "using omega:= 0.5\n",
      "Particle: 1 -- New Position: [-432.5 -432.5] -- New Fitness: 804.4822309250023\n",
      "Particle: 2 -- New Position: [-437.5 -437.5] -- New Fitness: 769.4947716725984\n",
      "Particle: 3 -- New Position: [-440. -440.] -- New Fitness: 747.5297044219257\n",
      "using omega:= 0.1\n",
      "Particle: 1 -- New Position: [-412.5 -412.5] -- New Fitness: 819.9905472762648\n",
      "Particle: 2 -- New Position: [-417.5 -417.5] -- New Fitness: 834.9351365389027\n",
      "Particle: 3 -- New Position: [-420. -420.] -- New Fitness: 837.7290352197082\n"
     ]
    }
   ],
   "source": [
    "for omega in omegas:\n",
    "    # Reset the positions of the particles to original state for next trial\n",
    "    c1, c2, c3 = init_pos()\n",
    "    cb1, cb2, cb3, gb = init_best()\n",
    "    # Reset the velocities of the particles to original state for next trial\n",
    "    v1, v2, v3 = init_vel()\n",
    "    print(f\"using omega:= {omega}\")\n",
    "    # update the velocities for each particle\n",
    "    v1 = update_velocity(v1, cb1, gb, c1, omega, alpha1, alpha2, r1, r2)\n",
    "    v2 = update_velocity(v2, cb2, gb, c2, omega, alpha1, alpha2, r1, r2)\n",
    "    v3 = update_velocity(v3, cb3, gb, c3, omega, alpha1, alpha2, r1, r2)\n",
    "    # update the positions based on new velocity\n",
    "    c1 = update_position(c1, v1)\n",
    "    c2 = update_position(c2, v2)\n",
    "    c3 = update_position(c3, v3)\n",
    "    # visualize results\n",
    "    for idx, particle in enumerate([c1,c2,c3]):\n",
    "        print(f\"Particle: {idx+1} -- New Position: {particle} -- New Fitness: {calc_fitness(particle)}\")"
   ]
  },
  {
   "cell_type": "markdown",
   "metadata": {},
   "source": [
    "(c) Explain what is the effect of the parameter ω."
   ]
  },
  {
   "cell_type": "markdown",
   "metadata": {},
   "source": [
    "Generally speaking, the inertia weight $\\omega$ can impact the search neighborhood by dictating how much a particle explores the given state space. The larger the value of $\\omega$ is, the larger the change in position of the particle. Correspondingly, a smaller $\\omega$ value yields a smaller change in position, which is equivalent to a more local search and less exploration of the state space. This phenomenon corresponds to the results obtained in (b). As the value of tested $\\omega$ decreased, the change in position decreased. Additionally, the value of omega dictates how strong the inertial velocity of the particle is. The smaller omega is, the easier it is to overcome its inertia and change direction. The larger omega is, the harder it is to overcome the built up velocity and change the direction of a particle's movement. \n",
    "\n",
    "Furthermore, whether the value of $\\omega$ is smaller or larger than 1 affects how a particle explores the search space over time. By using a value for $\\omega$ that is larger than 1, the value of the velocity will keep on increasing over time, which in return yields a divergent search behavior. On the other hand, by using a value for $\\omega$ that is smaller than 1, the value of the particles' velocities will gradually decrease over time, until eventually reaching 0. Once the velocity of a particle reaches 0, its position remains static and no further search of the neighborhood is performed.\n",
    "\n",
    "We can see in b) that because of the high velocity, using an inertia weight\n",
    "of 1 has caused the particle to strongly overshoot the goal for each particle\n",
    "and in turn reduced the fitness. With omega of 0.5, the search was more\n",
    "local, but the particles still overshot the global optimum. Finally, using\n",
    "0.1 for omega, the search was very local and the particles got very close\n",
    "to the global optimum.\n"
   ]
  },
  {
   "cell_type": "markdown",
   "metadata": {},
   "source": [
    "(d) Give an advantage and a disadvantage of a high value of ω."
   ]
  },
  {
   "cell_type": "markdown",
   "metadata": {},
   "source": [
    "As explained in (c), the larger the value of $\\omega$ is, the larger the change in position of the particles is. This behavior may be an advantage but it can also be disadvantageous. \n",
    "\n",
    "By having larger changes in position, a particle will explore larger areas of the search space. Therefore, it has more chances of finding the global optimum and can thus avoid getting stuck in a local optimum, which is an advantage as compared to a more local search.\n",
    "\n",
    "However, this behavior can also be disadvantageous because the particle may diverge and not return to previously found best solutions in spite of not having found a better solution.\n"
   ]
  },
  {
   "cell_type": "markdown",
   "metadata": {},
   "source": []
  }
 ],
 "metadata": {
  "interpreter": {
   "hash": "2741cac713f42d9b83073bbc7ba0c967fcf3d886dedc3c40b64d8f3c8efd59a9"
  },
  "kernelspec": {
   "display_name": "Python 3.8.8 ('base')",
   "language": "python",
   "name": "python3"
  },
  "language_info": {
   "codemirror_mode": {
    "name": "ipython",
    "version": 3
   },
   "file_extension": ".py",
   "mimetype": "text/x-python",
   "name": "python",
   "nbconvert_exporter": "python",
   "pygments_lexer": "ipython3",
   "version": "3.8.8"
  },
  "orig_nbformat": 4
 },
 "nbformat": 4,
 "nbformat_minor": 2
}

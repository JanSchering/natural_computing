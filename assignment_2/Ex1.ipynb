{
 "cells": [
  {
   "cell_type": "code",
   "execution_count": 1,
   "metadata": {},
   "outputs": [],
   "source": [
    "import numpy as np"
   ]
  },
  {
   "cell_type": "code",
   "execution_count": 2,
   "metadata": {},
   "outputs": [],
   "source": [
    "# define Fitness Function\n",
    "def calc_fitness(candidate):\n",
    "    return np.sum(np.multiply(-candidate, np.sin(np.sqrt(np.abs(candidate)))))\n",
    "\n",
    "# test Fitness Function\n",
    "assert calc_fitness(np.array([-420.9687, -420.9687])) == 837.965774544325"
   ]
  },
  {
   "cell_type": "code",
   "execution_count": 3,
   "metadata": {},
   "outputs": [],
   "source": [
    "# define initial positions\n",
    "c1 = np.array([-400, -400])\n",
    "c2 = np.array([-410, -410])\n",
    "c3 = np.array([-415, -415])\n",
    "\n",
    "# define velocities\n",
    "v1 = np.array([-50, -50])\n",
    "v2 = np.array([-50, -50])\n",
    "v3 = np.array([-50, -50])\n",
    "\n",
    "# define particles\n",
    "p1 = np.array([c1, v1])\n",
    "p2 = np.array([c2, v2])\n",
    "p3 = np.array([c3, v3])\n",
    "\n",
    "# define local best\n",
    "cb1 = c1.copy()\n",
    "cb2 = c2.copy()\n",
    "cb3 = c3.copy()\n",
    "\n",
    "# define global best \n",
    "gb = c3.copy()\n"
   ]
  },
  {
   "cell_type": "code",
   "execution_count": 4,
   "metadata": {},
   "outputs": [],
   "source": [
    "# define hyperparameters\n",
    "alpha1 = alpha2 = 1\n",
    "r1 = r2 = 0.5\n",
    "omegas = [2, 0.5, 0.1]"
   ]
  },
  {
   "cell_type": "markdown",
   "metadata": {},
   "source": [
    "(a) Compute the fitness of each particle"
   ]
  },
  {
   "cell_type": "code",
   "execution_count": 5,
   "metadata": {},
   "outputs": [
    {
     "name": "stdout",
     "output_type": "stream",
     "text": [
      "Fitness for Particle 1: 730.3562005821021\n",
      "Fitness for Particle 2: 807.9150929576671\n",
      "Fitness for Particle 3: 829.0117583869608\n"
     ]
    }
   ],
   "source": [
    "print(f\"Fitness for Particle 1: {calc_fitness(c1)}\")\n",
    "print(f\"Fitness for Particle 2: {calc_fitness(c2)}\")\n",
    "print(f\"Fitness for Particle 3: {calc_fitness(c3)}\")"
   ]
  },
  {
   "cell_type": "markdown",
   "metadata": {},
   "source": [
    "(b) What would be the next position and fitness of each particle after one iteration\n",
    "of the PSO algorithm, when using ω = 2, ω = 0.5, and ω = 0.1, respectively? (In\n",
    "case a component of a new position falls outside the range −500 ≤ x(i) ≤ 500,\n",
    "it is mapped to its closest value in the range. For instance, if the computation\n",
    "of a new position gives (550, 500), it is set to (500, 500).)"
   ]
  },
  {
   "cell_type": "code",
   "execution_count": 6,
   "metadata": {},
   "outputs": [],
   "source": [
    "def update_velocity(vel, local_best, global_best, current, omega, alpha1, alpha2, r1, r2):\n",
    "    \"\"\" Computes the velocity of a particle according to the corresponding update rule \"\"\"\n",
    "    return omega*vel + alpha1*r1*(local_best - current) + alpha2*r2*(global_best - current)\n",
    "\n",
    "def update_position(current, velocity):\n",
    "    \"\"\" Updates the position of a particle at a given iteration \"\"\"\n",
    "    new_pos = current + velocity\n",
    "    new_pos[new_pos > 500] = 500\n",
    "    new_pos[new_pos < -500] = -500\n",
    "    return new_pos\n",
    "\n",
    "# test update_position function \n",
    "assert np.all(update_position(np.array([600, -600]), np.array([0,0])) == [500, -500])\n",
    "    "
   ]
  },
  {
   "cell_type": "code",
   "execution_count": 7,
   "metadata": {},
   "outputs": [
    {
     "name": "stdout",
     "output_type": "stream",
     "text": [
      "using omega:= 2\n",
      "Particle: 1 -- New Position: [-500. -500.] -- New Fitness: -361.1783170627835\n",
      "Particle: 2 -- New Position: [-500. -500.] -- New Fitness: -361.1783170627835\n",
      "Particle: 3 -- New Position: [-500. -500.] -- New Fitness: -361.1783170627835\n",
      "using omega:= 0.5\n",
      "Particle: 1 -- New Position: [-461.25 -461.25] -- New Fitness: 453.89524649928035\n",
      "Particle: 2 -- New Position: [-463.75 -463.75] -- New Fitness: 408.6782910366492\n",
      "Particle: 3 -- New Position: [-465. -465.] -- New Fitness: 385.3974932882101\n",
      "using omega:= 0.1\n",
      "Particle: 1 -- New Position: [-403.625 -403.625] -- New Fitness: 763.7105604626043\n",
      "Particle: 2 -- New Position: [-408.875 -408.875] -- New Fitness: 801.4990396244182\n",
      "Particle: 3 -- New Position: [-411.5 -411.5] -- New Fitness: 815.5240334098103\n"
     ]
    }
   ],
   "source": [
    "for omega in omegas:\n",
    "    print(f\"using omega:= {omega}\")\n",
    "    # update the velocities for each particle\n",
    "    v1 = update_velocity(v1, cb1, gb, c1, omega, alpha1, alpha2, r1, r2)\n",
    "    v2 = update_velocity(v2, cb2, gb, c2, omega, alpha1, alpha2, r1, r2)\n",
    "    v3 = update_velocity(v3, cb3, gb, c3, omega, alpha1, alpha2, r1, r2)\n",
    "    # update the positions based on new velocity\n",
    "    c1 = update_position(c1, v1)\n",
    "    c2 = update_position(c2, v2)\n",
    "    c3 = update_position(c3, v3)\n",
    "    # visualize results\n",
    "    for idx, particle in enumerate([c1,c2,c3]):\n",
    "        print(f\"Particle: {idx+1} -- New Position: {particle} -- New Fitness: {calc_fitness(particle)}\")"
   ]
  },
  {
   "cell_type": "markdown",
   "metadata": {},
   "source": [
    "(c) Explain what is the effect of the parameter ω."
   ]
  },
  {
   "cell_type": "markdown",
   "metadata": {},
   "source": [
    "Generally speaking, the inertia weight $\\omega$ can impact the search neighborhood by dictating how much a particle explores the given state space. The larger the value of $\\omega$ is, the larger the change in position of the particle. Correspondingly, a smaller $\\omega$ value yields a smaller change in position, which is equivalent to a more local search and less exploration of the state space. This phenomenon corresponds to the results obtained in (b). As the value of tested $\\omega$ decreased, the change in position decreased. Additionally, the value of omega dictates how strong the inertial velocity of the particle is. The smaller omega is, the easier it is to overcome its inertia and change direction. The larger omega is, the harder it is to overcome the built up velocity and change the direction of a particle's movement. \n",
    "\n",
    "Furthermore, whether the value of $\\omega$ is smaller or larger than 1 affects how a particle explores the search space over time. By using a value for $\\omega$ that is larger than 1, the value of the velocity will keep on increasing over time, which in return yields a divergent search behavior. On the other hand, by using a value for $\\omega$ that is smaller than 1, the value of the particles' velocities will gradually decrease over time, until eventually reaching 0. Once the velocity of a particle reaches 0, its position remains static and no further search of the neighborhood is performed.\n"
   ]
  },
  {
   "cell_type": "markdown",
   "metadata": {},
   "source": [
    "(d) Give an advantage and a disadvantage of a high value of ω."
   ]
  },
  {
   "cell_type": "markdown",
   "metadata": {},
   "source": [
    "As explained in (c), the larger the value of $\\omega$ is, the larger the change in position of the particles is. This behavior may be an advantage but it can also be disadvantageous. \n",
    "\n",
    "By having larger changes in position, a particle will explore larger areas of the search space. Therefore, it has more chances of finding the global optimum and can thus avoid getting stuck in a local optimum, which is an advantage as compared to a more local search.\n",
    "\n",
    "However, this behavior can also be disadvantageous because the particle may diverge and not return to previously found best solutions in spite of not having found a better solution.\n"
   ]
  },
  {
   "cell_type": "markdown",
   "metadata": {},
   "source": []
  }
 ],
 "metadata": {
  "interpreter": {
   "hash": "2741cac713f42d9b83073bbc7ba0c967fcf3d886dedc3c40b64d8f3c8efd59a9"
  },
  "kernelspec": {
   "display_name": "Python 3.8.8 ('base')",
   "language": "python",
   "name": "python3"
  },
  "language_info": {
   "codemirror_mode": {
    "name": "ipython",
    "version": 3
   },
   "file_extension": ".py",
   "mimetype": "text/x-python",
   "name": "python",
   "nbconvert_exporter": "python",
   "pygments_lexer": "ipython3",
   "version": "3.8.8"
  },
  "orig_nbformat": 4
 },
 "nbformat": 4,
 "nbformat_minor": 2
}

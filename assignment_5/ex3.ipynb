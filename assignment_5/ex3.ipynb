{
 "cells": [
  {
   "cell_type": "code",
   "execution_count": 2,
   "metadata": {},
   "outputs": [],
   "source": [
    "import numpy as np\n",
    "import matplotlib.pyplot as plt\n",
    "import math"
   ]
  },
  {
   "cell_type": "markdown",
   "metadata": {},
   "source": [
    "(b) (5 points) Instead of using an equal-weight majority vote, we can use\n",
    "a weighted majority vote in which the strong classifier has a larger\n",
    "weight. Implement a function that computes, for a given weight w\n",
    "for the strong classifier, the probability that the weighted majority\n",
    "vote results in the correct decision. Make a graph of the probability\n",
    "of a correct decision given different weights. What is the optimal\n",
    "weight for the strong classifier?"
   ]
  },
  {
   "cell_type": "code",
   "execution_count": 3,
   "metadata": {},
   "outputs": [],
   "source": [
    "def success_prob(M:float, p:float, n_successes:int) -> float:\n",
    "    \"\"\"\n",
    "    Calculate the probability of having at least <n_successes> successful trials in a series of <M> independent Bernoulli trials \n",
    "    with a success rate of <p>.\n",
    "    \"\"\"\n",
    "    return 1 - np.sum([math.comb(M, i) * p**i * (1-p)**(M-i) for i in range(0, n_successes)])"
   ]
  },
  {
   "cell_type": "code",
   "execution_count": 4,
   "metadata": {},
   "outputs": [],
   "source": [
    "def prob_bounded(M:float, p:float, successes:int) -> float:\n",
    "    \"\"\"\n",
    "    Calculate the probability of up to <successes> successful trials in <M> independent trials with success_rate <p>.\n",
    "    \"\"\"\n",
    "    return np.sum([math.comb(M, i) * p**i * (1-p)**(M-i) for i in range(0, successes)])"
   ]
  },
  {
   "cell_type": "code",
   "execution_count": 16,
   "metadata": {},
   "outputs": [],
   "source": [
    "def weighted_majority(weight:int, p_strong:float, p_weak:float) -> float:\n",
    "    \"\"\"\n",
    "    Calculates the probability of a correct majority decision given\n",
    "    - A strong classifier with success rate <p_strong>\n",
    "    - An ensemble of 10 weak classifiers with respective success rates <p_weak>\n",
    "    - A weight factor <weight> for the vote of the strong classifier\n",
    "    \"\"\"\n",
    "    print(f'weight: {weight}')\n",
    "    # there are 10 weak classifiers \n",
    "    n_weak = 10\n",
    "    # the theoretical number of votes is the sum of weak classifiers and the weight of the strong classifier\n",
    "    theoretical_vote_cap = n_weak + weight\n",
    "    # the majority is based on the theoretical vote cap\n",
    "    n_majority = math.floor(theoretical_vote_cap / 2) + 1\n",
    "    print(\"Majority:\", n_majority)\n",
    "    \n",
    "    # The first way to gain a majority is to have enough weak classifiers voting correctly\n",
    "    if n_majority <= 10:\n",
    "        weak_majority = success_prob(n_weak, p_weak, n_majority)\n",
    "        print(\"Probability of weak majority:\", weak_majority)\n",
    "    else:\n",
    "        weak_majority = 0\n",
    "    \n",
    "    # The second way to gain a majority is for the strong classifier to vote correctly and have enough support from the weak classifiers\n",
    "    # For that we need to calculate the probability of the lower bound and subtract it from the probability of the upper bound of supporting classifiers\n",
    "    lower_bound = n_majority - weight\n",
    "    if lower_bound > 0:\n",
    "        upper_bound = n_majority\n",
    "        p_lower = prob_bounded(n_weak, p_weak, lower_bound)\n",
    "        p_upper = prob_bounded(n_weak, p_weak, upper_bound)\n",
    "        strong_majority = (p_upper - p_lower) * p_strong\n",
    "        print(\"Probability of strong majority:\", strong_majority)\n",
    "    else:\n",
    "        strong_majority = p_strong\n",
    "    print(f'probability of reaching a majority: {weak_majority + strong_majority}')\n",
    "    return weak_majority + strong_majority"
   ]
  },
  {
   "cell_type": "code",
   "execution_count": 6,
   "metadata": {},
   "outputs": [
    {
     "name": "stdout",
     "output_type": "stream",
     "text": [
      "Majority: 6\n",
      "Probability of weak majority: 0.6331032576\n",
      "Probability of strong majority: 0.16052649984000003\n",
      "Weight: 1, Probability: 0.79362975744\n"
     ]
    }
   ],
   "source": [
    "print(\"Weight: 1, Probability:\", weighted_majority(1, 0.8, 0.6))"
   ]
  },
  {
   "cell_type": "code",
   "execution_count": 17,
   "metadata": {},
   "outputs": [
    {
     "name": "stdout",
     "output_type": "stream",
     "text": [
      "weight: 1\n",
      "Majority: 6\n",
      "Probability of weak majority: 0.6331032576\n",
      "Probability of strong majority: 0.16052649984000003\n",
      "probability of reaching a majority: 0.79362975744\n",
      "weight: 2\n",
      "Majority: 7\n",
      "Probability of weak majority: 0.3822806015999999\n",
      "Probability of strong majority: 0.3611846246400001\n",
      "probability of reaching a majority: 0.74346522624\n",
      "weight: 3\n",
      "Majority: 7\n",
      "Probability of weak majority: 0.3822806015999999\n",
      "Probability of strong majority: 0.45036601344000005\n",
      "probability of reaching a majority: 0.8326466150399999\n",
      "weight: 4\n",
      "Majority: 8\n",
      "Probability of weak majority: 0.16728975359999987\n",
      "Probability of strong majority: 0.6223586918400001\n",
      "probability of reaching a majority: 0.78964844544\n",
      "weight: 5\n",
      "Majority: 8\n",
      "Probability of weak majority: 0.16728975359999987\n",
      "Probability of strong majority: 0.6563325542400001\n",
      "probability of reaching a majority: 0.82362230784\n",
      "weight: 6\n",
      "Majority: 9\n",
      "Probability of weak majority: 0.0463574015999999\n",
      "Probability of strong majority: 0.7530784358400001\n",
      "probability of reaching a majority: 0.79943583744\n",
      "weight: 7\n",
      "Majority: 9\n",
      "Probability of weak majority: 0.0463574015999999\n",
      "Probability of strong majority: 0.7615719014400001\n",
      "probability of reaching a majority: 0.80792930304\n",
      "weight: 8\n",
      "Majority: 10\n",
      "Probability of weak majority: 0.006046617599999915\n",
      "Probability of strong majority: 0.7938205286400001\n",
      "probability of reaching a majority: 0.79986714624\n",
      "weight: 9\n",
      "Majority: 10\n",
      "Probability of weak majority: 0.006046617599999915\n",
      "Probability of strong majority: 0.7950788198400001\n",
      "probability of reaching a majority: 0.80112543744\n",
      "weight: 10\n",
      "Majority: 11\n",
      "Probability of strong majority: 0.7999161139200001\n",
      "probability of reaching a majority: 0.7999161139200001\n",
      "weight: 11\n",
      "Majority: 11\n",
      "probability of reaching a majority: 0.8\n"
     ]
    }
   ],
   "source": [
    "# Get the probabilities of a correct majority decision for varying weights in a range of [1,11]\n",
    "probabilities = [weighted_majority(weight, 0.8, 0.6) for weight in range(1, 12)]"
   ]
  },
  {
   "cell_type": "code",
   "execution_count": 12,
   "metadata": {},
   "outputs": [
    {
     "data": {
      "text/plain": [
       "Text(0, 0.5, 'probability of correct majority decision')"
      ]
     },
     "execution_count": 12,
     "metadata": {},
     "output_type": "execute_result"
    },
    {
     "data": {
      "image/png": "[encoded data removed]",
      "text/plain": [
       "<Figure size 432x288 with 1 Axes>"
      ]
     },
     "metadata": {
      "needs_background": "light"
     },
     "output_type": "display_data"
    }
   ],
   "source": [
    "plt.plot([i for i in range(1,12)], probabilities)\n",
    "plt.xlabel('weight of the strong classifier')\n",
    "plt.ylabel('probability of correct majority decision')"
   ]
  },
  {
   "cell_type": "markdown",
   "metadata": {},
   "source": [
    "(c) (5 points) The AdaBoost.M1 algorithm provides a formula to compute the classifier weights based on their error on the training set.\n",
    "Use the expected errors of the strong and weak classifiers to compute their respective weights. Compare the answer to the answer\n",
    "you found in the previous question."
   ]
  },
  {
   "cell_type": "code",
   "execution_count": 13,
   "metadata": {},
   "outputs": [
    {
     "name": "stdout",
     "output_type": "stream",
     "text": [
      "1.3862943611198906\n",
      "0.4054651081081642\n"
     ]
    }
   ],
   "source": [
    "print(math.log((1-0.2)/0.2))\n",
    "print(math.log((1-0.4)/0.4))"
   ]
  },
  {
   "cell_type": "markdown",
   "metadata": {},
   "source": [
    "(d) (5 points) Plot the weight given to a base-learner in the AdaBoost\n",
    "algorithm for different values of the error the base-learner makes.\n",
    "Explain what you see. What does it mean for these weights if we\n",
    "assume the base-learners are weak-learners? What happens to the\n",
    "weights if the probability of error of the base-learner is > 0.5 and\n",
    "why?\n"
   ]
  },
  {
   "cell_type": "code",
   "execution_count": 2,
   "metadata": {},
   "outputs": [],
   "source": [
    "def get_weight(error_rate):\n",
    "  return np.log((1-error_rate)/error_rate)\n",
    "  "
   ]
  },
  {
   "cell_type": "code",
   "execution_count": 3,
   "metadata": {},
   "outputs": [],
   "source": [
    "weights = []\n",
    "for i in range(1, 100):\n",
    "  err_rate = i/100\n",
    "  weight = get_weight(err_rate)\n",
    "  weights.append(weight)\n",
    "  "
   ]
  },
  {
   "cell_type": "code",
   "execution_count": 6,
   "metadata": {},
   "outputs": [
    {
     "data": {
      "text/plain": [
       "Text(0.5, 1.0, 'Comparing weights for base learners with varying error rates')"
      ]
     },
     "execution_count": 6,
     "metadata": {},
     "output_type": "execute_result"
    },
    {
     "data": {
      "image/png": "[encoded data removed]",
      "text/plain": [
       "<Figure size 432x288 with 1 Axes>"
      ]
     },
     "metadata": {
      "needs_background": "light"
     },
     "output_type": "display_data"
    }
   ],
   "source": [
    "plt.plot([i/100 for i in range(1,100)], weights)\n",
    "plt.xlabel('error rate')\n",
    "plt.ylabel('weight')\n",
    "plt.title('Comparing weights for base learners with varying error rates')"
   ]
  },
  {
   "cell_type": "code",
   "execution_count": null,
   "metadata": {},
   "outputs": [],
   "source": []
  }
 ],
 "metadata": {
  "interpreter": {
   "hash": "3bae9b09246558035050f647c7248d8aa50dbca0c72d33a901400b0fbdc90bc3"
  },
  "kernelspec": {
   "display_name": "Python 3.9.7 ('base')",
   "language": "python",
   "name": "python3"
  },
  "language_info": {
   "codemirror_mode": {
    "name": "ipython",
    "version": 3
   },
   "file_extension": ".py",
   "mimetype": "text/x-python",
   "name": "python",
   "nbconvert_exporter": "python",
   "pygments_lexer": "ipython3",
   "version": "3.9.7"
  },
  "orig_nbformat": 4
 },
 "nbformat": 4,
 "nbformat_minor": 2
}

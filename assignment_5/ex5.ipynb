{
 "cells": [
  {
   "cell_type": "markdown",
   "metadata": {},
   "source": [
    "5. (25 points) For the final part of this assignment you can choose to use\n",
    "random forests or AdaBoost. If you are curious about the differences, feel\n",
    "free to compare both methods, but this is not required for the assignment.\n",
    "For your method of choice, find out what widely used implementations are\n",
    "available in your favourite programming language and apply the method\n",
    "to a prediction problem you find interesting (see, for instance, the UCI\n",
    "Machine Learning repository for interesting datasets).\n",
    "Write a short summary of your findings. Describe which dataset and\n",
    "implementation you used, how you set up your experiment, and discuss\n",
    "your results.\n",
    "Things to keep in mind:\n",
    "• Include a simple baseline: a classifier without an ensemble, and compare this with the ensemble model.\n",
    "• What is the effect of different parameter settings? (Such as the size\n",
    "of the ensemble, the depth of the trees etc.) Include plots to show\n",
    "the performance for different values, and choose ranges that show all\n",
    "the interesting points.\n",
    "• If your ensemble method includes a feature selection component, discuss which features are selected.\n",
    "• Set up a proper machine learning experiment (no training on the test\n",
    "set etc.) to get reliable results.\n",
    "Please also upload the code for your experiments, but make sure we can\n",
    "understand your summary without it: include all the necessary details\n",
    "and results in the text"
   ]
  },
  {
   "cell_type": "markdown",
   "metadata": {},
   "source": [
    "a) Choosing and importing a dataset"
   ]
  },
  {
   "cell_type": "code",
   "execution_count": 15,
   "metadata": {},
   "outputs": [],
   "source": [
    "# Initial imports\n",
    "import numpy as np\n",
    "import pandas as pd\n",
    "from os import path, getcwd\n",
    "from sklearn.model_selection import train_test_split\n",
    "from sklearn.ensemble import AdaBoostClassifier\n",
    "from sklearn.ensemble import RandomForestClassifier\n",
    "from sklearn.metrics import classification_report, plot_confusion_matrix\n",
    "from sklearn.tree import DecisionTreeClassifier\n",
    "from sklearn.linear_model import LogisticRegression\n",
    "from sklearn.preprocessing import StandardScaler\n"
   ]
  },
  {
   "cell_type": "markdown",
   "metadata": {},
   "source": [
    "We have chosen to use the \"Motion Capture Hand Postures Data Set\", provided through the UCI Machine Learning platform under http://archive.ics.uci.edu/ml/datasets/Motion+Capture+Hand+Postures"
   ]
  },
  {
   "cell_type": "code",
   "execution_count": 2,
   "metadata": {},
   "outputs": [],
   "source": [
    "# Importing the data from the file\n",
    "data_path = path.join(getcwd(), 'Postures', 'Postures.csv')\n",
    "df = pd.read_csv(data_path, dtype='str')"
   ]
  },
  {
   "cell_type": "markdown",
   "metadata": {},
   "source": [
    "First, we perform some preliminary exploratory analysis of the dataset"
   ]
  },
  {
   "cell_type": "code",
   "execution_count": 3,
   "metadata": {},
   "outputs": [
    {
     "data": {
      "text/html": [
       "<div>\n",
       "<style scoped>\n",
       "    .dataframe tbody tr th:only-of-type {\n",
       "        vertical-align: middle;\n",
       "    }\n",
       "\n",
       "    .dataframe tbody tr th {\n",
       "        vertical-align: top;\n",
       "    }\n",
       "\n",
       "    .dataframe thead th {\n",
       "        text-align: right;\n",
       "    }\n",
       "</style>\n",
       "<table border=\"1\" class=\"dataframe\">\n",
       "  <thead>\n",
       "    <tr style=\"text-align: right;\">\n",
       "      <th></th>\n",
       "      <th>Class</th>\n",
       "      <th>User</th>\n",
       "      <th>X0</th>\n",
       "      <th>Y0</th>\n",
       "      <th>Z0</th>\n",
       "      <th>X1</th>\n",
       "      <th>Y1</th>\n",
       "      <th>Z1</th>\n",
       "      <th>X2</th>\n",
       "      <th>Y2</th>\n",
       "      <th>...</th>\n",
       "      <th>Z8</th>\n",
       "      <th>X9</th>\n",
       "      <th>Y9</th>\n",
       "      <th>Z9</th>\n",
       "      <th>X10</th>\n",
       "      <th>Y10</th>\n",
       "      <th>Z10</th>\n",
       "      <th>X11</th>\n",
       "      <th>Y11</th>\n",
       "      <th>Z11</th>\n",
       "    </tr>\n",
       "  </thead>\n",
       "  <tbody>\n",
       "    <tr>\n",
       "      <th>0</th>\n",
       "      <td>0</td>\n",
       "      <td>0</td>\n",
       "      <td>0</td>\n",
       "      <td>0</td>\n",
       "      <td>0</td>\n",
       "      <td>0</td>\n",
       "      <td>0</td>\n",
       "      <td>0</td>\n",
       "      <td>0</td>\n",
       "      <td>0</td>\n",
       "      <td>...</td>\n",
       "      <td>0</td>\n",
       "      <td>0</td>\n",
       "      <td>0</td>\n",
       "      <td>0</td>\n",
       "      <td>0</td>\n",
       "      <td>0</td>\n",
       "      <td>0</td>\n",
       "      <td>0</td>\n",
       "      <td>0</td>\n",
       "      <td>0</td>\n",
       "    </tr>\n",
       "    <tr>\n",
       "      <th>1</th>\n",
       "      <td>1</td>\n",
       "      <td>0</td>\n",
       "      <td>54.2638799540698</td>\n",
       "      <td>71.4667761378817</td>\n",
       "      <td>-64.807708780882</td>\n",
       "      <td>76.8956347751343</td>\n",
       "      <td>42.462499897063</td>\n",
       "      <td>-72.7805451867589</td>\n",
       "      <td>36.6212291601289</td>\n",
       "      <td>81.6805569287795</td>\n",
       "      <td>...</td>\n",
       "      <td>?</td>\n",
       "      <td>?</td>\n",
       "      <td>?</td>\n",
       "      <td>?</td>\n",
       "      <td>?</td>\n",
       "      <td>?</td>\n",
       "      <td>?</td>\n",
       "      <td>?</td>\n",
       "      <td>?</td>\n",
       "      <td>?</td>\n",
       "    </tr>\n",
       "    <tr>\n",
       "      <th>2</th>\n",
       "      <td>1</td>\n",
       "      <td>0</td>\n",
       "      <td>56.5275584513992</td>\n",
       "      <td>72.2666086344311</td>\n",
       "      <td>-61.9352524181086</td>\n",
       "      <td>39.1359781094435</td>\n",
       "      <td>82.5385299123923</td>\n",
       "      <td>-49.596509402198</td>\n",
       "      <td>79.2237427757379</td>\n",
       "      <td>43.2540908549394</td>\n",
       "      <td>...</td>\n",
       "      <td>?</td>\n",
       "      <td>?</td>\n",
       "      <td>?</td>\n",
       "      <td>?</td>\n",
       "      <td>?</td>\n",
       "      <td>?</td>\n",
       "      <td>?</td>\n",
       "      <td>?</td>\n",
       "      <td>?</td>\n",
       "      <td>?</td>\n",
       "    </tr>\n",
       "    <tr>\n",
       "      <th>3</th>\n",
       "      <td>1</td>\n",
       "      <td>0</td>\n",
       "      <td>55.8499275533856</td>\n",
       "      <td>72.4690639900078</td>\n",
       "      <td>-62.5627881992281</td>\n",
       "      <td>37.9888039795987</td>\n",
       "      <td>82.6313466902829</td>\n",
       "      <td>-50.6062592522547</td>\n",
       "      <td>78.4515264181117</td>\n",
       "      <td>43.5674025538352</td>\n",
       "      <td>...</td>\n",
       "      <td>?</td>\n",
       "      <td>?</td>\n",
       "      <td>?</td>\n",
       "      <td>?</td>\n",
       "      <td>?</td>\n",
       "      <td>?</td>\n",
       "      <td>?</td>\n",
       "      <td>?</td>\n",
       "      <td>?</td>\n",
       "      <td>?</td>\n",
       "    </tr>\n",
       "    <tr>\n",
       "      <th>4</th>\n",
       "      <td>1</td>\n",
       "      <td>0</td>\n",
       "      <td>55.3296473571984</td>\n",
       "      <td>71.7072747279931</td>\n",
       "      <td>-63.6889560555559</td>\n",
       "      <td>36.5618625820934</td>\n",
       "      <td>81.8687487820502</td>\n",
       "      <td>-52.7527843041592</td>\n",
       "      <td>86.3206299370292</td>\n",
       "      <td>68.2146450062245</td>\n",
       "      <td>...</td>\n",
       "      <td>?</td>\n",
       "      <td>?</td>\n",
       "      <td>?</td>\n",
       "      <td>?</td>\n",
       "      <td>?</td>\n",
       "      <td>?</td>\n",
       "      <td>?</td>\n",
       "      <td>?</td>\n",
       "      <td>?</td>\n",
       "      <td>?</td>\n",
       "    </tr>\n",
       "  </tbody>\n",
       "</table>\n",
       "<p>5 rows × 38 columns</p>\n",
       "</div>"
      ],
      "text/plain": [
       "  Class User                X0                Y0                 Z0  \\\n",
       "0     0    0                 0                 0                  0   \n",
       "1     1    0  54.2638799540698  71.4667761378817   -64.807708780882   \n",
       "2     1    0  56.5275584513992  72.2666086344311  -61.9352524181086   \n",
       "3     1    0  55.8499275533856  72.4690639900078  -62.5627881992281   \n",
       "4     1    0  55.3296473571984  71.7072747279931  -63.6889560555559   \n",
       "\n",
       "                 X1                Y1                 Z1                X2  \\\n",
       "0                 0                 0                  0                 0   \n",
       "1  76.8956347751343   42.462499897063  -72.7805451867589  36.6212291601289   \n",
       "2  39.1359781094435  82.5385299123923   -49.596509402198  79.2237427757379   \n",
       "3  37.9888039795987  82.6313466902829  -50.6062592522547  78.4515264181117   \n",
       "4  36.5618625820934  81.8687487820502  -52.7527843041592  86.3206299370292   \n",
       "\n",
       "                 Y2  ... Z8 X9 Y9 Z9 X10 Y10 Z10 X11 Y11 Z11  \n",
       "0                 0  ...  0  0  0  0   0   0   0   0   0   0  \n",
       "1  81.6805569287795  ...  ?  ?  ?  ?   ?   ?   ?   ?   ?   ?  \n",
       "2  43.2540908549394  ...  ?  ?  ?  ?   ?   ?   ?   ?   ?   ?  \n",
       "3  43.5674025538352  ...  ?  ?  ?  ?   ?   ?   ?   ?   ?   ?  \n",
       "4  68.2146450062245  ...  ?  ?  ?  ?   ?   ?   ?   ?   ?   ?  \n",
       "\n",
       "[5 rows x 38 columns]"
      ]
     },
     "execution_count": 3,
     "metadata": {},
     "output_type": "execute_result"
    }
   ],
   "source": [
    "df.head()"
   ]
  },
  {
   "cell_type": "markdown",
   "metadata": {},
   "source": [
    "Inspecting the head of the dataset reveals, that we have a label/classification column called 'Class'. According to the provided description of the dataset, the labels can be $\\in \\{1,\\dots,5\\}$. Further, there is a column 'User', which provides the ID of the user from which the recording is taken. According to the description of the set, this does not have any influence on possible classifications, i.e. it can safely be removed throughout the pre-processing of the data.\n",
    "Finally, there are 36 different indicators that can be used for inference of the class."
   ]
  },
  {
   "cell_type": "markdown",
   "metadata": {},
   "source": [
    "We remove the redundant column from the set:"
   ]
  },
  {
   "cell_type": "code",
   "execution_count": 4,
   "metadata": {},
   "outputs": [
    {
     "data": {
      "text/html": [
       "<div>\n",
       "<style scoped>\n",
       "    .dataframe tbody tr th:only-of-type {\n",
       "        vertical-align: middle;\n",
       "    }\n",
       "\n",
       "    .dataframe tbody tr th {\n",
       "        vertical-align: top;\n",
       "    }\n",
       "\n",
       "    .dataframe thead th {\n",
       "        text-align: right;\n",
       "    }\n",
       "</style>\n",
       "<table border=\"1\" class=\"dataframe\">\n",
       "  <thead>\n",
       "    <tr style=\"text-align: right;\">\n",
       "      <th></th>\n",
       "      <th>Class</th>\n",
       "      <th>X0</th>\n",
       "      <th>Y0</th>\n",
       "      <th>Z0</th>\n",
       "      <th>X1</th>\n",
       "      <th>Y1</th>\n",
       "      <th>Z1</th>\n",
       "      <th>X2</th>\n",
       "      <th>Y2</th>\n",
       "      <th>Z2</th>\n",
       "      <th>...</th>\n",
       "      <th>Z8</th>\n",
       "      <th>X9</th>\n",
       "      <th>Y9</th>\n",
       "      <th>Z9</th>\n",
       "      <th>X10</th>\n",
       "      <th>Y10</th>\n",
       "      <th>Z10</th>\n",
       "      <th>X11</th>\n",
       "      <th>Y11</th>\n",
       "      <th>Z11</th>\n",
       "    </tr>\n",
       "  </thead>\n",
       "  <tbody>\n",
       "    <tr>\n",
       "      <th>0</th>\n",
       "      <td>0</td>\n",
       "      <td>0</td>\n",
       "      <td>0</td>\n",
       "      <td>0</td>\n",
       "      <td>0</td>\n",
       "      <td>0</td>\n",
       "      <td>0</td>\n",
       "      <td>0</td>\n",
       "      <td>0</td>\n",
       "      <td>0</td>\n",
       "      <td>...</td>\n",
       "      <td>0</td>\n",
       "      <td>0</td>\n",
       "      <td>0</td>\n",
       "      <td>0</td>\n",
       "      <td>0</td>\n",
       "      <td>0</td>\n",
       "      <td>0</td>\n",
       "      <td>0</td>\n",
       "      <td>0</td>\n",
       "      <td>0</td>\n",
       "    </tr>\n",
       "    <tr>\n",
       "      <th>1</th>\n",
       "      <td>1</td>\n",
       "      <td>54.2638799540698</td>\n",
       "      <td>71.4667761378817</td>\n",
       "      <td>-64.807708780882</td>\n",
       "      <td>76.8956347751343</td>\n",
       "      <td>42.462499897063</td>\n",
       "      <td>-72.7805451867589</td>\n",
       "      <td>36.6212291601289</td>\n",
       "      <td>81.6805569287795</td>\n",
       "      <td>-52.9192723726971</td>\n",
       "      <td>...</td>\n",
       "      <td>?</td>\n",
       "      <td>?</td>\n",
       "      <td>?</td>\n",
       "      <td>?</td>\n",
       "      <td>?</td>\n",
       "      <td>?</td>\n",
       "      <td>?</td>\n",
       "      <td>?</td>\n",
       "      <td>?</td>\n",
       "      <td>?</td>\n",
       "    </tr>\n",
       "    <tr>\n",
       "      <th>2</th>\n",
       "      <td>1</td>\n",
       "      <td>56.5275584513992</td>\n",
       "      <td>72.2666086344311</td>\n",
       "      <td>-61.9352524181086</td>\n",
       "      <td>39.1359781094435</td>\n",
       "      <td>82.5385299123923</td>\n",
       "      <td>-49.596509402198</td>\n",
       "      <td>79.2237427757379</td>\n",
       "      <td>43.2540908549394</td>\n",
       "      <td>-69.982489053646</td>\n",
       "      <td>...</td>\n",
       "      <td>?</td>\n",
       "      <td>?</td>\n",
       "      <td>?</td>\n",
       "      <td>?</td>\n",
       "      <td>?</td>\n",
       "      <td>?</td>\n",
       "      <td>?</td>\n",
       "      <td>?</td>\n",
       "      <td>?</td>\n",
       "      <td>?</td>\n",
       "    </tr>\n",
       "    <tr>\n",
       "      <th>3</th>\n",
       "      <td>1</td>\n",
       "      <td>55.8499275533856</td>\n",
       "      <td>72.4690639900078</td>\n",
       "      <td>-62.5627881992281</td>\n",
       "      <td>37.9888039795987</td>\n",
       "      <td>82.6313466902829</td>\n",
       "      <td>-50.6062592522547</td>\n",
       "      <td>78.4515264181117</td>\n",
       "      <td>43.5674025538352</td>\n",
       "      <td>-70.6584892573659</td>\n",
       "      <td>...</td>\n",
       "      <td>?</td>\n",
       "      <td>?</td>\n",
       "      <td>?</td>\n",
       "      <td>?</td>\n",
       "      <td>?</td>\n",
       "      <td>?</td>\n",
       "      <td>?</td>\n",
       "      <td>?</td>\n",
       "      <td>?</td>\n",
       "      <td>?</td>\n",
       "    </tr>\n",
       "    <tr>\n",
       "      <th>4</th>\n",
       "      <td>1</td>\n",
       "      <td>55.3296473571984</td>\n",
       "      <td>71.7072747279931</td>\n",
       "      <td>-63.6889560555559</td>\n",
       "      <td>36.5618625820934</td>\n",
       "      <td>81.8687487820502</td>\n",
       "      <td>-52.7527843041592</td>\n",
       "      <td>86.3206299370292</td>\n",
       "      <td>68.2146450062245</td>\n",
       "      <td>-72.2284608701467</td>\n",
       "      <td>...</td>\n",
       "      <td>?</td>\n",
       "      <td>?</td>\n",
       "      <td>?</td>\n",
       "      <td>?</td>\n",
       "      <td>?</td>\n",
       "      <td>?</td>\n",
       "      <td>?</td>\n",
       "      <td>?</td>\n",
       "      <td>?</td>\n",
       "      <td>?</td>\n",
       "    </tr>\n",
       "  </tbody>\n",
       "</table>\n",
       "<p>5 rows × 37 columns</p>\n",
       "</div>"
      ],
      "text/plain": [
       "  Class                X0                Y0                 Z0  \\\n",
       "0     0                 0                 0                  0   \n",
       "1     1  54.2638799540698  71.4667761378817   -64.807708780882   \n",
       "2     1  56.5275584513992  72.2666086344311  -61.9352524181086   \n",
       "3     1  55.8499275533856  72.4690639900078  -62.5627881992281   \n",
       "4     1  55.3296473571984  71.7072747279931  -63.6889560555559   \n",
       "\n",
       "                 X1                Y1                 Z1                X2  \\\n",
       "0                 0                 0                  0                 0   \n",
       "1  76.8956347751343   42.462499897063  -72.7805451867589  36.6212291601289   \n",
       "2  39.1359781094435  82.5385299123923   -49.596509402198  79.2237427757379   \n",
       "3  37.9888039795987  82.6313466902829  -50.6062592522547  78.4515264181117   \n",
       "4  36.5618625820934  81.8687487820502  -52.7527843041592  86.3206299370292   \n",
       "\n",
       "                 Y2                 Z2  ... Z8 X9 Y9 Z9 X10 Y10 Z10 X11 Y11  \\\n",
       "0                 0                  0  ...  0  0  0  0   0   0   0   0   0   \n",
       "1  81.6805569287795  -52.9192723726971  ...  ?  ?  ?  ?   ?   ?   ?   ?   ?   \n",
       "2  43.2540908549394   -69.982489053646  ...  ?  ?  ?  ?   ?   ?   ?   ?   ?   \n",
       "3  43.5674025538352  -70.6584892573659  ...  ?  ?  ?  ?   ?   ?   ?   ?   ?   \n",
       "4  68.2146450062245  -72.2284608701467  ...  ?  ?  ?  ?   ?   ?   ?   ?   ?   \n",
       "\n",
       "  Z11  \n",
       "0   0  \n",
       "1   ?  \n",
       "2   ?  \n",
       "3   ?  \n",
       "4   ?  \n",
       "\n",
       "[5 rows x 37 columns]"
      ]
     },
     "execution_count": 4,
     "metadata": {},
     "output_type": "execute_result"
    }
   ],
   "source": [
    "df = df.drop(columns=['User'])\n",
    "\n",
    "df.head()"
   ]
  },
  {
   "cell_type": "markdown",
   "metadata": {},
   "source": [
    "To ensure that there are no faulty labels in the labels (in the sense of being outside of the possible space), we check that all datapoints correspond to a valid label."
   ]
  },
  {
   "cell_type": "code",
   "execution_count": 5,
   "metadata": {},
   "outputs": [
    {
     "name": "stdout",
     "output_type": "stream",
     "text": [
      "found following faulty datapoints: [0]\n",
      "removing the faulty entries from the set...\n"
     ]
    }
   ],
   "source": [
    "valid_labels = np.array(['1','2','3','4','5'])\n",
    "\n",
    "try: \n",
    "  assert set(df['Class']) == set(valid_labels)\n",
    "except AssertionError:\n",
    "  faulty_entries = df.index[[value not in valid_labels for value in df['Class']]].to_list()\n",
    "  print(f'found following faulty datapoints: {faulty_entries}')\n",
    "  print(f'removing the faulty entries from the set...')\n",
    "  df = df.drop(faulty_entries)"
   ]
  },
  {
   "cell_type": "markdown",
   "metadata": {},
   "source": [
    "Next, we have to ensure that there are no faulty values provided for features. To check this, we convert all feature entries to floats and remove datapoints that are non-convertible (i.e they contain non-numeric characters)."
   ]
  },
  {
   "cell_type": "code",
   "execution_count": 6,
   "metadata": {},
   "outputs": [
    {
     "name": "stdout",
     "output_type": "stream",
     "text": [
      "found 0 faulty datapoints in column: X0\n",
      "found 0 faulty datapoints in column: Y0\n",
      "found 0 faulty datapoints in column: Z0\n",
      "found 0 faulty datapoints in column: X1\n",
      "found 0 faulty datapoints in column: Y1\n",
      "found 0 faulty datapoints in column: Z1\n",
      "found 0 faulty datapoints in column: X2\n",
      "found 0 faulty datapoints in column: Y2\n",
      "found 0 faulty datapoints in column: Z2\n",
      "found 690 faulty datapoints in column: X3\n",
      "found 690 faulty datapoints in column: Y3\n",
      "found 690 faulty datapoints in column: Z3\n",
      "found 3120 faulty datapoints in column: X4\n",
      "found 3120 faulty datapoints in column: Y4\n",
      "found 3120 faulty datapoints in column: Z4\n",
      "found 13023 faulty datapoints in column: X5\n",
      "found 13023 faulty datapoints in column: Y5\n",
      "found 13023 faulty datapoints in column: Z5\n",
      "found 25848 faulty datapoints in column: X6\n",
      "found 25848 faulty datapoints in column: Y6\n",
      "found 25848 faulty datapoints in column: Z6\n",
      "found 39152 faulty datapoints in column: X7\n",
      "found 39152 faulty datapoints in column: Y7\n",
      "found 39152 faulty datapoints in column: Z7\n",
      "found 47532 faulty datapoints in column: X8\n",
      "found 47532 faulty datapoints in column: Y8\n",
      "found 47532 faulty datapoints in column: Z8\n",
      "found 54128 faulty datapoints in column: X9\n",
      "found 54128 faulty datapoints in column: Y9\n",
      "found 54128 faulty datapoints in column: Z9\n",
      "found 63343 faulty datapoints in column: X10\n",
      "found 63343 faulty datapoints in column: Y10\n",
      "found 63343 faulty datapoints in column: Z10\n",
      "found 78064 faulty datapoints in column: X11\n",
      "found 78064 faulty datapoints in column: Y11\n",
      "found 78064 faulty datapoints in column: Z11\n"
     ]
    }
   ],
   "source": [
    "def check_numeric(x):\n",
    "    try:\n",
    "        float(x)\n",
    "        return True\n",
    "    except:\n",
    "        return False\n",
    "\n",
    "for column in df:\n",
    "  if column == 'Class':\n",
    "    pass\n",
    "  else:\n",
    "    num_faulty_entries = len(df.index[~df[column].apply(check_numeric)].to_list())\n",
    "    if len(faulty_entries) > 0:\n",
    "      print(f'found {num_faulty_entries} faulty datapoints in column: {column}')"
   ]
  },
  {
   "cell_type": "markdown",
   "metadata": {},
   "source": [
    "The analysis of the different feature vectors shows, that the amount of faulty datapoints per feature is progressively increasing. While (X0,Y0,Z0) have no faulty datapoints, (X3,Y3,Z3) are showing 690 faulty values and at the end of the spectrum (X11,Y11,Z11) only have 31 entries that are not faulty. Thus, a decision is to be made on how to properly handle the faulty entries. First, we decide to drop all features X,Y,Z > 4, as (X5,Y,Z5) is where the amount of faulty entries is drastically increasing from 3120 -> 13023. \n",
    "\n",
    "For the remaining features, we have decided to keep the datapoints with faulty/missing values, and simply replace these values with a standard value of 0."
   ]
  },
  {
   "cell_type": "code",
   "execution_count": 7,
   "metadata": {},
   "outputs": [
    {
     "data": {
      "text/html": [
       "<div>\n",
       "<style scoped>\n",
       "    .dataframe tbody tr th:only-of-type {\n",
       "        vertical-align: middle;\n",
       "    }\n",
       "\n",
       "    .dataframe tbody tr th {\n",
       "        vertical-align: top;\n",
       "    }\n",
       "\n",
       "    .dataframe thead th {\n",
       "        text-align: right;\n",
       "    }\n",
       "</style>\n",
       "<table border=\"1\" class=\"dataframe\">\n",
       "  <thead>\n",
       "    <tr style=\"text-align: right;\">\n",
       "      <th></th>\n",
       "      <th>Class</th>\n",
       "      <th>X0</th>\n",
       "      <th>Y0</th>\n",
       "      <th>Z0</th>\n",
       "      <th>X1</th>\n",
       "      <th>Y1</th>\n",
       "      <th>Z1</th>\n",
       "      <th>X2</th>\n",
       "      <th>Y2</th>\n",
       "      <th>Z2</th>\n",
       "      <th>X3</th>\n",
       "      <th>Y3</th>\n",
       "      <th>Z3</th>\n",
       "      <th>X4</th>\n",
       "      <th>Y4</th>\n",
       "      <th>Z4</th>\n",
       "    </tr>\n",
       "  </thead>\n",
       "  <tbody>\n",
       "    <tr>\n",
       "      <th>1</th>\n",
       "      <td>1</td>\n",
       "      <td>54.2638799540698</td>\n",
       "      <td>71.4667761378817</td>\n",
       "      <td>-64.807708780882</td>\n",
       "      <td>76.8956347751343</td>\n",
       "      <td>42.462499897063</td>\n",
       "      <td>-72.7805451867589</td>\n",
       "      <td>36.6212291601289</td>\n",
       "      <td>81.6805569287795</td>\n",
       "      <td>-52.9192723726971</td>\n",
       "      <td>85.2322638852917</td>\n",
       "      <td>67.7492195028673</td>\n",
       "      <td>-73.684130041833</td>\n",
       "      <td>59.1885757027887</td>\n",
       "      <td>10.6789364098231</td>\n",
       "      <td>-71.2977813147725</td>\n",
       "    </tr>\n",
       "    <tr>\n",
       "      <th>2</th>\n",
       "      <td>1</td>\n",
       "      <td>56.5275584513992</td>\n",
       "      <td>72.2666086344311</td>\n",
       "      <td>-61.9352524181086</td>\n",
       "      <td>39.1359781094435</td>\n",
       "      <td>82.5385299123923</td>\n",
       "      <td>-49.596509402198</td>\n",
       "      <td>79.2237427757379</td>\n",
       "      <td>43.2540908549394</td>\n",
       "      <td>-69.982489053646</td>\n",
       "      <td>87.4508729469625</td>\n",
       "      <td>68.4008083028339</td>\n",
       "      <td>-70.703990925959</td>\n",
       "      <td>61.5874515532753</td>\n",
       "      <td>11.7799190329758</td>\n",
       "      <td>-68.827417756239</td>\n",
       "    </tr>\n",
       "    <tr>\n",
       "      <th>3</th>\n",
       "      <td>1</td>\n",
       "      <td>55.8499275533856</td>\n",
       "      <td>72.4690639900078</td>\n",
       "      <td>-62.5627881992281</td>\n",
       "      <td>37.9888039795987</td>\n",
       "      <td>82.6313466902829</td>\n",
       "      <td>-50.6062592522547</td>\n",
       "      <td>78.4515264181117</td>\n",
       "      <td>43.5674025538352</td>\n",
       "      <td>-70.6584892573659</td>\n",
       "      <td>86.8353875680762</td>\n",
       "      <td>68.9079249764243</td>\n",
       "      <td>-71.1383441365739</td>\n",
       "      <td>61.6864271910576</td>\n",
       "      <td>11.7934398850428</td>\n",
       "      <td>-68.88931646056</td>\n",
       "    </tr>\n",
       "    <tr>\n",
       "      <th>4</th>\n",
       "      <td>1</td>\n",
       "      <td>55.3296473571984</td>\n",
       "      <td>71.7072747279931</td>\n",
       "      <td>-63.6889560555559</td>\n",
       "      <td>36.5618625820934</td>\n",
       "      <td>81.8687487820502</td>\n",
       "      <td>-52.7527843041592</td>\n",
       "      <td>86.3206299370292</td>\n",
       "      <td>68.2146450062245</td>\n",
       "      <td>-72.2284608701467</td>\n",
       "      <td>61.5961571288978</td>\n",
       "      <td>11.2506481750465</td>\n",
       "      <td>-68.9564252307431</td>\n",
       "      <td>77.3872254123912</td>\n",
       "      <td>42.7178334810919</td>\n",
       "      <td>-72.0151462991019</td>\n",
       "    </tr>\n",
       "    <tr>\n",
       "      <th>5</th>\n",
       "      <td>1</td>\n",
       "      <td>55.1424005703039</td>\n",
       "      <td>71.4356074614863</td>\n",
       "      <td>-64.1773032137746</td>\n",
       "      <td>36.175817734146</td>\n",
       "      <td>81.5568735764025</td>\n",
       "      <td>-53.4757466141485</td>\n",
       "      <td>76.9861434825171</td>\n",
       "      <td>42.4268485214705</td>\n",
       "      <td>-72.574743056517</td>\n",
       "      <td>86.3687480605765</td>\n",
       "      <td>67.9012603746826</td>\n",
       "      <td>-72.4446499648169</td>\n",
       "      <td>61.2754021959714</td>\n",
       "      <td>10.8411094568665</td>\n",
       "      <td>-69.2799064015993</td>\n",
       "    </tr>\n",
       "  </tbody>\n",
       "</table>\n",
       "</div>"
      ],
      "text/plain": [
       "  Class                X0                Y0                 Z0  \\\n",
       "1     1  54.2638799540698  71.4667761378817   -64.807708780882   \n",
       "2     1  56.5275584513992  72.2666086344311  -61.9352524181086   \n",
       "3     1  55.8499275533856  72.4690639900078  -62.5627881992281   \n",
       "4     1  55.3296473571984  71.7072747279931  -63.6889560555559   \n",
       "5     1  55.1424005703039  71.4356074614863  -64.1773032137746   \n",
       "\n",
       "                 X1                Y1                 Z1                X2  \\\n",
       "1  76.8956347751343   42.462499897063  -72.7805451867589  36.6212291601289   \n",
       "2  39.1359781094435  82.5385299123923   -49.596509402198  79.2237427757379   \n",
       "3  37.9888039795987  82.6313466902829  -50.6062592522547  78.4515264181117   \n",
       "4  36.5618625820934  81.8687487820502  -52.7527843041592  86.3206299370292   \n",
       "5   36.175817734146  81.5568735764025  -53.4757466141485  76.9861434825171   \n",
       "\n",
       "                 Y2                 Z2                X3                Y3  \\\n",
       "1  81.6805569287795  -52.9192723726971  85.2322638852917  67.7492195028673   \n",
       "2  43.2540908549394   -69.982489053646  87.4508729469625  68.4008083028339   \n",
       "3  43.5674025538352  -70.6584892573659  86.8353875680762  68.9079249764243   \n",
       "4  68.2146450062245  -72.2284608701467  61.5961571288978  11.2506481750465   \n",
       "5  42.4268485214705   -72.574743056517  86.3687480605765  67.9012603746826   \n",
       "\n",
       "                  Z3                X4                Y4                 Z4  \n",
       "1   -73.684130041833  59.1885757027887  10.6789364098231  -71.2977813147725  \n",
       "2   -70.703990925959  61.5874515532753  11.7799190329758   -68.827417756239  \n",
       "3  -71.1383441365739  61.6864271910576  11.7934398850428    -68.88931646056  \n",
       "4  -68.9564252307431  77.3872254123912  42.7178334810919  -72.0151462991019  \n",
       "5  -72.4446499648169  61.2754021959714  10.8411094568665  -69.2799064015993  "
      ]
     },
     "execution_count": 7,
     "metadata": {},
     "output_type": "execute_result"
    }
   ],
   "source": [
    "# Drop the columns that are not going to be used\n",
    "df = df.drop(columns=['X5', 'Y5', 'Z5', 'X6', 'Y6', 'Z6', 'X7', 'Y7', 'Z7', 'X8', 'Y8', 'Z8', 'X9', 'Y9', 'Z9', 'X10', 'Y10', 'Z10', 'X11', 'Y11', 'Z11'])\n",
    "\n",
    "df.head()"
   ]
  },
  {
   "cell_type": "code",
   "execution_count": 8,
   "metadata": {},
   "outputs": [],
   "source": [
    "# Replace faulty entries in the remaining features\n",
    "for column in df:\n",
    "  if column == 'Class':\n",
    "    pass\n",
    "  else:\n",
    "    df[column][~df[column].apply(check_numeric)] = 0"
   ]
  },
  {
   "cell_type": "code",
   "execution_count": 9,
   "metadata": {},
   "outputs": [
    {
     "name": "stdout",
     "output_type": "stream",
     "text": [
      "found 0 faulty datapoints in column: X0\n",
      "found 0 faulty datapoints in column: Y0\n",
      "found 0 faulty datapoints in column: Z0\n",
      "found 0 faulty datapoints in column: X1\n",
      "found 0 faulty datapoints in column: Y1\n",
      "found 0 faulty datapoints in column: Z1\n",
      "found 0 faulty datapoints in column: X2\n",
      "found 0 faulty datapoints in column: Y2\n",
      "found 0 faulty datapoints in column: Z2\n",
      "found 0 faulty datapoints in column: X3\n",
      "found 0 faulty datapoints in column: Y3\n",
      "found 0 faulty datapoints in column: Z3\n",
      "found 0 faulty datapoints in column: X4\n",
      "found 0 faulty datapoints in column: Y4\n",
      "found 0 faulty datapoints in column: Z4\n"
     ]
    }
   ],
   "source": [
    "# Check if any faulty entries remain\n",
    "for column in df:\n",
    "  if column == 'Class':\n",
    "    pass\n",
    "  else:\n",
    "    num_faulty_entries = len(df.index[~df[column].apply(check_numeric)].to_list())\n",
    "    if len(faulty_entries) > 0:\n",
    "      print(f'found {num_faulty_entries} faulty datapoints in column: {column}')"
   ]
  },
  {
   "cell_type": "markdown",
   "metadata": {},
   "source": [
    "After this preliminary cleaning of the set, we explore the range of values of the features."
   ]
  },
  {
   "cell_type": "code",
   "execution_count": 10,
   "metadata": {},
   "outputs": [
    {
     "name": "stdout",
     "output_type": "stream",
     "text": [
      "Column: X0, Max: 190.017835268349, Min: -108.552738453534 Average: 50.34630849916872\n",
      "Column: Y0, Max: 169.175463674415, Min: -98.2337564254493 Average: 85.81314953888146\n",
      "Column: Z0, Max: 113.345118737492, Min: -126.770871922379 Average: -29.985095790392123\n",
      "Column: X1, Max: 188.691996610615, Min: -111.685241228502 Average: 49.59584391541871\n",
      "Column: Y1, Max: 170.20935042246, Min: -96.1425893862385 Average: 86.1937508857489\n",
      "Column: Z1, Max: 104.697852278568, Min: -166.006838330746 Average: -29.50957947801039\n",
      "Column: X2, Max: 188.760167660165, Min: -106.88652434261 Average: 48.61274363683823\n",
      "Column: Y2, Max: 168.186466480241, Min: -100.789312248425 Average: 83.77238734187073\n",
      "Column: Z2, Max: 104.590878975593, Min: -129.595295926856 Average: -30.56090626855148\n",
      "Column: X3, Max: 151.033472021347, Min: -111.761052901312 Average: 48.064122991010194\n",
      "Column: Y3, Max: 168.292018313066, Min: -97.6034138799701 Average: 81.33925334320821\n",
      "Column: Z3, Max: 129.316869607955, Min: -143.540528780696 Average: -30.871450163120958\n",
      "Column: X4, Max: 172.27597752609, Min: -99.1076348731337 Average: 46.47219881126962\n",
      "Column: Y4, Max: 168.258642701432, Min: -97.9488285185599 Average: 77.20663867103845\n",
      "Column: Z4, Max: 119.237202872775, Min: -157.199088596754 Average: -30.715370846044582\n"
     ]
    }
   ],
   "source": [
    "X = df.drop(columns=['Class'])\n",
    "Y = df['Class']\n",
    "\n",
    "X = X.astype('float')\n",
    "\n",
    "for column in X:\n",
    "  print(f'Column: {column}, Max: {X[column].astype(float).max(axis=0)}, Min: {X[column].min()} Average: {X[column].mean()}')"
   ]
  },
  {
   "cell_type": "markdown",
   "metadata": {},
   "source": [
    "Before proceeding with training the classifier, we want to replace the placeholder values we have provided for the faulty entries with the class-specific mean of the feature."
   ]
  },
  {
   "cell_type": "code",
   "execution_count": 11,
   "metadata": {},
   "outputs": [],
   "source": [
    "for column in X:\n",
    "  for label in valid_labels:\n",
    "    # Replace the placeholders with the class-specific mean\n",
    "    X[column][X[column] == 0] = (X[column][Y == label]).mean()"
   ]
  },
  {
   "cell_type": "code",
   "execution_count": 12,
   "metadata": {},
   "outputs": [
    {
     "data": {
      "text/html": [
       "<div>\n",
       "<style scoped>\n",
       "    .dataframe tbody tr th:only-of-type {\n",
       "        vertical-align: middle;\n",
       "    }\n",
       "\n",
       "    .dataframe tbody tr th {\n",
       "        vertical-align: top;\n",
       "    }\n",
       "\n",
       "    .dataframe thead th {\n",
       "        text-align: right;\n",
       "    }\n",
       "</style>\n",
       "<table border=\"1\" class=\"dataframe\">\n",
       "  <thead>\n",
       "    <tr style=\"text-align: right;\">\n",
       "      <th></th>\n",
       "      <th>count</th>\n",
       "      <th>mean</th>\n",
       "      <th>std</th>\n",
       "      <th>min</th>\n",
       "      <th>25%</th>\n",
       "      <th>50%</th>\n",
       "      <th>75%</th>\n",
       "      <th>max</th>\n",
       "    </tr>\n",
       "  </thead>\n",
       "  <tbody>\n",
       "    <tr>\n",
       "      <th>X0</th>\n",
       "      <td>78095.0</td>\n",
       "      <td>50.346308</td>\n",
       "      <td>32.695886</td>\n",
       "      <td>-108.552738</td>\n",
       "      <td>29.295141</td>\n",
       "      <td>54.620245</td>\n",
       "      <td>72.488833</td>\n",
       "      <td>190.017835</td>\n",
       "    </tr>\n",
       "    <tr>\n",
       "      <th>Y0</th>\n",
       "      <td>78095.0</td>\n",
       "      <td>85.813150</td>\n",
       "      <td>40.203448</td>\n",
       "      <td>-98.233756</td>\n",
       "      <td>63.497746</td>\n",
       "      <td>86.526334</td>\n",
       "      <td>113.108673</td>\n",
       "      <td>169.175464</td>\n",
       "    </tr>\n",
       "    <tr>\n",
       "      <th>Z0</th>\n",
       "      <td>78095.0</td>\n",
       "      <td>-29.985096</td>\n",
       "      <td>34.361971</td>\n",
       "      <td>-126.770872</td>\n",
       "      <td>-56.356593</td>\n",
       "      <td>-30.864248</td>\n",
       "      <td>-1.419462</td>\n",
       "      <td>113.345119</td>\n",
       "    </tr>\n",
       "    <tr>\n",
       "      <th>X1</th>\n",
       "      <td>78095.0</td>\n",
       "      <td>49.595844</td>\n",
       "      <td>32.477961</td>\n",
       "      <td>-111.685241</td>\n",
       "      <td>28.755679</td>\n",
       "      <td>54.215714</td>\n",
       "      <td>71.763080</td>\n",
       "      <td>188.691997</td>\n",
       "    </tr>\n",
       "    <tr>\n",
       "      <th>Y1</th>\n",
       "      <td>78095.0</td>\n",
       "      <td>86.193751</td>\n",
       "      <td>40.452297</td>\n",
       "      <td>-96.142589</td>\n",
       "      <td>64.156450</td>\n",
       "      <td>87.543493</td>\n",
       "      <td>116.228881</td>\n",
       "      <td>170.209350</td>\n",
       "    </tr>\n",
       "    <tr>\n",
       "      <th>Z1</th>\n",
       "      <td>78095.0</td>\n",
       "      <td>-29.509579</td>\n",
       "      <td>34.764460</td>\n",
       "      <td>-166.006838</td>\n",
       "      <td>-57.360408</td>\n",
       "      <td>-30.185331</td>\n",
       "      <td>-0.368080</td>\n",
       "      <td>104.697852</td>\n",
       "    </tr>\n",
       "    <tr>\n",
       "      <th>X2</th>\n",
       "      <td>78095.0</td>\n",
       "      <td>48.612744</td>\n",
       "      <td>33.605155</td>\n",
       "      <td>-106.886524</td>\n",
       "      <td>25.173405</td>\n",
       "      <td>53.814592</td>\n",
       "      <td>71.561988</td>\n",
       "      <td>188.760168</td>\n",
       "    </tr>\n",
       "    <tr>\n",
       "      <th>Y2</th>\n",
       "      <td>78095.0</td>\n",
       "      <td>83.772387</td>\n",
       "      <td>41.022710</td>\n",
       "      <td>-100.789312</td>\n",
       "      <td>58.053733</td>\n",
       "      <td>86.459935</td>\n",
       "      <td>106.661720</td>\n",
       "      <td>168.186466</td>\n",
       "    </tr>\n",
       "    <tr>\n",
       "      <th>Z2</th>\n",
       "      <td>78095.0</td>\n",
       "      <td>-30.560906</td>\n",
       "      <td>35.120384</td>\n",
       "      <td>-129.595296</td>\n",
       "      <td>-58.654339</td>\n",
       "      <td>-32.356535</td>\n",
       "      <td>-0.946134</td>\n",
       "      <td>104.590879</td>\n",
       "    </tr>\n",
       "    <tr>\n",
       "      <th>X3</th>\n",
       "      <td>78095.0</td>\n",
       "      <td>48.434359</td>\n",
       "      <td>33.728778</td>\n",
       "      <td>-111.761053</td>\n",
       "      <td>24.183508</td>\n",
       "      <td>53.888390</td>\n",
       "      <td>71.216793</td>\n",
       "      <td>151.033472</td>\n",
       "    </tr>\n",
       "    <tr>\n",
       "      <th>Y3</th>\n",
       "      <td>78095.0</td>\n",
       "      <td>81.871374</td>\n",
       "      <td>41.437594</td>\n",
       "      <td>-97.603414</td>\n",
       "      <td>54.523555</td>\n",
       "      <td>85.477367</td>\n",
       "      <td>105.169964</td>\n",
       "      <td>168.292018</td>\n",
       "    </tr>\n",
       "    <tr>\n",
       "      <th>Z3</th>\n",
       "      <td>78095.0</td>\n",
       "      <td>-31.314295</td>\n",
       "      <td>35.818309</td>\n",
       "      <td>-143.540529</td>\n",
       "      <td>-59.223756</td>\n",
       "      <td>-34.562917</td>\n",
       "      <td>-1.749512</td>\n",
       "      <td>129.316870</td>\n",
       "    </tr>\n",
       "    <tr>\n",
       "      <th>X4</th>\n",
       "      <td>78095.0</td>\n",
       "      <td>48.042648</td>\n",
       "      <td>33.582981</td>\n",
       "      <td>-99.107635</td>\n",
       "      <td>24.332479</td>\n",
       "      <td>52.670592</td>\n",
       "      <td>71.036529</td>\n",
       "      <td>172.275978</td>\n",
       "    </tr>\n",
       "    <tr>\n",
       "      <th>Y4</th>\n",
       "      <td>78095.0</td>\n",
       "      <td>79.323322</td>\n",
       "      <td>42.107322</td>\n",
       "      <td>-97.948829</td>\n",
       "      <td>51.652950</td>\n",
       "      <td>84.372784</td>\n",
       "      <td>104.299414</td>\n",
       "      <td>168.258643</td>\n",
       "    </tr>\n",
       "    <tr>\n",
       "      <th>Z4</th>\n",
       "      <td>78095.0</td>\n",
       "      <td>-32.555911</td>\n",
       "      <td>35.770162</td>\n",
       "      <td>-157.199089</td>\n",
       "      <td>-59.733553</td>\n",
       "      <td>-37.494205</td>\n",
       "      <td>-3.680706</td>\n",
       "      <td>119.237203</td>\n",
       "    </tr>\n",
       "  </tbody>\n",
       "</table>\n",
       "</div>"
      ],
      "text/plain": [
       "      count       mean        std         min        25%        50%  \\\n",
       "X0  78095.0  50.346308  32.695886 -108.552738  29.295141  54.620245   \n",
       "Y0  78095.0  85.813150  40.203448  -98.233756  63.497746  86.526334   \n",
       "Z0  78095.0 -29.985096  34.361971 -126.770872 -56.356593 -30.864248   \n",
       "X1  78095.0  49.595844  32.477961 -111.685241  28.755679  54.215714   \n",
       "Y1  78095.0  86.193751  40.452297  -96.142589  64.156450  87.543493   \n",
       "Z1  78095.0 -29.509579  34.764460 -166.006838 -57.360408 -30.185331   \n",
       "X2  78095.0  48.612744  33.605155 -106.886524  25.173405  53.814592   \n",
       "Y2  78095.0  83.772387  41.022710 -100.789312  58.053733  86.459935   \n",
       "Z2  78095.0 -30.560906  35.120384 -129.595296 -58.654339 -32.356535   \n",
       "X3  78095.0  48.434359  33.728778 -111.761053  24.183508  53.888390   \n",
       "Y3  78095.0  81.871374  41.437594  -97.603414  54.523555  85.477367   \n",
       "Z3  78095.0 -31.314295  35.818309 -143.540529 -59.223756 -34.562917   \n",
       "X4  78095.0  48.042648  33.582981  -99.107635  24.332479  52.670592   \n",
       "Y4  78095.0  79.323322  42.107322  -97.948829  51.652950  84.372784   \n",
       "Z4  78095.0 -32.555911  35.770162 -157.199089 -59.733553 -37.494205   \n",
       "\n",
       "           75%         max  \n",
       "X0   72.488833  190.017835  \n",
       "Y0  113.108673  169.175464  \n",
       "Z0   -1.419462  113.345119  \n",
       "X1   71.763080  188.691997  \n",
       "Y1  116.228881  170.209350  \n",
       "Z1   -0.368080  104.697852  \n",
       "X2   71.561988  188.760168  \n",
       "Y2  106.661720  168.186466  \n",
       "Z2   -0.946134  104.590879  \n",
       "X3   71.216793  151.033472  \n",
       "Y3  105.169964  168.292018  \n",
       "Z3   -1.749512  129.316870  \n",
       "X4   71.036529  172.275978  \n",
       "Y4  104.299414  168.258643  \n",
       "Z4   -3.680706  119.237203  "
      ]
     },
     "execution_count": 12,
     "metadata": {},
     "output_type": "execute_result"
    }
   ],
   "source": [
    "X.describe().transpose()"
   ]
  },
  {
   "cell_type": "code",
   "execution_count": 13,
   "metadata": {},
   "outputs": [],
   "source": [
    "X_train, X_test, y_train, y_test = train_test_split(X, Y, test_size=0.3, random_state=42)"
   ]
  },
  {
   "cell_type": "code",
   "execution_count": 19,
   "metadata": {},
   "outputs": [
    {
     "name": "stdout",
     "output_type": "stream",
     "text": [
      "0.6285799650006403\n"
     ]
    },
    {
     "name": "stderr",
     "output_type": "stream",
     "text": [
      "C:\\Users\\jsche\\anaconda3\\lib\\site-packages\\sklearn\\linear_model\\_logistic.py:763: ConvergenceWarning: lbfgs failed to converge (status=1):\n",
      "STOP: TOTAL NO. of ITERATIONS REACHED LIMIT.\n",
      "\n",
      "Increase the number of iterations (max_iter) or scale the data as shown in:\n",
      "    https://scikit-learn.org/stable/modules/preprocessing.html\n",
      "Please also refer to the documentation for alternative solver options:\n",
      "    https://scikit-learn.org/stable/modules/linear_model.html#logistic-regression\n",
      "  n_iter_i = _check_optimize_result(\n"
     ]
    },
    {
     "data": {
      "text/plain": [
       "<sklearn.metrics._plot.confusion_matrix.ConfusionMatrixDisplay at 0x274844b4dc0>"
      ]
     },
     "execution_count": 19,
     "metadata": {},
     "output_type": "execute_result"
    },
    {
     "data": {
      "image/png": "[encoded data removed]",
      "text/plain": [
       "<Figure size 432x288 with 2 Axes>"
      ]
     },
     "metadata": {
      "needs_background": "light"
     },
     "output_type": "display_data"
    }
   ],
   "source": [
    "lg_classifier = LogisticRegression(max_iter=500)\n",
    "\n",
    "lg_classifier.fit(X_train, y_train)\n",
    "\n",
    "print(lg_classifier.score(X_test, y_test))\n",
    "\n",
    "plot_confusion_matrix(lg_classifier, X_test, y_test) "
   ]
  },
  {
   "cell_type": "code",
   "execution_count": 18,
   "metadata": {},
   "outputs": [
    {
     "name": "stdout",
     "output_type": "stream",
     "text": [
      "0.6286226471466986\n"
     ]
    },
    {
     "data": {
      "text/plain": [
       "<sklearn.metrics._plot.confusion_matrix.ConfusionMatrixDisplay at 0x274f23f59d0>"
      ]
     },
     "execution_count": 18,
     "metadata": {},
     "output_type": "execute_result"
    },
    {
     "data": {
      "image/png": "[encoded data removed]",
      "text/plain": [
       "<Figure size 432x288 with 2 Axes>"
      ]
     },
     "metadata": {
      "needs_background": "light"
     },
     "output_type": "display_data"
    }
   ],
   "source": [
    "scaler = StandardScaler().fit(X_train)\n",
    "\n",
    "X_scaled = scaler.transform(X_train)\n",
    "\n",
    "lg_classifier = LogisticRegression(max_iter=1000)\n",
    "lg_classifier.fit(X_scaled, y_train)\n",
    "\n",
    "X_test_scaled = scaler.transform(X_test)\n",
    "print(lg_classifier.score(X_test_scaled, y_test))\n",
    "plot_confusion_matrix(lg_classifier, X_test, y_test)"
   ]
  },
  {
   "cell_type": "code",
   "execution_count": 20,
   "metadata": {},
   "outputs": [
    {
     "name": "stdout",
     "output_type": "stream",
     "text": [
      "0.7008835204234068\n"
     ]
    },
    {
     "data": {
      "text/plain": [
       "<sklearn.metrics._plot.confusion_matrix.ConfusionMatrixDisplay at 0x2748440d370>"
      ]
     },
     "execution_count": 20,
     "metadata": {},
     "output_type": "execute_result"
    },
    {
     "data": {
      "image/png": "[encoded data removed]",
      "text/plain": [
       "<Figure size 432x288 with 2 Axes>"
      ]
     },
     "metadata": {
      "needs_background": "light"
     },
     "output_type": "display_data"
    }
   ],
   "source": [
    "clf = AdaBoostClassifier(n_estimators=100, random_state=0)\n",
    "\n",
    "clf.fit(X_train, y_train)\n",
    "\n",
    "print(clf.score(X_test, y_test))\n",
    "plot_confusion_matrix(clf, X_test, y_test)"
   ]
  },
  {
   "cell_type": "code",
   "execution_count": 21,
   "metadata": {},
   "outputs": [
    {
     "name": "stdout",
     "output_type": "stream",
     "text": [
      "0.8284177728456187\n"
     ]
    },
    {
     "data": {
      "text/plain": [
       "<sklearn.metrics._plot.confusion_matrix.ConfusionMatrixDisplay at 0x274f23f5ac0>"
      ]
     },
     "execution_count": 21,
     "metadata": {},
     "output_type": "execute_result"
    },
    {
     "data": {
      "image/png": "[encoded data removed]",
      "text/plain": [
       "<Figure size 432x288 with 2 Axes>"
      ]
     },
     "metadata": {
      "needs_background": "light"
     },
     "output_type": "display_data"
    }
   ],
   "source": [
    "clf = AdaBoostClassifier(base_estimator=DecisionTreeClassifier(max_depth=2), n_estimators=300, learning_rate=1.5, random_state=0, algorithm='SAMME')\n",
    "\n",
    "clf.fit(X_train, y_train)\n",
    "\n",
    "print(clf.score(X_test, y_test))\n",
    "plot_confusion_matrix(clf, X_test, y_test)"
   ]
  },
  {
   "cell_type": "code",
   "execution_count": 22,
   "metadata": {},
   "outputs": [
    {
     "name": "stdout",
     "output_type": "stream",
     "text": [
      "0.7369926159887319\n"
     ]
    },
    {
     "data": {
      "text/plain": [
       "<sklearn.metrics._plot.confusion_matrix.ConfusionMatrixDisplay at 0x27484aa1850>"
      ]
     },
     "execution_count": 22,
     "metadata": {},
     "output_type": "execute_result"
    },
    {
     "data": {
      "image/png": "[encoded data removed]",
      "text/plain": [
       "<Figure size 432x288 with 2 Axes>"
      ]
     },
     "metadata": {
      "needs_background": "light"
     },
     "output_type": "display_data"
    }
   ],
   "source": [
    "clf = AdaBoostClassifier(base_estimator=DecisionTreeClassifier(max_depth=2), n_estimators=300, learning_rate=1.5, random_state=0)\n",
    "\n",
    "clf.fit(X_train, y_train)\n",
    "\n",
    "print(clf.score(X_test, y_test))\n",
    "plot_confusion_matrix(clf, X_test, y_test)"
   ]
  },
  {
   "cell_type": "code",
   "execution_count": 21,
   "metadata": {},
   "outputs": [
    {
     "data": {
      "text/plain": [
       "0.8280763156771522"
      ]
     },
     "execution_count": 21,
     "metadata": {},
     "output_type": "execute_result"
    }
   ],
   "source": [
    "clf = AdaBoostClassifier(base_estimator=DecisionTreeClassifier(max_depth=2), n_estimators=300, learning_rate=1, random_state=0, algorithm='SAMME')\n",
    "\n",
    "clf.fit(X_train, y_train)\n",
    "\n",
    "clf.score(X_test, y_test)"
   ]
  },
  {
   "cell_type": "code",
   "execution_count": 23,
   "metadata": {},
   "outputs": [
    {
     "name": "stdout",
     "output_type": "stream",
     "text": [
      "              precision    recall  f1-score   support\n",
      "\n",
      "           1       0.99      0.99      0.99      4898\n",
      "           2       0.96      0.96      0.96      4485\n",
      "           3       0.96      0.98      0.97      4854\n",
      "           4       0.98      0.95      0.96      4496\n",
      "           5       0.98      0.98      0.98      4696\n",
      "\n",
      "    accuracy                           0.98     23429\n",
      "   macro avg       0.97      0.97      0.97     23429\n",
      "weighted avg       0.98      0.98      0.98     23429\n",
      "\n"
     ]
    },
    {
     "data": {
      "text/plain": [
       "<sklearn.metrics._plot.confusion_matrix.ConfusionMatrixDisplay at 0x274848d2c40>"
      ]
     },
     "execution_count": 23,
     "metadata": {},
     "output_type": "execute_result"
    },
    {
     "data": {
      "image/png": "[encoded data removed]",
      "text/plain": [
       "<Figure size 432x288 with 2 Axes>"
      ]
     },
     "metadata": {
      "needs_background": "light"
     },
     "output_type": "display_data"
    }
   ],
   "source": [
    "rtree = RandomForestClassifier(100)\n",
    "rtree.fit(X_train, y_train)\n",
    "prediction = rtree.predict(X_test)\n",
    "print(classification_report(y_test,prediction))\n",
    "plot_confusion_matrix(rtree, X_test, y_test)"
   ]
  },
  {
   "cell_type": "code",
   "execution_count": 34,
   "metadata": {},
   "outputs": [
    {
     "data": {
      "text/plain": [
       "0.9747321695334842"
      ]
     },
     "execution_count": 34,
     "metadata": {},
     "output_type": "execute_result"
    }
   ],
   "source": [
    "rtree.score(X_test, y_test)"
   ]
  },
  {
   "cell_type": "code",
   "execution_count": 33,
   "metadata": {},
   "outputs": [
    {
     "name": "stdout",
     "output_type": "stream",
     "text": [
      "              precision    recall  f1-score   support\n",
      "\n",
      "           1       0.99      0.99      0.99      4898\n",
      "           2       0.96      0.96      0.96      4485\n",
      "           3       0.96      0.98      0.97      4854\n",
      "           4       0.98      0.95      0.96      4496\n",
      "           5       0.97      0.98      0.98      4696\n",
      "\n",
      "    accuracy                           0.97     23429\n",
      "   macro avg       0.97      0.97      0.97     23429\n",
      "weighted avg       0.97      0.97      0.97     23429\n",
      "\n"
     ]
    }
   ],
   "source": [
    "rtree = RandomForestClassifier(50)\n",
    "rtree.fit(X_train, y_train)\n",
    "prediction = rtree.predict(X_test)\n",
    "print(classification_report(y_test,prediction))"
   ]
  },
  {
   "cell_type": "code",
   "execution_count": 34,
   "metadata": {},
   "outputs": [
    {
     "data": {
      "text/plain": [
       "0.9734090230056768"
      ]
     },
     "execution_count": 34,
     "metadata": {},
     "output_type": "execute_result"
    }
   ],
   "source": [
    "rtree.score(X_test, y_test)"
   ]
  },
  {
   "cell_type": "code",
   "execution_count": null,
   "metadata": {},
   "outputs": [],
   "source": []
  }
 ],
 "metadata": {
  "interpreter": {
   "hash": "3bae9b09246558035050f647c7248d8aa50dbca0c72d33a901400b0fbdc90bc3"
  },
  "kernelspec": {
   "display_name": "Python 3.9.7 ('base')",
   "language": "python",
   "name": "python3"
  },
  "language_info": {
   "codemirror_mode": {
    "name": "ipython",
    "version": 3
   },
   "file_extension": ".py",
   "mimetype": "text/x-python",
   "name": "python",
   "nbconvert_exporter": "python",
   "pygments_lexer": "ipython3",
   "version": "3.9.7"
  },
  "orig_nbformat": 4
 },
 "nbformat": 4,
 "nbformat_minor": 2
}

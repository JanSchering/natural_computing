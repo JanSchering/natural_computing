{
 "cells": [
  {
   "cell_type": "markdown",
   "metadata": {},
   "source": [
    "(Evolutionary strategies vs local search) [1 point] Consider a (1+5) ES.\n",
    "\n",
    "(a) How does this differ from the (1+1) ES in how the search space is explored when\n",
    "optimizing a function?"
   ]
  },
  {
   "cell_type": "markdown",
   "metadata": {},
   "source": [
    "On the one hand, a (1+1) ES involves one parent that yields one offspring and only the best of the two survives. On the other hand, a (1+5) ES involves one parent that yields five offsprings and only the best of the six survives.\n",
    "\n",
    "The (1+5) ES thus explores a larger part of the local search neighborhood that is given through the parents and the crossover permutation operator.\n",
    "\n",
    "As we are exploring more of the local search neighborhood, We should get candidates with a higher fitness in fewer iterations than by (1+1) search."
   ]
  },
  {
   "cell_type": "markdown",
   "metadata": {},
   "source": [
    "(b) How does the (1+$\\lambda$) ES strategy behave with respect to the value of $\\lambda$ when\n",
    "compared to greedy algorithms? (Recall that greedy algorithms perform a sequence of locally optimal steps in order to search for an optimal solution.)"
   ]
  },
  {
   "cell_type": "markdown",
   "metadata": {},
   "source": [
    "In a (1+$\\lambda$) ES, the larger $\\lambda$ is, the more local the search performed by the algorithm is. In other words, the larger $\\lambda$ is, the more similar the search of the strategy is to the search for an optimal solution in a greedy algorithm. As $\\lambda$ decreases, the size of the investigated local search neighborhood decreases (see explanation above on why (1+5)ES explores more of the local neighborhood than (1+1)ES). Conversely, this means that the larger $\\lambda$, the larger the investigated local search neighborhood. This means that we are approaching local optimality with increasing $\\lambda$."
   ]
  },
  {
   "cell_type": "markdown",
   "metadata": {},
   "source": []
  }
 ],
 "metadata": {
  "language_info": {
   "name": "python"
  },
  "orig_nbformat": 4
 },
 "nbformat": 4,
 "nbformat_minor": 2
}

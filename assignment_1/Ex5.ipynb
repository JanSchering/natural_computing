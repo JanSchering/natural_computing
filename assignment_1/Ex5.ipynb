{
 "cells": [
  {
   "cell_type": "markdown",
   "metadata": {},
   "source": [
    "(Evolutionary strategies vs local search) [1 point] Consider a (1+5) ES.\n",
    "\n",
    "(a) How does this differ from the (1+1) ES in how the search space is explored when\n",
    "optimizing a function?"
   ]
  },
  {
   "cell_type": "markdown",
   "metadata": {},
   "source": [
    "On the one hand, a (1+1) ES involves one parent that yields one offspring and only the best of the two survives. On the other hand, a (1+5) ES involves one parent that yields five offsprings and only the best of the six survives. By generating five offsprings and having to choose the best individual out of a pool of six candidates, the chances of having an individual with a better fitness than the parent increases as compared to generating one single offspring. In optimizing a function, fewer steps should be needed for the optimum to be found since less states of the state space will be explored. The search for an optimal solution is thus more local when using a (1+1) ES than a (1+5) ES."
   ]
  },
  {
   "cell_type": "markdown",
   "metadata": {},
   "source": [
    "(b) How does the (1+$\\lambda$) ES strategy behave with respect to the value of $\\lambda$ when\n",
    "compared to greedy algorithms? (Recall that greedy algorithms perform a sequence of locally optimal steps in order to search for an optimal solution.)"
   ]
  },
  {
   "cell_type": "markdown",
   "metadata": {},
   "source": [
    "In a (1+$\\lambda$) ES, the smaller $\\lambda$ is (note than $\\lambda$ $\\geq$ 1), the more local the search performed by the algorithm is. In other words, the smaller $\\lambda$ is, the more similar the search of the stretgy is to the search for an optimal solution in a greedy algorithm. As $\\lambda$ increases, the size the of the investigated search space decreases as less states are being considered. The increase in fitness between the parent and the best offspring is likely to be more significant as $\\lambda$ increases."
   ]
  },
  {
   "cell_type": "markdown",
   "metadata": {},
   "source": [
    "%% I am actually unsure if a small $\\lambda$ or a big $\\lambda$ is more likely to get stuck in a local minimum"
   ]
  }
 ],
 "metadata": {
  "language_info": {
   "name": "python"
  },
  "orig_nbformat": 4
 },
 "nbformat": 4,
 "nbformat_minor": 2
}

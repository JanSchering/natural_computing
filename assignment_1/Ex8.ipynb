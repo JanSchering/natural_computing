{
 "cells": [
  {
   "cell_type": "code",
   "execution_count": 1,
   "metadata": {},
   "outputs": [
    {
     "name": "stdout",
     "output_type": "stream",
     "text": [
      "C:\\Users\\Jan\\Storage\\Anaconda;C:\\Users\\Jan\\Storage\\Anaconda\\Library\\mingw-w64\\bin;C:\\Users\\Jan\\Storage\\Anaconda\\Library\\usr\\bin;C:\\Users\\Jan\\Storage\\Anaconda\\Library\\bin;C:\\Users\\Jan\\Storage\\Anaconda\\Scripts;C:\\Users\\Jan\\Storage\\Anaconda\\bin;C:\\Users\\Jan\\Storage\\Anaconda\\condabin;C:\\Program Files\\NVIDIA GPU Computing Toolkit\\CUDA\\v10.0\\bin;C:\\Program Files\\NVIDIA GPU Computing Toolkit\\CUDA\\v10.0\\libnvvp;C:\\Program Files\\NVIDIA GPU Computing Toolkit\\CUDA\\v11.5\\bin;C:\\Program Files\\NVIDIA GPU Computing Toolkit\\CUDA\\v11.5\\libnvvp;C:\\Program Files\\Microsoft MPI\\Bin;C:\\Windows\\system32;C:\\Windows;C:\\Windows\\System32\\Wbem;C:\\Windows\\System32\\WindowsPowerShell\\v1.0;C:\\Windows\\System32\\OpenSSH;C:\\Program Files (x86)\\NVIDIA Corporation\\PhysX\\Common;C:\\WINDOWS\\system32;C:\\WINDOWS;C:\\WINDOWS\\System32\\Wbem;C:\\WINDOWS\\System32\\WindowsPowerShell\\v1.0;C:\\WINDOWS\\System32\\OpenSSH;C:\\Program Files\\Git\\cmd;C:\\Program Files\\NVIDIA Corporation\\NVIDIA NvDLISR;C:\\Users\\Jan\\AppData\\Local\\Microsoft\\WindowsApps;C:\\Users\\Jan\\Storage\\Microsoft VS Code\\bin;C:\\Program Files\\NVIDIA GPU Computing Toolkit\\CUDA\\v11.5\\bin;C:\\Program Files\\NVIDIA GPU Computing Toolkit\\CUDA\\v11.5\\extras\\CUPTI\\lib64;C:\\Program Files\\NVIDIA GPU Computing Toolkit\\CUDA\\v11.5\\include;C:\\Users\\Jan\\Storage\\cuDNN\\cudnn-windows-x86_64-8.3.1.22_cuda11.5-archive\\cudnn-windows-x86_64-8.3.1.22_cuda11.5-archive\\bin;.;C:\\Program Files\\Graphviz\\bin\n"
     ]
    }
   ],
   "source": [
    "import random\n",
    "import operator\n",
    "\n",
    "import numpy\n",
    "\n",
    "from deap import algorithms\n",
    "from deap import base\n",
    "from deap import creator\n",
    "from deap import tools\n",
    "from deap import gp\n",
    "import math\n",
    "import numpy as np\n",
    "### Graphviz Section ###\n",
    "import pygraphviz as pgv\n",
    "import os\n",
    "\n",
    "if  not \"C:\\Program Files\\Graphviz\\\\bin\" in os.environ[\"PATH\"]: \n",
    "    os.environ[\"PATH\"] += os.pathsep + \"C:\\Program Files\\Graphviz\\\\bin\"\n",
    "print(os.environ[\"PATH\"])"
   ]
  },
  {
   "cell_type": "code",
   "execution_count": 4,
   "metadata": {},
   "outputs": [],
   "source": [
    "def protectedDiv(left, right):\n",
    "    try:\n",
    "        if right == 0:\n",
    "            right += 0.00001\n",
    "        result = left / right\n",
    "        return result\n",
    "    except ZeroDivisionError:\n",
    "        #print(f\"Failed at Division with values {left} {right}\")\n",
    "        return 1\n",
    "\n",
    "def protectedLog(val):\n",
    "    try:\n",
    "        result = math.log(val)\n",
    "        return result\n",
    "    except:\n",
    "        return 1\n",
    "def logexp(val):\n",
    "    try:\n",
    "        return math.exp(val)\n",
    "    except:\n",
    "        #print(f\"Failed exponential with value {val}\")\n",
    "        return 1\n",
    "\n",
    "def protectadd(a, b):\n",
    "    try:\n",
    "        return a+b\n",
    "    except:\n",
    "        return 1\n",
    "\n",
    "def protectmult(a,b):\n",
    "    try:\n",
    "        return a*b\n",
    "    except:\n",
    "        return 1\n",
    "\n",
    "pset = gp.PrimitiveSet(\"main\", 1)\n",
    "pset.addPrimitive(protectadd, 2)\n",
    "pset.addPrimitive(protectmult, 2)\n",
    "pset.addPrimitive(operator.sub, 2)\n",
    "pset.addPrimitive(protectedDiv, 2)\n",
    "pset.addPrimitive(math.cos, 1)\n",
    "pset.addPrimitive(math.sin, 1)\n",
    "pset.addPrimitive(logexp, 1)\n",
    "pset.addPrimitive(protectedLog, 1)\n",
    "\n",
    "pset.renameArguments(ARG0=\"x\")"
   ]
  },
  {
   "cell_type": "code",
   "execution_count": 5,
   "metadata": {},
   "outputs": [
    {
     "name": "stderr",
     "output_type": "stream",
     "text": [
      "C:\\Users\\Jan\\Storage\\Anaconda\\lib\\site-packages\\deap\\creator.py:138: RuntimeWarning: A class named 'FitnessMax' has already been created and it will be overwritten. Consider deleting previous creation of that class or rename it.\n",
      "  warnings.warn(\"A class named '{0}' has already been created and it \"\n",
      "C:\\Users\\Jan\\Storage\\Anaconda\\lib\\site-packages\\deap\\creator.py:138: RuntimeWarning: A class named 'Individual' has already been created and it will be overwritten. Consider deleting previous creation of that class or rename it.\n",
      "  warnings.warn(\"A class named '{0}' has already been created and it \"\n"
     ]
    },
    {
     "name": "stdout",
     "output_type": "stream",
     "text": [
      "gen\tnevals\tavg        \tstd        \tmin    \tmax        \n",
      "0  \t1000  \t9.81617e+43\t3.10259e+45\t1.62533\t9.81617e+46\n",
      "1  \t668   \t1.80083e+275\tinf        \t9.81016\t1.80083e+278\n"
     ]
    },
    {
     "name": "stderr",
     "output_type": "stream",
     "text": [
      "C:\\Users\\Jan\\Storage\\Anaconda\\lib\\site-packages\\numpy\\core\\_methods.py:232: RuntimeWarning: overflow encountered in multiply\n",
      "  x = um.multiply(x, x, out=x)\n"
     ]
    },
    {
     "name": "stdout",
     "output_type": "stream",
     "text": [
      "2  \t712   \t5.40249e+275\tinf        \t4.02093\t1.80083e+278\n",
      "3  \t676   \t3.78069e+293\tinf        \t19.9419\t3.78069e+296\n",
      "4  \t740   \t1.50057e+299\tinf        \t20.9287\t1.50001e+302\n",
      "5  \t692   \tinf         \tinf        \t26.272 \t1.29239e+308\n"
     ]
    },
    {
     "name": "stderr",
     "output_type": "stream",
     "text": [
      "C:\\Users\\Jan\\Storage\\Anaconda\\lib\\site-packages\\numpy\\core\\_methods.py:178: RuntimeWarning: overflow encountered in reduce\n",
      "  ret = umr_sum(arr, axis, dtype, out, keepdims, where=where)\n",
      "C:\\Users\\Jan\\Storage\\Anaconda\\lib\\site-packages\\numpy\\core\\_methods.py:211: RuntimeWarning: overflow encountered in reduce\n",
      "  arrmean = umr_sum(arr, axis, dtype, keepdims=True, where=where)\n"
     ]
    },
    {
     "name": "stdout",
     "output_type": "stream",
     "text": [
      "6  \t738   \tinf         \tinf        \t24.2773\t1.29239e+308\n",
      "7  \t680   \tinf         \tinf        \t21.224 \t1.38513e+308\n"
     ]
    },
    {
     "name": "stderr",
     "output_type": "stream",
     "text": [
      "C:\\Users\\Jan\\Storage\\Anaconda\\lib\\site-packages\\numpy\\core\\_methods.py:229: RuntimeWarning: invalid value encountered in subtract\n",
      "  x = asanyarray(arr - arrmean)\n",
      "<ipython-input-5-acb412fd6791>:16: RuntimeWarning: overflow encountered in add\n",
      "  total_diff += abs(func(data[i][0]) - data[1])\n",
      "<ipython-input-4-450429ca2462>:32: RuntimeWarning: overflow encountered in double_scalars\n",
      "  return a*b\n",
      "<ipython-input-4-450429ca2462>:5: RuntimeWarning: overflow encountered in double_scalars\n",
      "  result = left / right\n"
     ]
    },
    {
     "name": "stdout",
     "output_type": "stream",
     "text": [
      "8  \t758   \tinf         \tnan        \t21.1425\tinf         \n",
      "9  \t728   \tinf         \tnan        \t20.9017\tinf         \n",
      "10 \t754   \tinf         \tnan        \t21.3124\tinf         \n"
     ]
    },
    {
     "ename": "ValueError",
     "evalue": "math domain error",
     "output_type": "error",
     "traceback": [
      "\u001b[1;31m---------------------------------------------------------------------------\u001b[0m",
      "\u001b[1;31mValueError\u001b[0m                                Traceback (most recent call last)",
      "\u001b[1;32m<ipython-input-5-acb412fd6791>\u001b[0m in \u001b[0;36m<module>\u001b[1;34m\u001b[0m\n\u001b[0;32m     36\u001b[0m     \u001b[1;32mreturn\u001b[0m \u001b[0mpop\u001b[0m\u001b[1;33m,\u001b[0m \u001b[0mstats\u001b[0m\u001b[1;33m,\u001b[0m \u001b[0mhof\u001b[0m\u001b[1;33m\u001b[0m\u001b[1;33m\u001b[0m\u001b[0m\n\u001b[0;32m     37\u001b[0m \u001b[1;33m\u001b[0m\u001b[0m\n\u001b[1;32m---> 38\u001b[1;33m \u001b[0mpop\u001b[0m\u001b[1;33m,\u001b[0m \u001b[0mstats\u001b[0m\u001b[1;33m,\u001b[0m \u001b[0mhof\u001b[0m \u001b[1;33m=\u001b[0m \u001b[0mmain\u001b[0m\u001b[1;33m(\u001b[0m\u001b[1;33m)\u001b[0m\u001b[1;33m\u001b[0m\u001b[1;33m\u001b[0m\u001b[0m\n\u001b[0m\u001b[0;32m     39\u001b[0m \u001b[0mexpr\u001b[0m \u001b[1;33m=\u001b[0m \u001b[0mhof\u001b[0m\u001b[1;33m.\u001b[0m\u001b[0mitems\u001b[0m\u001b[1;33m[\u001b[0m\u001b[1;36m0\u001b[0m\u001b[1;33m]\u001b[0m\u001b[1;33m\u001b[0m\u001b[1;33m\u001b[0m\u001b[0m\n\u001b[0;32m     40\u001b[0m \u001b[0mnodes\u001b[0m\u001b[1;33m,\u001b[0m \u001b[0medges\u001b[0m\u001b[1;33m,\u001b[0m \u001b[0mlabels\u001b[0m \u001b[1;33m=\u001b[0m \u001b[0mgp\u001b[0m\u001b[1;33m.\u001b[0m\u001b[0mgraph\u001b[0m\u001b[1;33m(\u001b[0m\u001b[0mexpr\u001b[0m\u001b[1;33m)\u001b[0m\u001b[1;33m\u001b[0m\u001b[1;33m\u001b[0m\u001b[0m\n",
      "\u001b[1;32m<ipython-input-5-acb412fd6791>\u001b[0m in \u001b[0;36mmain\u001b[1;34m()\u001b[0m\n\u001b[0;32m     32\u001b[0m     \u001b[0mstats\u001b[0m\u001b[1;33m.\u001b[0m\u001b[0mregister\u001b[0m\u001b[1;33m(\u001b[0m\u001b[1;34m\"max\"\u001b[0m\u001b[1;33m,\u001b[0m \u001b[0mnumpy\u001b[0m\u001b[1;33m.\u001b[0m\u001b[0mmax\u001b[0m\u001b[1;33m)\u001b[0m\u001b[1;33m\u001b[0m\u001b[1;33m\u001b[0m\u001b[0m\n\u001b[0;32m     33\u001b[0m \u001b[1;33m\u001b[0m\u001b[0m\n\u001b[1;32m---> 34\u001b[1;33m     \u001b[0malgorithms\u001b[0m\u001b[1;33m.\u001b[0m\u001b[0meaSimple\u001b[0m\u001b[1;33m(\u001b[0m\u001b[0mpop\u001b[0m\u001b[1;33m,\u001b[0m \u001b[0mtoolbox\u001b[0m\u001b[1;33m,\u001b[0m \u001b[1;36m0.7\u001b[0m\u001b[1;33m,\u001b[0m \u001b[1;36m0\u001b[0m\u001b[1;33m,\u001b[0m \u001b[1;36m50\u001b[0m\u001b[1;33m,\u001b[0m \u001b[0mstats\u001b[0m\u001b[1;33m,\u001b[0m \u001b[0mhalloffame\u001b[0m\u001b[1;33m=\u001b[0m\u001b[0mhof\u001b[0m\u001b[1;33m)\u001b[0m\u001b[1;33m\u001b[0m\u001b[1;33m\u001b[0m\u001b[0m\n\u001b[0m\u001b[0;32m     35\u001b[0m \u001b[1;33m\u001b[0m\u001b[0m\n\u001b[0;32m     36\u001b[0m     \u001b[1;32mreturn\u001b[0m \u001b[0mpop\u001b[0m\u001b[1;33m,\u001b[0m \u001b[0mstats\u001b[0m\u001b[1;33m,\u001b[0m \u001b[0mhof\u001b[0m\u001b[1;33m\u001b[0m\u001b[1;33m\u001b[0m\u001b[0m\n",
      "\u001b[1;32m~\\Storage\\Anaconda\\lib\\site-packages\\deap\\algorithms.py\u001b[0m in \u001b[0;36meaSimple\u001b[1;34m(population, toolbox, cxpb, mutpb, ngen, stats, halloffame, verbose)\u001b[0m\n\u001b[0;32m    171\u001b[0m         \u001b[0minvalid_ind\u001b[0m \u001b[1;33m=\u001b[0m \u001b[1;33m[\u001b[0m\u001b[0mind\u001b[0m \u001b[1;32mfor\u001b[0m \u001b[0mind\u001b[0m \u001b[1;32min\u001b[0m \u001b[0moffspring\u001b[0m \u001b[1;32mif\u001b[0m \u001b[1;32mnot\u001b[0m \u001b[0mind\u001b[0m\u001b[1;33m.\u001b[0m\u001b[0mfitness\u001b[0m\u001b[1;33m.\u001b[0m\u001b[0mvalid\u001b[0m\u001b[1;33m]\u001b[0m\u001b[1;33m\u001b[0m\u001b[1;33m\u001b[0m\u001b[0m\n\u001b[0;32m    172\u001b[0m         \u001b[0mfitnesses\u001b[0m \u001b[1;33m=\u001b[0m \u001b[0mtoolbox\u001b[0m\u001b[1;33m.\u001b[0m\u001b[0mmap\u001b[0m\u001b[1;33m(\u001b[0m\u001b[0mtoolbox\u001b[0m\u001b[1;33m.\u001b[0m\u001b[0mevaluate\u001b[0m\u001b[1;33m,\u001b[0m \u001b[0minvalid_ind\u001b[0m\u001b[1;33m)\u001b[0m\u001b[1;33m\u001b[0m\u001b[1;33m\u001b[0m\u001b[0m\n\u001b[1;32m--> 173\u001b[1;33m         \u001b[1;32mfor\u001b[0m \u001b[0mind\u001b[0m\u001b[1;33m,\u001b[0m \u001b[0mfit\u001b[0m \u001b[1;32min\u001b[0m \u001b[0mzip\u001b[0m\u001b[1;33m(\u001b[0m\u001b[0minvalid_ind\u001b[0m\u001b[1;33m,\u001b[0m \u001b[0mfitnesses\u001b[0m\u001b[1;33m)\u001b[0m\u001b[1;33m:\u001b[0m\u001b[1;33m\u001b[0m\u001b[1;33m\u001b[0m\u001b[0m\n\u001b[0m\u001b[0;32m    174\u001b[0m             \u001b[0mind\u001b[0m\u001b[1;33m.\u001b[0m\u001b[0mfitness\u001b[0m\u001b[1;33m.\u001b[0m\u001b[0mvalues\u001b[0m \u001b[1;33m=\u001b[0m \u001b[0mfit\u001b[0m\u001b[1;33m\u001b[0m\u001b[1;33m\u001b[0m\u001b[0m\n\u001b[0;32m    175\u001b[0m \u001b[1;33m\u001b[0m\u001b[0m\n",
      "\u001b[1;32m<ipython-input-5-acb412fd6791>\u001b[0m in \u001b[0;36mevalFunc\u001b[1;34m(individual)\u001b[0m\n\u001b[0;32m     14\u001b[0m     \u001b[0mtotal_diff\u001b[0m \u001b[1;33m=\u001b[0m \u001b[1;36m0\u001b[0m\u001b[1;33m\u001b[0m\u001b[1;33m\u001b[0m\u001b[0m\n\u001b[0;32m     15\u001b[0m     \u001b[1;32mfor\u001b[0m \u001b[0mi\u001b[0m \u001b[1;32min\u001b[0m \u001b[0mrange\u001b[0m\u001b[1;33m(\u001b[0m\u001b[0mdata\u001b[0m\u001b[1;33m.\u001b[0m\u001b[0mshape\u001b[0m\u001b[1;33m[\u001b[0m\u001b[1;36m0\u001b[0m\u001b[1;33m]\u001b[0m\u001b[1;33m)\u001b[0m\u001b[1;33m:\u001b[0m\u001b[1;33m\u001b[0m\u001b[1;33m\u001b[0m\u001b[0m\n\u001b[1;32m---> 16\u001b[1;33m         \u001b[0mtotal_diff\u001b[0m \u001b[1;33m+=\u001b[0m \u001b[0mabs\u001b[0m\u001b[1;33m(\u001b[0m\u001b[0mfunc\u001b[0m\u001b[1;33m(\u001b[0m\u001b[0mdata\u001b[0m\u001b[1;33m[\u001b[0m\u001b[0mi\u001b[0m\u001b[1;33m]\u001b[0m\u001b[1;33m[\u001b[0m\u001b[1;36m0\u001b[0m\u001b[1;33m]\u001b[0m\u001b[1;33m)\u001b[0m \u001b[1;33m-\u001b[0m \u001b[0mdata\u001b[0m\u001b[1;33m[\u001b[0m\u001b[1;36m1\u001b[0m\u001b[1;33m]\u001b[0m\u001b[1;33m)\u001b[0m\u001b[1;33m\u001b[0m\u001b[1;33m\u001b[0m\u001b[0m\n\u001b[0m\u001b[0;32m     17\u001b[0m     \u001b[1;32mreturn\u001b[0m \u001b[0mtotal_diff\u001b[0m\u001b[1;33m\u001b[0m\u001b[1;33m\u001b[0m\u001b[0m\n\u001b[0;32m     18\u001b[0m \u001b[1;33m\u001b[0m\u001b[0m\n",
      "\u001b[1;32m<string>\u001b[0m in \u001b[0;36m<lambda>\u001b[1;34m(x)\u001b[0m\n",
      "\u001b[1;31mValueError\u001b[0m: math domain error"
     ]
    }
   ],
   "source": [
    "creator.create(\"FitnessMax\", base.Fitness, weights=(1.0,))\n",
    "creator.create(\"Individual\", gp.PrimitiveTree, fitness=creator.FitnessMax)\n",
    "\n",
    "toolbox = base.Toolbox()\n",
    "toolbox.register(\"expr\", gp.genFull, pset=pset, min_=2, max_=4)\n",
    "toolbox.register(\"individual\", tools.initIterate, creator.Individual, toolbox.expr)\n",
    "toolbox.register(\"population\", tools.initRepeat, list, toolbox.individual)\n",
    "toolbox.register(\"compile\", gp.compile, pset=pset)\n",
    "\n",
    "data = np.genfromtxt(\"data.csv\", delimiter=\",\")\n",
    "\n",
    "def evalFunc(individual):\n",
    "    func = toolbox.compile(expr=individual)\n",
    "    total_diff = 0\n",
    "    for i in range(data.shape[0]):\n",
    "        total_diff += abs(func(data[i][0]) - data[1])\n",
    "    return total_diff\n",
    "\n",
    "toolbox.register(\"evaluate\", evalFunc)\n",
    "toolbox.register(\"select\", tools.selTournament, tournsize=10)\n",
    "toolbox.register(\"mate\", gp.cxOnePoint)\n",
    "toolbox.decorate(\"mate\", gp.staticLimit(key=operator.attrgetter('height'), max_value=50))\n",
    "\n",
    "def main():\n",
    "    # random.seed(10)\n",
    "    pop = toolbox.population(n=1000)\n",
    "    hof = tools.HallOfFame(1)\n",
    "    stats = tools.Statistics(lambda ind: ind.fitness.values)\n",
    "    stats.register(\"avg\", numpy.mean)\n",
    "    stats.register(\"std\", numpy.std)\n",
    "    stats.register(\"min\", numpy.min)\n",
    "    stats.register(\"max\", numpy.max)\n",
    "\n",
    "    algorithms.eaSimple(pop, toolbox, 0.7, 0, 50, stats, halloffame=hof)\n",
    "\n",
    "    return pop, stats, hof\n",
    "\n",
    "pop, stats, hof = main()\n",
    "expr = hof.items[0]\n",
    "nodes, edges, labels = gp.graph(expr)\n",
    "\n",
    "g = pgv.AGraph()\n",
    "g.add_nodes_from(nodes)\n",
    "g.add_edges_from(edges)\n",
    "g.layout()\n",
    "\n",
    "for i in nodes:\n",
    "    n = g.get_node(i)\n",
    "    n.attr[\"label\"] = labels[i]\n",
    "\n",
    "g.draw(\"tree.pdf\")"
   ]
  },
  {
   "cell_type": "code",
   "execution_count": 17,
   "metadata": {},
   "outputs": [
    {
     "name": "stdout",
     "output_type": "stream",
     "text": [
      "C:\\Program Files\\Graphviz\\bin\\neato.exe\n",
      "C:\\Users\\Jan\\Storage\\Anaconda\\Scripts\\dot.exe\n",
      "C:\\Program Files\\Graphviz\\bin\\twopi.exe\n",
      "C:\\Program Files\\Graphviz\\bin\\circo.exe\n",
      "C:\\Program Files\\Graphviz\\bin\\fdp.exe\n",
      "C:\\Users\\Jan\\Storage\\Anaconda\\Scripts\\nop.exe\n",
      "wc gets this error: Program wc not found in path.\n",
      "C:\\Users\\Jan\\Storage\\Anaconda\\Scripts\\acyclic.exe\n",
      "gvpr gets this error: Program gvpr not found in path.\n",
      "C:\\Users\\Jan\\Storage\\Anaconda\\Scripts\\gvcolor.exe\n",
      "C:\\Users\\Jan\\Storage\\Anaconda\\Scripts\\ccomps.exe\n",
      "C:\\Users\\Jan\\Storage\\Anaconda\\Scripts\\sccmap.exe\n",
      "C:\\Users\\Jan\\Storage\\Anaconda\\Scripts\\tred.exe\n",
      "C:\\Program Files\\Graphviz\\bin\\sfdp.exe\n",
      "C:\\Users\\Jan\\Storage\\Anaconda\\Scripts\\unflatten.exe\n"
     ]
    }
   ],
   "source": [
    "A = pgv.AGraph()\n",
    "progs_list = ['neato', 'dot', 'twopi', 'circo', 'fdp', 'nop', 'wc', 'acyclic', 'gvpr',\n",
    "              'gvcolor', 'ccomps', 'sccmap', 'tred', 'sfdp', 'unflatten']\n",
    "for prog in progs_list:\n",
    "    try:\n",
    "        runprog = A._get_prog(prog)\n",
    "        print(f'{runprog}')\n",
    "    except ValueError as e:\n",
    "        print(f'{prog} gets this error: {str(e).strip()}')"
   ]
  },
  {
   "cell_type": "code",
   "execution_count": null,
   "metadata": {},
   "outputs": [],
   "source": []
  }
 ],
 "metadata": {
  "interpreter": {
   "hash": "2741cac713f42d9b83073bbc7ba0c967fcf3d886dedc3c40b64d8f3c8efd59a9"
  },
  "kernelspec": {
   "display_name": "Python 3.8.8 ('base')",
   "language": "python",
   "name": "python3"
  },
  "language_info": {
   "codemirror_mode": {
    "name": "ipython",
    "version": 3
   },
   "file_extension": ".py",
   "mimetype": "text/x-python",
   "name": "python",
   "nbconvert_exporter": "python",
   "pygments_lexer": "ipython3",
   "version": "3.8.8"
  },
  "orig_nbformat": 4
 },
 "nbformat": 4,
 "nbformat_minor": 2
}

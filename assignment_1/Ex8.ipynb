{
 "cells": [
  {
   "cell_type": "code",
   "execution_count": 4,
   "metadata": {},
   "outputs": [
    {
     "name": "stdout",
     "output_type": "stream",
     "text": [
      "    |   Population Average    |             Best Individual              |\n",
      "---- ------------------------- ------------------------------------------ ----------\n",
      " Gen   Length          Fitness   Length          Fitness      OOB Fitness  Time Left\n"
     ]
    },
    {
     "name": "stderr",
     "output_type": "stream",
     "text": [
      "<ipython-input-4-11cb80febb26>:7: RuntimeWarning: overflow encountered in exp\n",
      "  return np.exp(x)\n"
     ]
    },
    {
     "name": "stdout",
     "output_type": "stream",
     "text": [
      "   0    15.91              inf        6         0.229722              N/A     25.00s\n",
      "   1     8.68          3.46742       26         0.186879              N/A     23.19s\n",
      "   2     7.89      4.24641e+33        9         0.122848              N/A     21.44s\n",
      "   3     6.03         0.487014       11         0.104048              N/A     20.11s\n",
      "   4     5.43          0.46572       11         0.100697              N/A     19.53s\n",
      "   5     8.38         0.510341       11         0.100697              N/A     19.32s\n",
      "   6     9.32          0.48303       11         0.100697              N/A     21.85s\n",
      "   7     9.56         0.440605       11         0.100697              N/A     18.69s\n",
      "   8    10.01         0.419594       11         0.100697              N/A     18.21s\n",
      "   9     9.99         0.388084       10          0.10658              N/A     17.84s\n",
      "  10     9.96         0.387106       10          0.10658              N/A     17.79s\n",
      "  11    10.13         0.431311       10          0.10658              N/A     17.56s\n",
      "  12    10.07         0.426447       10          0.10658              N/A     16.77s\n",
      "  13    10.00         0.408273       10          0.10658              N/A     16.46s\n",
      "  14    10.10         0.415944       10          0.10658              N/A     16.24s\n",
      "  15     9.99         0.396598       10          0.10658              N/A     14.49s\n",
      "  16     9.86         0.399895       10          0.10658              N/A     12.18s\n",
      "  17     9.86          0.38209       10          0.10658              N/A     11.11s\n",
      "  18    10.02         0.408415       10          0.10658              N/A     10.82s\n",
      "  19    10.15         0.417551       10          0.10658              N/A     10.32s\n",
      "  20    10.10         0.421787       10          0.10658              N/A     10.07s\n",
      "  21     9.95           0.4113       10          0.10658              N/A      9.77s\n",
      "  22    10.06          0.41519       10          0.10658              N/A      9.51s\n",
      "  23     9.68         0.412772       10          0.10658              N/A      9.47s\n",
      "  24    10.02         0.406422       10          0.10658              N/A      8.65s\n",
      "  25    10.07         0.423361       10          0.10658              N/A     10.07s\n",
      "  26    10.04         0.422388       10          0.10658              N/A      8.03s\n",
      "  27     9.86         0.403277       10          0.10658              N/A      7.70s\n",
      "  28     9.88          0.41716       10          0.10658              N/A      7.50s\n",
      "  29     9.91         0.405357       10          0.10658              N/A      6.94s\n",
      "  30     9.97         0.421454       10          0.10658              N/A      6.69s\n",
      "  31     9.88         0.404155       10          0.10658              N/A      6.19s\n",
      "  32     9.67         0.402046       10          0.10658              N/A      5.92s\n",
      "  33     9.92         0.401912       10          0.10658              N/A      5.79s\n",
      "  34    10.00         0.404932       10          0.10658              N/A      5.22s\n",
      "  35     9.83         0.429206       10          0.10658              N/A      4.99s\n",
      "  36     9.89         0.403579       10          0.10658              N/A      4.65s\n",
      "  37    10.04         0.412225       10          0.10658              N/A      4.22s\n",
      "  38     9.95         0.408908       10          0.10658              N/A      3.86s\n",
      "  39    10.02         0.424946       10          0.10658              N/A      3.63s\n",
      "  40    10.10         0.411077       10          0.10658              N/A      3.11s\n",
      "  41    10.05         0.407582       10          0.10658              N/A      2.80s\n",
      "  42    10.10         0.390426       10          0.10658              N/A      2.46s\n",
      "  43    10.05         0.413938       10          0.10658              N/A      2.60s\n",
      "  44     9.90         0.432855       10          0.10658              N/A      1.76s\n",
      "  45    10.00         0.418573       10          0.10658              N/A      1.44s\n",
      "  46     9.90         0.398462       10          0.10658              N/A      1.06s\n",
      "  47    10.08         0.425969       10          0.10658              N/A      0.72s\n",
      "  48     9.86         0.402405       10          0.10658              N/A      0.36s\n",
      "  49    10.02         0.397879       10          0.10658              N/A      0.00s\n"
     ]
    }
   ],
   "source": [
    "from gplearn.genetic import SymbolicRegressor\n",
    "from gplearn.functions import make_function\n",
    "import numpy as np\n",
    "import os\n",
    "import graphviz\n",
    "def _exp(x):\n",
    "    return np.exp(x)\n",
    "exp = make_function(function=_exp,\n",
    "                        name='exp',\n",
    "                        arity=1)\n",
    "# function nodes\n",
    "function_set = ['add', 'sub', 'mul', 'div', 'sin', \"cos\", \"log\", exp]\n",
    "# init_depth means depth range for initial generation\n",
    "gp = SymbolicRegressor(population_size=1000,\n",
    "                        generations=50,\n",
    "                        p_crossover=0.7,\n",
    "                        p_subtree_mutation=0.,\n",
    "                        p_hoist_mutation=0.,\n",
    "                        p_point_mutation=0.,\n",
    "                        stopping_criteria=0.01,\n",
    "                        verbose=1,\n",
    "                        parsimony_coefficient=0.01, \n",
    "                        function_set=function_set)\n",
    "\n",
    "# Get Data\n",
    "data = np.genfromtxt(\"data.csv\", delimiter=\",\")\n",
    "x_train = data[:,0].reshape(-1,1)\n",
    "y_train = data[:,1]\n",
    "\n",
    "gp.fit(x_train, y_train)\n",
    "predictions = gp.predict(x_train)"
   ]
  },
  {
   "cell_type": "code",
   "execution_count": 5,
   "metadata": {},
   "outputs": [
    {
     "name": "stdout",
     "output_type": "stream",
     "text": [
      "[ 1.58533775e-02 -2.20750334e-03 -2.34985020e-02 -4.67197269e-02\n",
      " -6.99143795e-02 -9.03859189e-02 -1.04633239e-01 -1.08311415e-01\n",
      " -9.62259118e-02 -6.23681629e-02  0.00000000e+00  9.82064846e-02\n",
      "  2.39968511e-01  4.33128524e-01  6.85325978e-01  1.00360777e+00\n",
      "  1.39398384e+00  1.86093875e+00  2.40691450e+00  3.03178471e+00\n",
      "  3.73234472e+00]\n"
     ]
    }
   ],
   "source": [
    "print(predictions)"
   ]
  },
  {
   "cell_type": "code",
   "execution_count": 6,
   "metadata": {},
   "outputs": [
    {
     "data": {
      "image/svg+xml": "<?xml version=\"1.0\" encoding=\"UTF-8\" standalone=\"no\"?>\n<!DOCTYPE svg PUBLIC \"-//W3C//DTD SVG 1.1//EN\"\n \"http://www.w3.org/Graphics/SVG/1.1/DTD/svg11.dtd\">\n<!-- Generated by graphviz version 2.41.20170921.1950 (20170921.1950)\n -->\n<!-- Title: program Pages: 1 -->\n<svg width=\"214pt\" height=\"332pt\"\n viewBox=\"0.00 0.00 214.00 332.00\" xmlns=\"http://www.w3.org/2000/svg\" xmlns:xlink=\"http://www.w3.org/1999/xlink\">\n<g id=\"graph0\" class=\"graph\" transform=\"scale(1 1) rotate(0) translate(4 328)\">\n<title>program</title>\n<polygon fill=\"white\" stroke=\"transparent\" points=\"-4,4 -4,-328 210,-328 210,4 -4,4\"/>\n<!-- 0 -->\n<g id=\"node1\" class=\"node\">\n<title>0</title>\n<ellipse fill=\"#136ed4\" stroke=\"black\" cx=\"67\" cy=\"-306\" rx=\"27\" ry=\"18\"/>\n<text text-anchor=\"middle\" x=\"67\" y=\"-302.3\" font-family=\"Times New Roman,serif\" font-size=\"14.00\">mul</text>\n</g>\n<!-- 1 -->\n<g id=\"node2\" class=\"node\">\n<title>1</title>\n<ellipse fill=\"#136ed4\" stroke=\"black\" cx=\"31\" cy=\"-234\" rx=\"27\" ry=\"18\"/>\n<text text-anchor=\"middle\" x=\"31\" y=\"-230.3\" font-family=\"Times New Roman,serif\" font-size=\"14.00\">exp</text>\n</g>\n<!-- 0&#45;&gt;1 -->\n<g id=\"edge9\" class=\"edge\">\n<title>0&#45;&gt;1</title>\n<path fill=\"none\" stroke=\"black\" d=\"M58.65,-288.76C54.29,-280.28 48.85,-269.71 43.96,-260.2\"/>\n<polygon fill=\"black\" stroke=\"black\" points=\"46.99,-258.44 39.3,-251.15 40.77,-261.64 46.99,-258.44\"/>\n</g>\n<!-- 3 -->\n<g id=\"node4\" class=\"node\">\n<title>3</title>\n<ellipse fill=\"#136ed4\" stroke=\"black\" cx=\"103\" cy=\"-234\" rx=\"27\" ry=\"18\"/>\n<text text-anchor=\"middle\" x=\"103\" y=\"-230.3\" font-family=\"Times New Roman,serif\" font-size=\"14.00\">mul</text>\n</g>\n<!-- 0&#45;&gt;3 -->\n<g id=\"edge8\" class=\"edge\">\n<title>0&#45;&gt;3</title>\n<path fill=\"none\" stroke=\"black\" d=\"M75.35,-288.76C79.71,-280.28 85.15,-269.71 90.04,-260.2\"/>\n<polygon fill=\"black\" stroke=\"black\" points=\"93.23,-261.64 94.7,-251.15 87.01,-258.44 93.23,-261.64\"/>\n</g>\n<!-- 2 -->\n<g id=\"node3\" class=\"node\">\n<title>2</title>\n<ellipse fill=\"#60a6f6\" stroke=\"black\" cx=\"31\" cy=\"-162\" rx=\"27\" ry=\"18\"/>\n<text text-anchor=\"middle\" x=\"31\" y=\"-158.3\" font-family=\"Times New Roman,serif\" font-size=\"14.00\">X0</text>\n</g>\n<!-- 1&#45;&gt;2 -->\n<g id=\"edge1\" class=\"edge\">\n<title>1&#45;&gt;2</title>\n<path fill=\"none\" stroke=\"black\" d=\"M31,-215.7C31,-207.98 31,-198.71 31,-190.11\"/>\n<polygon fill=\"black\" stroke=\"black\" points=\"34.5,-190.1 31,-180.1 27.5,-190.1 34.5,-190.1\"/>\n</g>\n<!-- 4 -->\n<g id=\"node5\" class=\"node\">\n<title>4</title>\n<ellipse fill=\"#136ed4\" stroke=\"black\" cx=\"103\" cy=\"-162\" rx=\"27\" ry=\"18\"/>\n<text text-anchor=\"middle\" x=\"103\" y=\"-158.3\" font-family=\"Times New Roman,serif\" font-size=\"14.00\">add</text>\n</g>\n<!-- 3&#45;&gt;4 -->\n<g id=\"edge7\" class=\"edge\">\n<title>3&#45;&gt;4</title>\n<path fill=\"none\" stroke=\"black\" d=\"M103,-215.7C103,-207.98 103,-198.71 103,-190.11\"/>\n<polygon fill=\"black\" stroke=\"black\" points=\"106.5,-190.1 103,-180.1 99.5,-190.1 106.5,-190.1\"/>\n</g>\n<!-- 8 -->\n<g id=\"node9\" class=\"node\">\n<title>8</title>\n<ellipse fill=\"#136ed4\" stroke=\"black\" cx=\"177\" cy=\"-162\" rx=\"27\" ry=\"18\"/>\n<text text-anchor=\"middle\" x=\"177\" y=\"-158.3\" font-family=\"Times New Roman,serif\" font-size=\"14.00\">sin</text>\n</g>\n<!-- 3&#45;&gt;8 -->\n<g id=\"edge6\" class=\"edge\">\n<title>3&#45;&gt;8</title>\n<path fill=\"none\" stroke=\"black\" d=\"M117.98,-218.83C128.51,-208.87 142.78,-195.37 154.66,-184.14\"/>\n<polygon fill=\"black\" stroke=\"black\" points=\"157.19,-186.56 162.05,-177.14 152.38,-181.47 157.19,-186.56\"/>\n</g>\n<!-- 5 -->\n<g id=\"node6\" class=\"node\">\n<title>5</title>\n<ellipse fill=\"#136ed4\" stroke=\"black\" cx=\"27\" cy=\"-90\" rx=\"27\" ry=\"18\"/>\n<text text-anchor=\"middle\" x=\"27\" y=\"-86.3\" font-family=\"Times New Roman,serif\" font-size=\"14.00\">sin</text>\n</g>\n<!-- 4&#45;&gt;5 -->\n<g id=\"edge4\" class=\"edge\">\n<title>4&#45;&gt;5</title>\n<path fill=\"none\" stroke=\"black\" d=\"M87.62,-146.83C76.8,-136.87 62.14,-123.37 49.95,-112.14\"/>\n<polygon fill=\"black\" stroke=\"black\" points=\"52.08,-109.34 42.36,-105.14 47.34,-114.49 52.08,-109.34\"/>\n</g>\n<!-- 7 -->\n<g id=\"node8\" class=\"node\">\n<title>7</title>\n<ellipse fill=\"#60a6f6\" stroke=\"black\" cx=\"103\" cy=\"-90\" rx=\"30.59\" ry=\"18\"/>\n<text text-anchor=\"middle\" x=\"103\" y=\"-86.3\" font-family=\"Times New Roman,serif\" font-size=\"14.00\">0.790</text>\n</g>\n<!-- 4&#45;&gt;7 -->\n<g id=\"edge3\" class=\"edge\">\n<title>4&#45;&gt;7</title>\n<path fill=\"none\" stroke=\"black\" d=\"M103,-143.7C103,-135.98 103,-126.71 103,-118.11\"/>\n<polygon fill=\"black\" stroke=\"black\" points=\"106.5,-118.1 103,-108.1 99.5,-118.1 106.5,-118.1\"/>\n</g>\n<!-- 6 -->\n<g id=\"node7\" class=\"node\">\n<title>6</title>\n<ellipse fill=\"#60a6f6\" stroke=\"black\" cx=\"27\" cy=\"-18\" rx=\"27\" ry=\"18\"/>\n<text text-anchor=\"middle\" x=\"27\" y=\"-14.3\" font-family=\"Times New Roman,serif\" font-size=\"14.00\">X0</text>\n</g>\n<!-- 5&#45;&gt;6 -->\n<g id=\"edge2\" class=\"edge\">\n<title>5&#45;&gt;6</title>\n<path fill=\"none\" stroke=\"black\" d=\"M27,-71.7C27,-63.98 27,-54.71 27,-46.11\"/>\n<polygon fill=\"black\" stroke=\"black\" points=\"30.5,-46.1 27,-36.1 23.5,-46.1 30.5,-46.1\"/>\n</g>\n<!-- 9 -->\n<g id=\"node10\" class=\"node\">\n<title>9</title>\n<ellipse fill=\"#60a6f6\" stroke=\"black\" cx=\"179\" cy=\"-90\" rx=\"27\" ry=\"18\"/>\n<text text-anchor=\"middle\" x=\"179\" y=\"-86.3\" font-family=\"Times New Roman,serif\" font-size=\"14.00\">X0</text>\n</g>\n<!-- 8&#45;&gt;9 -->\n<g id=\"edge5\" class=\"edge\">\n<title>8&#45;&gt;9</title>\n<path fill=\"none\" stroke=\"black\" d=\"M177.49,-143.7C177.71,-135.98 177.98,-126.71 178.23,-118.11\"/>\n<polygon fill=\"black\" stroke=\"black\" points=\"181.72,-118.2 178.51,-108.1 174.73,-118 181.72,-118.2\"/>\n</g>\n</g>\n</svg>\n",
      "text/plain": [
       "<graphviz.sources.Source at 0x2af87ef1f40>"
      ]
     },
     "execution_count": 6,
     "metadata": {},
     "output_type": "execute_result"
    }
   ],
   "source": [
    "dot_data = gp._program.export_graphviz()\n",
    "graph = graphviz.Source(dot_data)\n",
    "graph"
   ]
  },
  {
   "cell_type": "code",
   "execution_count": null,
   "metadata": {},
   "outputs": [],
   "source": []
  }
 ],
 "metadata": {
  "interpreter": {
   "hash": "2741cac713f42d9b83073bbc7ba0c967fcf3d886dedc3c40b64d8f3c8efd59a9"
  },
  "kernelspec": {
   "display_name": "Python 3.8.8 ('base')",
   "language": "python",
   "name": "python3"
  },
  "language_info": {
   "codemirror_mode": {
    "name": "ipython",
    "version": 3
   },
   "file_extension": ".py",
   "mimetype": "text/x-python",
   "name": "python",
   "nbconvert_exporter": "python",
   "pygments_lexer": "ipython3",
   "version": "3.8.8"
  },
  "orig_nbformat": 4
 },
 "nbformat": 4,
 "nbformat_minor": 2
}

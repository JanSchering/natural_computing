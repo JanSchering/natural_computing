{
 "cells": [
  {
   "cell_type": "code",
   "execution_count": 5,
   "metadata": {},
   "outputs": [],
   "source": [
    "import numpy as np\n",
    "from typing import List, Tuple\n",
    "from os import path, getcwd\n",
    "import random"
   ]
  },
  {
   "cell_type": "markdown",
   "metadata": {},
   "source": [
    "(a) Implement a variant of this algorithm based on memetic algorithms (MAs). Use\n",
    "the 2-opt algorithm as local search technique in the memetic algorithm. The\n",
    "2-opt algorithm tries to swap all pairs of cities to see if this improves the length\n",
    "of the tour (see, e.g. https://en.wikipedia.org/wiki/2-opt)."
   ]
  },
  {
   "cell_type": "code",
   "execution_count": 6,
   "metadata": {},
   "outputs": [],
   "source": [
    "cities_path = path.join(getcwd(), \"file-tsp.txt\")\n",
    "\n",
    "candidate: List[int]\n",
    "\n",
    "def eval_fitness(x, distance):\n",
    "    return 1/distance\n",
    "\n",
    "def get_cities():\n",
    "    return np.genfromtxt(cities_path)"
   ]
  },
  {
   "cell_type": "code",
   "execution_count": 16,
   "metadata": {},
   "outputs": [
    {
     "name": "stdout",
     "output_type": "stream",
     "text": [
      "[]\n",
      "[]\n",
      "[5 7 6 8 1 3 4 2]\n"
     ]
    },
    {
     "data": {
      "text/plain": [
       "(array([2., 5., 7., 6., 8., 1., 3., 4.]),\n",
       " array([3., 5., 7., 2., 1., 6., 4., 8.]))"
      ]
     },
     "execution_count": 16,
     "metadata": {},
     "output_type": "execute_result"
    }
   ],
   "source": [
    "def order_for_search(x:List[int], cut_point1:int, cut_point2:int) -> List[int]:\n",
    "    \"\"\"\n",
    "    HELPER-FUNCTION: Orders the phenotype around the crossover points in order to simplify the merging.\n",
    "    \"\"\"\n",
    "    return np.concatenate((x[cut_point2:], x[0:cut_point2]))\n",
    "\n",
    "def produce_offspring(search_dig:List[int], cut_seq:List[int], cut_points:Tuple[int,int], phen_length:int) -> List[int]:\n",
    "    offspring = np.zeros(phen_length)\n",
    "    p1, p2 = cut_points\n",
    "    offspring[p1:p2] = cut_seq\n",
    "    for i in range(p2, phen_length):\n",
    "        for digit in search_dig:\n",
    "            if not digit in offspring:\n",
    "                offspring[i] = digit\n",
    "                break\n",
    "    for i in range(0, p1):\n",
    "        for digit in search_dig:\n",
    "            if not digit in offspring:\n",
    "                offspring[i] = digit\n",
    "                break\n",
    "    return offspring\n",
    "\n",
    "def crossover(candidate1:List[int], candidate2: List[int]) -> Tuple[List[int], List[int]]:\n",
    "    cut_point1 = random.randint(0, len(candidate1)-1)\n",
    "    cut_point2 = random.randint(cut_point1, len(candidate1))\n",
    "    seq_1 = candidate1[cut_point1:cut_point2]\n",
    "    seq_2 = candidate2[cut_point1:cut_point2]\n",
    "\n",
    "    parent1_search_dig = order_for_search(candidate1, cut_point1, cut_point2)\n",
    "    parent2_search_dig = order_for_search(candidate2, cut_point1, cut_point2)\n",
    "\n",
    "    phen_length = len(candidate1)\n",
    "\n",
    "    offspring_1 = produce_offspring(parent2_search_dig, seq_1, (cut_point1, cut_point2), phen_length)\n",
    "    offspring_2 = produce_offspring(parent1_search_dig, seq_2, (cut_point1, cut_point2), phen_length)\n",
    "\n",
    "    return (offspring_1, offspring_2)\n",
    "\n",
    "crossover(np.array([3,5,7,2,1,6,4,8]), np.array([2,5,7,6,8,1,3,4]))"
   ]
  },
  {
   "cell_type": "code",
   "execution_count": 18,
   "metadata": {},
   "outputs": [
    {
     "data": {
      "text/plain": [
       "[5, 8, 6, 2, 1, 7, 3, 4]"
      ]
     },
     "execution_count": 18,
     "metadata": {},
     "output_type": "execute_result"
    }
   ],
   "source": [
    "def mutate(candidate:List[int]) -> List[int]:\n",
    "    pos1 = random.randint(0, len(candidate))\n",
    "    pos2 = random.randint(0, len(candidate))\n",
    "    while pos1 == pos2:\n",
    "        pos2 = random.randint(0, len(candidate))\n",
    "\n",
    "    mutated = candidate.copy()\n",
    "    mutated[pos1] = candidate[pos2]\n",
    "    mutated[pos2] = candidate[pos1]\n",
    "\n",
    "    return mutated\n",
    "\n",
    "#mutate([5,8,7,2,1,6,3,4])"
   ]
  },
  {
   "cell_type": "code",
   "execution_count": 37,
   "metadata": {},
   "outputs": [
    {
     "data": {
      "text/plain": [
       "array([[0, 3, 2, 1, 4],\n",
       "       [1, 4, 0, 3, 2],\n",
       "       [0, 2, 1, 4, 3],\n",
       "       [2, 3, 4, 0, 1],\n",
       "       [1, 3, 0, 2, 4],\n",
       "       [4, 3, 2, 1, 0],\n",
       "       [4, 3, 0, 2, 1],\n",
       "       [3, 2, 4, 0, 1],\n",
       "       [1, 3, 0, 2, 4],\n",
       "       [3, 2, 0, 1, 4]])"
      ]
     },
     "execution_count": 37,
     "metadata": {},
     "output_type": "execute_result"
    }
   ],
   "source": [
    "def init_population(size:int, chromosomes:int):\n",
    "    population = np.zeros((size, chromosomes), dtype=\"int\")\n",
    "    val_range = np.arange(chromosomes)\n",
    "    for i in range(size):\n",
    "        np.random.shuffle(val_range)\n",
    "        population[i] = val_range\n",
    "    \n",
    "    return population\n",
    "        "
   ]
  },
  {
   "cell_type": "code",
   "execution_count": null,
   "metadata": {},
   "outputs": [],
   "source": [
    "def tournament_select(population:np.ndarray):\n",
    "    \"\"\"Returns the index of the candidate with the highest fitness. Does binary tournament selection\"\"\"\n",
    "    cand1 = random.randint(0, len(population))\n",
    "    cand2 = random.randint(0, len(population))\n",
    "    while cand1 == cand2:\n",
    "        cand2 = random.randint(0, len(population))\n",
    "    return np.argmax(eval_fitness(cand1), eval_fitness(cand2))\n"
   ]
  },
  {
   "cell_type": "code",
   "execution_count": 46,
   "metadata": {},
   "outputs": [
    {
     "name": "stdout",
     "output_type": "stream",
     "text": [
      "[0, 1, 2]\n",
      "[6 5 4 3]\n",
      "[7, 0]\n",
      "[0. 1. 2. 6. 5. 4. 3. 7. 0.]\n"
     ]
    }
   ],
   "source": [
    "def two_opt_swap(phen:List[int], i:int, k:int) -> List[int]:\n",
    "    new_route = np.zeros(len(phen))\n",
    "    #1. take route[0] to route[i-1] and add them in order to new_route\n",
    "    new_route[0:i] = phen[0:i]\n",
    "    print(phen[0:i])\n",
    "    #2. take route[i] to route[k] and add them in reverse order to new_route\n",
    "    new_route[i:k+1] = np.flip(phen[i:k+1])\n",
    "    print(np.flip(phen[i:k+1]))\n",
    "    #3. take route[k+1] to end and add them in order to new_route\n",
    "    new_route[k+1:] = phen[k+1:]\n",
    "    print(phen[k+1:])\n",
    "    return new_route\n",
    "\n",
    "print(two_opt_swap([0,1,2,3,4,5,6,7,0], 3, 6))\n",
    "\n",
    "def two_opt_search(phen:List[int]) -> List[int]:\n",
    "    fitness = eval_fitness(phen)\n",
    "    found_better_phen = False\n",
    "    while True:\n",
    "        for i in range(len(phen)-1):\n",
    "            for k in range(i+1, len(phen)):\n",
    "                new_phen = two_opt_swap(phen, i, k)\n",
    "                new_fitness = eval_fitness(new_phen)\n",
    "                if new_fitness > fitness:\n",
    "                    phen = new_phen\n",
    "                    fitness = new_fitness\n",
    "                    found_better_phen = True \n",
    "                    break\n",
    "            if found_better_phen:\n",
    "                found_better_phen = False\n",
    "                break\n",
    "        # End local search if no progress has been made\n",
    "        if not found_better_phen:\n",
    "            break\n"
   ]
  },
  {
   "cell_type": "code",
   "execution_count": null,
   "metadata": {},
   "outputs": [],
   "source": [
    "def simple_EA():\n",
    "    pass\n",
    "\n",
    "def two_opt_MA():\n",
    "    pass"
   ]
  }
 ],
 "metadata": {
  "interpreter": {
   "hash": "2741cac713f42d9b83073bbc7ba0c967fcf3d886dedc3c40b64d8f3c8efd59a9"
  },
  "kernelspec": {
   "display_name": "Python 3.8.8 ('base')",
   "language": "python",
   "name": "python3"
  },
  "language_info": {
   "codemirror_mode": {
    "name": "ipython",
    "version": 3
   },
   "file_extension": ".py",
   "mimetype": "text/x-python",
   "name": "python",
   "nbconvert_exporter": "python",
   "pygments_lexer": "ipython3",
   "version": "3.8.8"
  },
  "orig_nbformat": 4
 },
 "nbformat": 4,
 "nbformat_minor": 2
}
